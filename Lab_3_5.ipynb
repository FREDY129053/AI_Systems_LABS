{
  "nbformat": 4,
  "nbformat_minor": 0,
  "metadata": {
    "colab": {
      "provenance": [],
      "authorship_tag": "ABX9TyPE+lRAPaJi3HLLXdCLsWNx",
      "include_colab_link": true
    },
    "kernelspec": {
      "name": "python3",
      "display_name": "Python 3"
    },
    "language_info": {
      "name": "python"
    }
  },
  "cells": [
    {
      "cell_type": "markdown",
      "metadata": {
        "id": "view-in-github",
        "colab_type": "text"
      },
      "source": [
        "<a href=\"https://colab.research.google.com/github/FREDY129053/AI_Systems_LABS/blob/main/Lab_3_5.ipynb\" target=\"_parent\"><img src=\"https://colab.research.google.com/assets/colab-badge.svg\" alt=\"Open In Colab\"/></a>"
      ]
    },
    {
      "cell_type": "markdown",
      "source": [
        "# Лаба 3.5: Метод опорных векторов"
      ],
      "metadata": {
        "id": "nU9T-F4d0c-5"
      }
    },
    {
      "cell_type": "markdown",
      "source": [
        "## Получение данных"
      ],
      "metadata": {
        "id": "yxBZjlfM6SgD"
      }
    },
    {
      "cell_type": "code",
      "source": [
        "!pip install ucimlrepo"
      ],
      "metadata": {
        "colab": {
          "base_uri": "https://localhost:8080/"
        },
        "collapsed": true,
        "id": "d41g9o466UEc",
        "outputId": "1f84193b-b3d2-4f9f-fea4-0dcc9c50da35"
      },
      "execution_count": 1,
      "outputs": [
        {
          "output_type": "stream",
          "name": "stdout",
          "text": [
            "Collecting ucimlrepo\n",
            "  Downloading ucimlrepo-0.0.7-py3-none-any.whl.metadata (5.5 kB)\n",
            "Requirement already satisfied: pandas>=1.0.0 in /usr/local/lib/python3.12/dist-packages (from ucimlrepo) (2.2.2)\n",
            "Requirement already satisfied: certifi>=2020.12.5 in /usr/local/lib/python3.12/dist-packages (from ucimlrepo) (2025.10.5)\n",
            "Requirement already satisfied: numpy>=1.26.0 in /usr/local/lib/python3.12/dist-packages (from pandas>=1.0.0->ucimlrepo) (2.0.2)\n",
            "Requirement already satisfied: python-dateutil>=2.8.2 in /usr/local/lib/python3.12/dist-packages (from pandas>=1.0.0->ucimlrepo) (2.9.0.post0)\n",
            "Requirement already satisfied: pytz>=2020.1 in /usr/local/lib/python3.12/dist-packages (from pandas>=1.0.0->ucimlrepo) (2025.2)\n",
            "Requirement already satisfied: tzdata>=2022.7 in /usr/local/lib/python3.12/dist-packages (from pandas>=1.0.0->ucimlrepo) (2025.2)\n",
            "Requirement already satisfied: six>=1.5 in /usr/local/lib/python3.12/dist-packages (from python-dateutil>=2.8.2->pandas>=1.0.0->ucimlrepo) (1.17.0)\n",
            "Downloading ucimlrepo-0.0.7-py3-none-any.whl (8.0 kB)\n",
            "Installing collected packages: ucimlrepo\n",
            "Successfully installed ucimlrepo-0.0.7\n"
          ]
        }
      ]
    },
    {
      "cell_type": "code",
      "source": [
        "from ucimlrepo import fetch_ucirepo\n",
        "\n",
        "# fetch dataset\n",
        "banknote_authentication = fetch_ucirepo(id=267)\n",
        "\n",
        "df = banknote_authentication.data.original\n",
        "print(f\"Размерность данных: {df.shape}\")\n",
        "df.head()"
      ],
      "metadata": {
        "colab": {
          "base_uri": "https://localhost:8080/",
          "height": 226
        },
        "collapsed": true,
        "id": "S8wedVYR6s0j",
        "outputId": "6f4c92f7-bd2f-45d7-edb8-aa8ebadec53a"
      },
      "execution_count": 2,
      "outputs": [
        {
          "output_type": "stream",
          "name": "stdout",
          "text": [
            "Размерность данных: (1372, 5)\n"
          ]
        },
        {
          "output_type": "execute_result",
          "data": {
            "text/plain": [
              "   variance  skewness  curtosis  entropy  class\n",
              "0   3.62160    8.6661   -2.8073 -0.44699      0\n",
              "1   4.54590    8.1674   -2.4586 -1.46210      0\n",
              "2   3.86600   -2.6383    1.9242  0.10645      0\n",
              "3   3.45660    9.5228   -4.0112 -3.59440      0\n",
              "4   0.32924   -4.4552    4.5718 -0.98880      0"
            ],
            "text/html": [
              "\n",
              "  <div id=\"df-ccc84f4c-54f8-47aa-a04b-f26721b2829d\" class=\"colab-df-container\">\n",
              "    <div>\n",
              "<style scoped>\n",
              "    .dataframe tbody tr th:only-of-type {\n",
              "        vertical-align: middle;\n",
              "    }\n",
              "\n",
              "    .dataframe tbody tr th {\n",
              "        vertical-align: top;\n",
              "    }\n",
              "\n",
              "    .dataframe thead th {\n",
              "        text-align: right;\n",
              "    }\n",
              "</style>\n",
              "<table border=\"1\" class=\"dataframe\">\n",
              "  <thead>\n",
              "    <tr style=\"text-align: right;\">\n",
              "      <th></th>\n",
              "      <th>variance</th>\n",
              "      <th>skewness</th>\n",
              "      <th>curtosis</th>\n",
              "      <th>entropy</th>\n",
              "      <th>class</th>\n",
              "    </tr>\n",
              "  </thead>\n",
              "  <tbody>\n",
              "    <tr>\n",
              "      <th>0</th>\n",
              "      <td>3.62160</td>\n",
              "      <td>8.6661</td>\n",
              "      <td>-2.8073</td>\n",
              "      <td>-0.44699</td>\n",
              "      <td>0</td>\n",
              "    </tr>\n",
              "    <tr>\n",
              "      <th>1</th>\n",
              "      <td>4.54590</td>\n",
              "      <td>8.1674</td>\n",
              "      <td>-2.4586</td>\n",
              "      <td>-1.46210</td>\n",
              "      <td>0</td>\n",
              "    </tr>\n",
              "    <tr>\n",
              "      <th>2</th>\n",
              "      <td>3.86600</td>\n",
              "      <td>-2.6383</td>\n",
              "      <td>1.9242</td>\n",
              "      <td>0.10645</td>\n",
              "      <td>0</td>\n",
              "    </tr>\n",
              "    <tr>\n",
              "      <th>3</th>\n",
              "      <td>3.45660</td>\n",
              "      <td>9.5228</td>\n",
              "      <td>-4.0112</td>\n",
              "      <td>-3.59440</td>\n",
              "      <td>0</td>\n",
              "    </tr>\n",
              "    <tr>\n",
              "      <th>4</th>\n",
              "      <td>0.32924</td>\n",
              "      <td>-4.4552</td>\n",
              "      <td>4.5718</td>\n",
              "      <td>-0.98880</td>\n",
              "      <td>0</td>\n",
              "    </tr>\n",
              "  </tbody>\n",
              "</table>\n",
              "</div>\n",
              "    <div class=\"colab-df-buttons\">\n",
              "\n",
              "  <div class=\"colab-df-container\">\n",
              "    <button class=\"colab-df-convert\" onclick=\"convertToInteractive('df-ccc84f4c-54f8-47aa-a04b-f26721b2829d')\"\n",
              "            title=\"Convert this dataframe to an interactive table.\"\n",
              "            style=\"display:none;\">\n",
              "\n",
              "  <svg xmlns=\"http://www.w3.org/2000/svg\" height=\"24px\" viewBox=\"0 -960 960 960\">\n",
              "    <path d=\"M120-120v-720h720v720H120Zm60-500h600v-160H180v160Zm220 220h160v-160H400v160Zm0 220h160v-160H400v160ZM180-400h160v-160H180v160Zm440 0h160v-160H620v160ZM180-180h160v-160H180v160Zm440 0h160v-160H620v160Z\"/>\n",
              "  </svg>\n",
              "    </button>\n",
              "\n",
              "  <style>\n",
              "    .colab-df-container {\n",
              "      display:flex;\n",
              "      gap: 12px;\n",
              "    }\n",
              "\n",
              "    .colab-df-convert {\n",
              "      background-color: #E8F0FE;\n",
              "      border: none;\n",
              "      border-radius: 50%;\n",
              "      cursor: pointer;\n",
              "      display: none;\n",
              "      fill: #1967D2;\n",
              "      height: 32px;\n",
              "      padding: 0 0 0 0;\n",
              "      width: 32px;\n",
              "    }\n",
              "\n",
              "    .colab-df-convert:hover {\n",
              "      background-color: #E2EBFA;\n",
              "      box-shadow: 0px 1px 2px rgba(60, 64, 67, 0.3), 0px 1px 3px 1px rgba(60, 64, 67, 0.15);\n",
              "      fill: #174EA6;\n",
              "    }\n",
              "\n",
              "    .colab-df-buttons div {\n",
              "      margin-bottom: 4px;\n",
              "    }\n",
              "\n",
              "    [theme=dark] .colab-df-convert {\n",
              "      background-color: #3B4455;\n",
              "      fill: #D2E3FC;\n",
              "    }\n",
              "\n",
              "    [theme=dark] .colab-df-convert:hover {\n",
              "      background-color: #434B5C;\n",
              "      box-shadow: 0px 1px 3px 1px rgba(0, 0, 0, 0.15);\n",
              "      filter: drop-shadow(0px 1px 2px rgba(0, 0, 0, 0.3));\n",
              "      fill: #FFFFFF;\n",
              "    }\n",
              "  </style>\n",
              "\n",
              "    <script>\n",
              "      const buttonEl =\n",
              "        document.querySelector('#df-ccc84f4c-54f8-47aa-a04b-f26721b2829d button.colab-df-convert');\n",
              "      buttonEl.style.display =\n",
              "        google.colab.kernel.accessAllowed ? 'block' : 'none';\n",
              "\n",
              "      async function convertToInteractive(key) {\n",
              "        const element = document.querySelector('#df-ccc84f4c-54f8-47aa-a04b-f26721b2829d');\n",
              "        const dataTable =\n",
              "          await google.colab.kernel.invokeFunction('convertToInteractive',\n",
              "                                                    [key], {});\n",
              "        if (!dataTable) return;\n",
              "\n",
              "        const docLinkHtml = 'Like what you see? Visit the ' +\n",
              "          '<a target=\"_blank\" href=https://colab.research.google.com/notebooks/data_table.ipynb>data table notebook</a>'\n",
              "          + ' to learn more about interactive tables.';\n",
              "        element.innerHTML = '';\n",
              "        dataTable['output_type'] = 'display_data';\n",
              "        await google.colab.output.renderOutput(dataTable, element);\n",
              "        const docLink = document.createElement('div');\n",
              "        docLink.innerHTML = docLinkHtml;\n",
              "        element.appendChild(docLink);\n",
              "      }\n",
              "    </script>\n",
              "  </div>\n",
              "\n",
              "\n",
              "    <div id=\"df-7dc388b8-c1c9-4e77-b9a3-e068e6f3df61\">\n",
              "      <button class=\"colab-df-quickchart\" onclick=\"quickchart('df-7dc388b8-c1c9-4e77-b9a3-e068e6f3df61')\"\n",
              "                title=\"Suggest charts\"\n",
              "                style=\"display:none;\">\n",
              "\n",
              "<svg xmlns=\"http://www.w3.org/2000/svg\" height=\"24px\"viewBox=\"0 0 24 24\"\n",
              "     width=\"24px\">\n",
              "    <g>\n",
              "        <path d=\"M19 3H5c-1.1 0-2 .9-2 2v14c0 1.1.9 2 2 2h14c1.1 0 2-.9 2-2V5c0-1.1-.9-2-2-2zM9 17H7v-7h2v7zm4 0h-2V7h2v10zm4 0h-2v-4h2v4z\"/>\n",
              "    </g>\n",
              "</svg>\n",
              "      </button>\n",
              "\n",
              "<style>\n",
              "  .colab-df-quickchart {\n",
              "      --bg-color: #E8F0FE;\n",
              "      --fill-color: #1967D2;\n",
              "      --hover-bg-color: #E2EBFA;\n",
              "      --hover-fill-color: #174EA6;\n",
              "      --disabled-fill-color: #AAA;\n",
              "      --disabled-bg-color: #DDD;\n",
              "  }\n",
              "\n",
              "  [theme=dark] .colab-df-quickchart {\n",
              "      --bg-color: #3B4455;\n",
              "      --fill-color: #D2E3FC;\n",
              "      --hover-bg-color: #434B5C;\n",
              "      --hover-fill-color: #FFFFFF;\n",
              "      --disabled-bg-color: #3B4455;\n",
              "      --disabled-fill-color: #666;\n",
              "  }\n",
              "\n",
              "  .colab-df-quickchart {\n",
              "    background-color: var(--bg-color);\n",
              "    border: none;\n",
              "    border-radius: 50%;\n",
              "    cursor: pointer;\n",
              "    display: none;\n",
              "    fill: var(--fill-color);\n",
              "    height: 32px;\n",
              "    padding: 0;\n",
              "    width: 32px;\n",
              "  }\n",
              "\n",
              "  .colab-df-quickchart:hover {\n",
              "    background-color: var(--hover-bg-color);\n",
              "    box-shadow: 0 1px 2px rgba(60, 64, 67, 0.3), 0 1px 3px 1px rgba(60, 64, 67, 0.15);\n",
              "    fill: var(--button-hover-fill-color);\n",
              "  }\n",
              "\n",
              "  .colab-df-quickchart-complete:disabled,\n",
              "  .colab-df-quickchart-complete:disabled:hover {\n",
              "    background-color: var(--disabled-bg-color);\n",
              "    fill: var(--disabled-fill-color);\n",
              "    box-shadow: none;\n",
              "  }\n",
              "\n",
              "  .colab-df-spinner {\n",
              "    border: 2px solid var(--fill-color);\n",
              "    border-color: transparent;\n",
              "    border-bottom-color: var(--fill-color);\n",
              "    animation:\n",
              "      spin 1s steps(1) infinite;\n",
              "  }\n",
              "\n",
              "  @keyframes spin {\n",
              "    0% {\n",
              "      border-color: transparent;\n",
              "      border-bottom-color: var(--fill-color);\n",
              "      border-left-color: var(--fill-color);\n",
              "    }\n",
              "    20% {\n",
              "      border-color: transparent;\n",
              "      border-left-color: var(--fill-color);\n",
              "      border-top-color: var(--fill-color);\n",
              "    }\n",
              "    30% {\n",
              "      border-color: transparent;\n",
              "      border-left-color: var(--fill-color);\n",
              "      border-top-color: var(--fill-color);\n",
              "      border-right-color: var(--fill-color);\n",
              "    }\n",
              "    40% {\n",
              "      border-color: transparent;\n",
              "      border-right-color: var(--fill-color);\n",
              "      border-top-color: var(--fill-color);\n",
              "    }\n",
              "    60% {\n",
              "      border-color: transparent;\n",
              "      border-right-color: var(--fill-color);\n",
              "    }\n",
              "    80% {\n",
              "      border-color: transparent;\n",
              "      border-right-color: var(--fill-color);\n",
              "      border-bottom-color: var(--fill-color);\n",
              "    }\n",
              "    90% {\n",
              "      border-color: transparent;\n",
              "      border-bottom-color: var(--fill-color);\n",
              "    }\n",
              "  }\n",
              "</style>\n",
              "\n",
              "      <script>\n",
              "        async function quickchart(key) {\n",
              "          const quickchartButtonEl =\n",
              "            document.querySelector('#' + key + ' button');\n",
              "          quickchartButtonEl.disabled = true;  // To prevent multiple clicks.\n",
              "          quickchartButtonEl.classList.add('colab-df-spinner');\n",
              "          try {\n",
              "            const charts = await google.colab.kernel.invokeFunction(\n",
              "                'suggestCharts', [key], {});\n",
              "          } catch (error) {\n",
              "            console.error('Error during call to suggestCharts:', error);\n",
              "          }\n",
              "          quickchartButtonEl.classList.remove('colab-df-spinner');\n",
              "          quickchartButtonEl.classList.add('colab-df-quickchart-complete');\n",
              "        }\n",
              "        (() => {\n",
              "          let quickchartButtonEl =\n",
              "            document.querySelector('#df-7dc388b8-c1c9-4e77-b9a3-e068e6f3df61 button');\n",
              "          quickchartButtonEl.style.display =\n",
              "            google.colab.kernel.accessAllowed ? 'block' : 'none';\n",
              "        })();\n",
              "      </script>\n",
              "    </div>\n",
              "    </div>\n",
              "  </div>\n"
            ],
            "application/vnd.google.colaboratory.intrinsic+json": {
              "type": "dataframe",
              "variable_name": "df",
              "summary": "{\n  \"name\": \"df\",\n  \"rows\": 1372,\n  \"fields\": [\n    {\n      \"column\": \"variance\",\n      \"properties\": {\n        \"dtype\": \"number\",\n        \"std\": 2.842762586278562,\n        \"min\": -7.0421,\n        \"max\": 6.8248,\n        \"num_unique_values\": 1338,\n        \"samples\": [\n          -2.286,\n          -0.539,\n          0.89512\n        ],\n        \"semantic_type\": \"\",\n        \"description\": \"\"\n      }\n    },\n    {\n      \"column\": \"skewness\",\n      \"properties\": {\n        \"dtype\": \"number\",\n        \"std\": 5.869046743695522,\n        \"min\": -13.7731,\n        \"max\": 12.9516,\n        \"num_unique_values\": 1256,\n        \"samples\": [\n          11.2217,\n          -4.6145,\n          6.1499\n        ],\n        \"semantic_type\": \"\",\n        \"description\": \"\"\n      }\n    },\n    {\n      \"column\": \"curtosis\",\n      \"properties\": {\n        \"dtype\": \"number\",\n        \"std\": 4.310030090106595,\n        \"min\": -5.2861,\n        \"max\": 17.9274,\n        \"num_unique_values\": 1270,\n        \"samples\": [\n          7.8981,\n          9.8208,\n          0.20021\n        ],\n        \"semantic_type\": \"\",\n        \"description\": \"\"\n      }\n    },\n    {\n      \"column\": \"entropy\",\n      \"properties\": {\n        \"dtype\": \"number\",\n        \"std\": 2.1010131373596095,\n        \"min\": -8.5482,\n        \"max\": 2.4495,\n        \"num_unique_values\": 1156,\n        \"samples\": [\n          1.0271,\n          0.90946,\n          -0.026738\n        ],\n        \"semantic_type\": \"\",\n        \"description\": \"\"\n      }\n    },\n    {\n      \"column\": \"class\",\n      \"properties\": {\n        \"dtype\": \"number\",\n        \"std\": 0,\n        \"min\": 0,\n        \"max\": 1,\n        \"num_unique_values\": 2,\n        \"samples\": [\n          1,\n          0\n        ],\n        \"semantic_type\": \"\",\n        \"description\": \"\"\n      }\n    }\n  ]\n}"
            }
          },
          "metadata": {},
          "execution_count": 2
        }
      ]
    },
    {
      "cell_type": "markdown",
      "source": [
        "## Практические задания"
      ],
      "metadata": {
        "id": "kO0rxjMV7Z5x"
      }
    },
    {
      "cell_type": "markdown",
      "source": [
        "### 1. Проанализировать разные результаты для набора данных BanknoteAuthentification, в чём разница базовых настроек алгоритма в разных инструментах?"
      ],
      "metadata": {
        "id": "SVNJ_4PV7bd7"
      }
    },
    {
      "cell_type": "code",
      "source": [
        "df_copy = df.copy()\n",
        "\n",
        "X = df_copy.drop('class', axis=1)\n",
        "y = df_copy['class']\n",
        "print(f\"Размер X = {X.shape}\")\n",
        "print(f\"Размер y = {y.shape}\")"
      ],
      "metadata": {
        "colab": {
          "base_uri": "https://localhost:8080/"
        },
        "id": "Lb7JeqqS-hhU",
        "outputId": "3ac9a45a-ebba-4f8c-9fe2-0671db4c626f"
      },
      "execution_count": 5,
      "outputs": [
        {
          "output_type": "stream",
          "name": "stdout",
          "text": [
            "Размер X = (1372, 4)\n",
            "Размер y = (1372,)\n"
          ]
        }
      ]
    },
    {
      "cell_type": "code",
      "source": [
        "import pandas as pd\n",
        "\n",
        "df_class_0 = df[df['class'] == 0]\n",
        "df_class_1 = df[df['class'] == 1]\n",
        "\n",
        "X_test_0 = df_class_0.tail(107).drop('class', axis=1)\n",
        "y_test_0 = df_class_0.tail(107)['class']\n",
        "\n",
        "X_test_1 = df_class_1.tail(119).drop('class', axis=1)\n",
        "y_test_1 = df_class_1.tail(119)['class']\n",
        "\n",
        "X_test = pd.concat([X_test_0, X_test_1])\n",
        "y_test = pd.concat([y_test_0, y_test_1])\n",
        "\n",
        "X_train = df.drop(X_test.index).drop('class', axis=1)\n",
        "y_train = df.drop(X_test.index)['class']\n",
        "\n",
        "print(f\"Размер обучающей выборки X_train: {X_train.shape}\")\n",
        "print(f\"Размер обучающей выборки y_train: {y_train.shape}\")\n",
        "print(f\"Размер тестовой выборки X_test: {X_test.shape}\")\n",
        "print(f\"Размер тестовой выборки y_test: {y_test.shape}\")"
      ],
      "metadata": {
        "colab": {
          "base_uri": "https://localhost:8080/"
        },
        "id": "nf0XpcX0_Odo",
        "outputId": "df86bd12-91b3-471c-f929-67ead4013572"
      },
      "execution_count": 6,
      "outputs": [
        {
          "output_type": "stream",
          "name": "stdout",
          "text": [
            "Размер обучающей выборки X_train: (1146, 4)\n",
            "Размер обучающей выборки y_train: (1146,)\n",
            "Размер тестовой выборки X_test: (226, 4)\n",
            "Размер тестовой выборки y_test: (226,)\n"
          ]
        }
      ]
    },
    {
      "cell_type": "markdown",
      "source": [
        "#### SVC из Sklearn"
      ],
      "metadata": {
        "id": "Xw0gSztJ_oLt"
      }
    },
    {
      "cell_type": "code",
      "source": [
        "from sklearn.svm import SVC\n",
        "from sklearn.metrics import accuracy_score\n",
        "\n",
        "classifier_sklearn = SVC(kernel='rbf', max_iter=200000, cache_size=8000, random_state=42)\n",
        "\n",
        "classifier_sklearn.fit(X_train, y_train)\n",
        "\n",
        "y_pred_sklearn = classifier_sklearn.predict(X_test)\n",
        "print(f\"Accuracy = {accuracy_score(y_test, y_pred_sklearn) * 100}%\")"
      ],
      "metadata": {
        "colab": {
          "base_uri": "https://localhost:8080/"
        },
        "id": "Ru3vtLGb9I2N",
        "outputId": "a93fabd0-8b1e-48e5-fa73-19d9e1e71f1f"
      },
      "execution_count": 7,
      "outputs": [
        {
          "output_type": "stream",
          "name": "stdout",
          "text": [
            "Accuracy = 99.5575221238938%\n"
          ]
        }
      ]
    },
    {
      "cell_type": "markdown",
      "source": [
        "#### SVC PySpark"
      ],
      "metadata": {
        "id": "bHvm9QgzQJog"
      }
    },
    {
      "cell_type": "code",
      "source": [
        "from pyspark.sql import SparkSession\n",
        "from pyspark.ml.feature import VectorAssembler\n",
        "from pyspark.ml.classification import LinearSVC\n",
        "from pyspark.ml.evaluation import MulticlassClassificationEvaluator\n",
        "\n",
        "session = SparkSession.builder.appName(\"SVC\").getOrCreate()\n",
        "\n",
        "train_df_spark = session.createDataFrame(X_train.join(y_train))\n",
        "test_df_spark = session.createDataFrame(X_test.join(y_test))\n",
        "\n",
        "assembler = VectorAssembler(inputCols=X_train.columns.to_list(), outputCol=\"features\")\n",
        "train_df_spark = assembler.transform(train_df_spark)\n",
        "test_df_spark = assembler.transform(test_df_spark)\n",
        "\n",
        "svc = LinearSVC(maxIter=200000, maxBlockSizeInMB=8000, labelCol=\"class\", featuresCol=\"features\")\n",
        "model_spark = svc.fit(train_df_spark)\n",
        "\n",
        "pred = model_spark.transform(test_df_spark)\n",
        "eval = MulticlassClassificationEvaluator(labelCol=\"class\", predictionCol=\"prediction\", metricName=\"accuracy\")\n",
        "print(f\"PySpark accuracy = {eval.evaluate(pred) * 100}%\")\n",
        "\n",
        "session.stop()"
      ],
      "metadata": {
        "colab": {
          "base_uri": "https://localhost:8080/"
        },
        "id": "AoAt9ktAQHDA",
        "outputId": "2ec46c70-82ce-46b8-a4f1-04ad3102091b"
      },
      "execution_count": null,
      "outputs": [
        {
          "output_type": "stream",
          "name": "stdout",
          "text": [
            "PySpark accuracy = 99.11504424778761%\n"
          ]
        }
      ]
    },
    {
      "cell_type": "markdown",
      "source": [
        "### 2. Найти наилучшие параметры для данных BanknoteAuthentification, используя технику кросс-валидации"
      ],
      "metadata": {
        "id": "MhDy_rGACdKT"
      }
    },
    {
      "cell_type": "code",
      "source": [
        "import pandas as pd\n",
        "from sklearn.model_selection import GridSearchCV, StratifiedKFold\n",
        "from sklearn.svm import SVC\n",
        "\n",
        "model_accuracy = SVC(cache_size=8000, random_state=42)\n",
        "\n",
        "param_grid = {\n",
        "    \"kernel\": ['linear', 'poly', 'rbf', 'sigmoid'],\n",
        "    \"max_iter\": [-1, 200000, 400000]\n",
        "}\n",
        "\n",
        "grid_search = GridSearchCV(\n",
        "  estimator=model_accuracy,\n",
        "  param_grid=param_grid,\n",
        "  cv=StratifiedKFold(5),\n",
        "  scoring='accuracy',\n",
        "  n_jobs=-1\n",
        ")\n",
        "\n",
        "grid_search.fit(X_train, y_train)\n",
        "\n",
        "print(\"Best parameters for SVC found: \", grid_search.best_params_)\n",
        "print(\"Best cross-validation score: \", grid_search.best_score_)\n",
        "\n",
        "# Best parameters for SVC found:  {'kernel': 'rbf', 'max_iter': -1}\n",
        "# Best cross-validation score:  0.9965065502183407"
      ],
      "metadata": {
        "colab": {
          "base_uri": "https://localhost:8080/"
        },
        "id": "xoFJ4lc3CgkV",
        "outputId": "de84d88d-95db-429e-d544-dab64f2a4a7a"
      },
      "execution_count": 8,
      "outputs": [
        {
          "output_type": "stream",
          "name": "stdout",
          "text": [
            "Best parameters for SVC found:  {'kernel': 'rbf', 'max_iter': -1}\n",
            "Best cross-validation score:  0.9965065502183407\n"
          ]
        }
      ]
    },
    {
      "cell_type": "markdown",
      "source": [
        "#### Best params by 'roc_auc'"
      ],
      "metadata": {
        "id": "P8oWle5tXGzq"
      }
    },
    {
      "cell_type": "code",
      "source": [
        "import pandas as pd\n",
        "from sklearn.model_selection import GridSearchCV, StratifiedKFold\n",
        "from sklearn.svm import SVC\n",
        "\n",
        "model_roc_auc = SVC(cache_size=8000, random_state=42)\n",
        "\n",
        "param_grid = {\n",
        "    \"kernel\": ['linear', 'poly', 'rbf', 'sigmoid'],\n",
        "    \"max_iter\": [-1, 200000, 400000]\n",
        "}\n",
        "\n",
        "grid_search = GridSearchCV(\n",
        "  estimator=model_roc_auc,\n",
        "  param_grid=param_grid,\n",
        "  cv=StratifiedKFold(5),\n",
        "  scoring='roc_auc',\n",
        "  n_jobs=-1\n",
        ")\n",
        "\n",
        "grid_search.fit(X_train, y_train)\n",
        "\n",
        "print(\"Best parameters for SVC found: \", grid_search.best_params_)\n",
        "print(\"Best cross-validation score: \", grid_search.best_score_)\n",
        "\n",
        "# Best parameters for SVC found:  {'kernel': 'rbf', 'max_iter': -1}\n",
        "# Best cross-validation score:  1.0"
      ],
      "metadata": {
        "id": "7c44hVanXDpR",
        "outputId": "f074c425-bdf8-403d-bb3e-64947bc6816d",
        "colab": {
          "base_uri": "https://localhost:8080/"
        }
      },
      "execution_count": 9,
      "outputs": [
        {
          "output_type": "stream",
          "name": "stdout",
          "text": [
            "Best parameters for SVC found:  {'kernel': 'rbf', 'max_iter': -1}\n",
            "Best cross-validation score:  1.0\n"
          ]
        }
      ]
    },
    {
      "cell_type": "markdown",
      "source": [
        "### 3. Возможно ли улучшить точность алгоритма для данных AdultIncome, используя другие параметры (gamma, C, параметры связанные с SVM)? Подобрать параметры, дающие большую точность или показать, что для большого набора параметров точность улучшить не удаётся"
      ],
      "metadata": {
        "id": "CAULGqTgF0rg"
      }
    },
    {
      "cell_type": "code",
      "source": [
        "df['class'].value_counts()"
      ],
      "metadata": {
        "colab": {
          "base_uri": "https://localhost:8080/",
          "height": 178
        },
        "id": "jDKEgMReEh1q",
        "outputId": "d8dc2ea1-8275-4dba-e114-131f506630be"
      },
      "execution_count": 10,
      "outputs": [
        {
          "output_type": "execute_result",
          "data": {
            "text/plain": [
              "class\n",
              "0    762\n",
              "1    610\n",
              "Name: count, dtype: int64"
            ],
            "text/html": [
              "<div>\n",
              "<style scoped>\n",
              "    .dataframe tbody tr th:only-of-type {\n",
              "        vertical-align: middle;\n",
              "    }\n",
              "\n",
              "    .dataframe tbody tr th {\n",
              "        vertical-align: top;\n",
              "    }\n",
              "\n",
              "    .dataframe thead th {\n",
              "        text-align: right;\n",
              "    }\n",
              "</style>\n",
              "<table border=\"1\" class=\"dataframe\">\n",
              "  <thead>\n",
              "    <tr style=\"text-align: right;\">\n",
              "      <th></th>\n",
              "      <th>count</th>\n",
              "    </tr>\n",
              "    <tr>\n",
              "      <th>class</th>\n",
              "      <th></th>\n",
              "    </tr>\n",
              "  </thead>\n",
              "  <tbody>\n",
              "    <tr>\n",
              "      <th>0</th>\n",
              "      <td>762</td>\n",
              "    </tr>\n",
              "    <tr>\n",
              "      <th>1</th>\n",
              "      <td>610</td>\n",
              "    </tr>\n",
              "  </tbody>\n",
              "</table>\n",
              "</div><br><label><b>dtype:</b> int64</label>"
            ]
          },
          "metadata": {},
          "execution_count": 10
        }
      ]
    },
    {
      "cell_type": "markdown",
      "source": [
        "#### Tune 'accuracy' model"
      ],
      "metadata": {
        "id": "ByWqakg-X3yJ"
      }
    },
    {
      "cell_type": "code",
      "source": [
        "from sklearn.model_selection import GridSearchCV, StratifiedKFold\n",
        "\n",
        "model_accuracy_full_tune = SVC(cache_size=8000, random_state=42)\n",
        "\n",
        "param_grid = {\n",
        "    \"kernel\": ['linear', 'poly', 'rbf', 'sigmoid'],\n",
        "    \"C\": [0.5, 1.5, 2.0, 2.5],\n",
        "    \"gamma\": ['scale', 'auto', 1.0, 1.5],\n",
        "    \"degree\": [2, 3, 4],\n",
        "    \"max_iter\": [-1, 200000, 400000],\n",
        "    \"class_weight\": [None, 'balanced', {0: 762/df.shape[0], 1: 610/df.shape[0]}]\n",
        "}\n",
        "\n",
        "grid_search = GridSearchCV(\n",
        "  estimator=model_accuracy_full_tune,\n",
        "  param_grid=param_grid,\n",
        "  cv=StratifiedKFold(5),\n",
        "  scoring='accuracy',\n",
        "  n_jobs=-1\n",
        ")\n",
        "\n",
        "grid_search.fit(X_train, y_train)\n",
        "\n",
        "print(\"Best parameters for SVC more params found: \", grid_search.best_params_)\n",
        "print(\"Best cross-validation score: \", grid_search.best_score_)\n",
        "\n",
        "# Best parameters for SVC more params found:  {'C': 0.5, 'class_weight': None, 'degree': 2, 'gamma': 'auto', 'kernel': 'rbf', 'max_iter': -1}\n",
        "# Best cross-validation score:  1.0"
      ],
      "metadata": {
        "colab": {
          "base_uri": "https://localhost:8080/"
        },
        "id": "GV40ukJgF2Jx",
        "outputId": "eaf8b8ce-e891-4035-95f7-de7e20f0084c"
      },
      "execution_count": null,
      "outputs": [
        {
          "output_type": "stream",
          "name": "stdout",
          "text": [
            "Best parameters for SVC more params found:  {'C': 0.5, 'class_weight': None, 'degree': 2, 'gamma': 'auto', 'kernel': 'rbf', 'max_iter': -1}\n",
            "Best cross-validation score:  1.0\n"
          ]
        }
      ]
    },
    {
      "cell_type": "markdown",
      "source": [
        "#### Tune 'roc_auc' model"
      ],
      "metadata": {
        "id": "p55mrjHOX6ZL"
      }
    },
    {
      "cell_type": "code",
      "source": [
        "from sklearn.model_selection import GridSearchCV, StratifiedKFold\n",
        "\n",
        "model_roc_auc_full_tune = SVC(cache_size=8000, random_state=42)\n",
        "\n",
        "param_grid = {\n",
        "    \"kernel\": ['linear', 'poly', 'rbf', 'sigmoid'],\n",
        "    \"C\": [0.5, 1.5, 2.0, 2.5],\n",
        "    \"gamma\": ['scale', 'auto', 1.0, 1.5],\n",
        "    \"degree\": [2, 3, 4],\n",
        "    \"max_iter\": [-1, 200000, 400000],\n",
        "    \"class_weight\": [None, 'balanced', {0: 762/df.shape[0], 1: 610/df.shape[0]}]\n",
        "}\n",
        "\n",
        "grid_search = GridSearchCV(\n",
        "  estimator=model_roc_auc_full_tune,\n",
        "  param_grid=param_grid,\n",
        "  cv=StratifiedKFold(5),\n",
        "  scoring='roc_auc',\n",
        "  n_jobs=-1\n",
        ")\n",
        "\n",
        "grid_search.fit(X_train, y_train)\n",
        "\n",
        "print(\"Best parameters for SVC more params found: \", grid_search.best_params_)\n",
        "print(\"Best cross-validation score: \", grid_search.best_score_)\n",
        "\n",
        "# Best parameters for SVC more params found:  {'C': 0.5, 'class_weight': None, 'degree': 2, 'gamma': 'scale', 'kernel': 'rbf', 'max_iter': -1}\n",
        "# Best cross-validation score:  1.0\n",
        "# gamma: 'scale' на тестовой выборке не предсказывает 1% класса '0' (одно значение примерно)"
      ],
      "metadata": {
        "id": "jR3GT-BPXzr-",
        "outputId": "c245c7c0-48b2-4647-ba6a-432a65de4982",
        "colab": {
          "base_uri": "https://localhost:8080/"
        }
      },
      "execution_count": 11,
      "outputs": [
        {
          "output_type": "stream",
          "name": "stdout",
          "text": [
            "Best parameters for SVC more params found:  {'C': 0.5, 'class_weight': None, 'degree': 2, 'gamma': 'scale', 'kernel': 'rbf', 'max_iter': -1}\n",
            "Best cross-validation score:  1.0\n"
          ]
        }
      ]
    },
    {
      "cell_type": "markdown",
      "source": [
        "Подкрутив другие параметры можно добиться точности 100%)"
      ],
      "metadata": {
        "id": "7l-sObxqH4p9"
      }
    },
    {
      "cell_type": "code",
      "source": [
        "from sklearn.svm import SVC\n",
        "from sklearn.metrics import accuracy_score\n",
        "\n",
        "classifier_sklearn2_accurcy = SVC(C=0.5, class_weight=None, degree=2, gamma='auto', kernel='rbf', max_iter=-1, cache_size=8000, random_state=42)\n",
        "\n",
        "classifier_sklearn2_accurcy.fit(X_train, y_train)\n",
        "\n",
        "y_pred_sklearn_accuracy = classifier_sklearn2_accurcy.predict(X_test)\n",
        "print(f\"Accuracy = {accuracy_score(y_test, y_pred_sklearn_accuracy) * 100}%\")"
      ],
      "metadata": {
        "colab": {
          "base_uri": "https://localhost:8080/"
        },
        "id": "4FPHc6-pH9K-",
        "outputId": "bf2b8383-c70c-4bd0-94e3-a6ac0bced9d9"
      },
      "execution_count": 28,
      "outputs": [
        {
          "output_type": "stream",
          "name": "stdout",
          "text": [
            "Accuracy = 100.0%\n"
          ]
        }
      ]
    },
    {
      "cell_type": "code",
      "source": [
        "from sklearn.svm import SVC\n",
        "from sklearn.metrics import roc_auc_score\n",
        "\n",
        "classifier_sklearn2_roc_auc = SVC(C=0.5, class_weight=None, degree=2, gamma='auto', kernel='rbf', max_iter=-1, cache_size=8000, random_state=42)\n",
        "\n",
        "classifier_sklearn2_roc_auc.fit(X_train, y_train)\n",
        "\n",
        "y_pred_sklearn_roc_auc = classifier_sklearn2_roc_auc.predict(X_test)\n",
        "print(f\"ROC-AUC = {roc_auc_score(y_test, y_pred_sklearn_roc_auc) * 100}/1\")"
      ],
      "metadata": {
        "id": "jgDoHhnqX_k4",
        "outputId": "dc916a0e-ad1b-4bc3-98c9-5a22c7a91d9f",
        "colab": {
          "base_uri": "https://localhost:8080/"
        }
      },
      "execution_count": 29,
      "outputs": [
        {
          "output_type": "stream",
          "name": "stdout",
          "text": [
            "ROC-AUC = 100.0/1\n"
          ]
        }
      ]
    },
    {
      "cell_type": "code",
      "source": [
        "# https://muthu.co/understanding-the-classification-report-in-sklearn/\n",
        "from sklearn.metrics import classification_report\n",
        "\n",
        "print('-------------------- Accuracy Report --------------------')\n",
        "print(classification_report(y_test, y_pred_sklearn_accuracy))\n",
        "\n",
        "print('\\n-------------------- ROC-AUC Report --------------------')\n",
        "print(classification_report(y_test, y_pred_sklearn_roc_auc))"
      ],
      "metadata": {
        "id": "3BMuIWK0Zyrc",
        "outputId": "fc13b9fb-4724-46b9-9735-3dd9452b1b9b",
        "colab": {
          "base_uri": "https://localhost:8080/"
        }
      },
      "execution_count": 25,
      "outputs": [
        {
          "output_type": "stream",
          "name": "stdout",
          "text": [
            "-------------------- Accuracy Report --------------------\n",
            "              precision    recall  f1-score   support\n",
            "\n",
            "           0       1.00      1.00      1.00       107\n",
            "           1       1.00      1.00      1.00       119\n",
            "\n",
            "    accuracy                           1.00       226\n",
            "   macro avg       1.00      1.00      1.00       226\n",
            "weighted avg       1.00      1.00      1.00       226\n",
            "\n",
            "\n",
            "-------------------- ROC-AUC Report --------------------\n",
            "              precision    recall  f1-score   support\n",
            "\n",
            "           0       1.00      1.00      1.00       107\n",
            "           1       1.00      1.00      1.00       119\n",
            "\n",
            "    accuracy                           1.00       226\n",
            "   macro avg       1.00      1.00      1.00       226\n",
            "weighted avg       1.00      1.00      1.00       226\n",
            "\n"
          ]
        }
      ]
    }
  ]
}