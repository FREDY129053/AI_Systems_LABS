{
  "nbformat": 4,
  "nbformat_minor": 0,
  "metadata": {
    "colab": {
      "provenance": [],
      "authorship_tag": "ABX9TyMb6pgDFYR6MTcxEQ91zlbB",
      "include_colab_link": true
    },
    "kernelspec": {
      "name": "python3",
      "display_name": "Python 3"
    },
    "language_info": {
      "name": "python"
    }
  },
  "cells": [
    {
      "cell_type": "markdown",
      "metadata": {
        "id": "view-in-github",
        "colab_type": "text"
      },
      "source": [
        "<a href=\"https://colab.research.google.com/github/FREDY129053/AI_Systems_LABS/blob/main/Lab_3_4.ipynb\" target=\"_parent\"><img src=\"https://colab.research.google.com/assets/colab-badge.svg\" alt=\"Open In Colab\"/></a>"
      ]
    },
    {
      "cell_type": "markdown",
      "source": [
        "# Лаба 3.4: Наивный байесовский классификатор"
      ],
      "metadata": {
        "id": "UDt9EHFnBWE9"
      }
    },
    {
      "cell_type": "markdown",
      "source": [
        "## Получение данных"
      ],
      "metadata": {
        "id": "cS8l8Cn6Bdlc"
      }
    },
    {
      "cell_type": "code",
      "source": [
        "from sklearn.datasets import fetch_20newsgroups\n",
        "\n",
        "newsgroups_train = fetch_20newsgroups(\n",
        "  subset='train',\n",
        "  remove=('headers', 'footers', 'quotes')\n",
        ")\n",
        "newsgroups_test = fetch_20newsgroups(subset='test')\n",
        "news = fetch_20newsgroups(subset='all')"
      ],
      "metadata": {
        "id": "RyKRg2ZSCg0w"
      },
      "execution_count": 1,
      "outputs": []
    },
    {
      "cell_type": "markdown",
      "source": [
        "## Практические задания"
      ],
      "metadata": {
        "id": "FFqDqfH7CNeF"
      }
    },
    {
      "cell_type": "code",
      "source": [
        "from pprint import pprint\n",
        "\n",
        "# Список новостных рубрик (совпадает в обучающей и тестовой выборке)\n",
        "print(\"Число наблюдений в обучающей выборке\\n\", newsgroups_train.filenames.shape)\n",
        "print(\"Число наблюдений в тестовой выборке\\n\", newsgroups_test.filenames.shape)\n",
        "print(\"Список новостных рубрик\\n\")\n",
        "pprint(list(newsgroups_train.target_names))\n",
        "pprint(list(newsgroups_test.target_names))"
      ],
      "metadata": {
        "colab": {
          "base_uri": "https://localhost:8080/"
        },
        "id": "EeOwXE6KCPzr",
        "outputId": "8d4a41b9-b075-440e-e956-f1b9e001de10"
      },
      "execution_count": 2,
      "outputs": [
        {
          "output_type": "stream",
          "name": "stdout",
          "text": [
            "Число наблюдений в обучающей выборке\n",
            " (11314,)\n",
            "Число наблюдений в тестовой выборке\n",
            " (7532,)\n",
            "Список новостных рубрик\n",
            "\n",
            "['alt.atheism',\n",
            " 'comp.graphics',\n",
            " 'comp.os.ms-windows.misc',\n",
            " 'comp.sys.ibm.pc.hardware',\n",
            " 'comp.sys.mac.hardware',\n",
            " 'comp.windows.x',\n",
            " 'misc.forsale',\n",
            " 'rec.autos',\n",
            " 'rec.motorcycles',\n",
            " 'rec.sport.baseball',\n",
            " 'rec.sport.hockey',\n",
            " 'sci.crypt',\n",
            " 'sci.electronics',\n",
            " 'sci.med',\n",
            " 'sci.space',\n",
            " 'soc.religion.christian',\n",
            " 'talk.politics.guns',\n",
            " 'talk.politics.mideast',\n",
            " 'talk.politics.misc',\n",
            " 'talk.religion.misc']\n",
            "['alt.atheism',\n",
            " 'comp.graphics',\n",
            " 'comp.os.ms-windows.misc',\n",
            " 'comp.sys.ibm.pc.hardware',\n",
            " 'comp.sys.mac.hardware',\n",
            " 'comp.windows.x',\n",
            " 'misc.forsale',\n",
            " 'rec.autos',\n",
            " 'rec.motorcycles',\n",
            " 'rec.sport.baseball',\n",
            " 'rec.sport.hockey',\n",
            " 'sci.crypt',\n",
            " 'sci.electronics',\n",
            " 'sci.med',\n",
            " 'sci.space',\n",
            " 'soc.religion.christian',\n",
            " 'talk.politics.guns',\n",
            " 'talk.politics.mideast',\n",
            " 'talk.politics.misc',\n",
            " 'talk.religion.misc']\n"
          ]
        }
      ]
    },
    {
      "cell_type": "code",
      "source": [
        "from sklearn.feature_extraction.text import CountVectorizer\n",
        "\n",
        "# Приведение данных к document-term матрице\n",
        "# CountVectorizer используется для преобразования текстовых данных в числовые векторы.\n",
        "# Он подсчитывает частоту каждого слова в корпусе\n",
        "vectorizer = CountVectorizer()\n",
        "sparse_train = vectorizer.fit_transform(newsgroups_train.data)\n",
        "sparse_test = vectorizer.transform(newsgroups_test.data)\n",
        "\n",
        "# Размерность данных (в dense и sparse совпадает)\n",
        "print(\"Размерность обучающей выборки sparse\\n\", sparse_train.shape)\n",
        "print(\"Размерность тестовой выборки sparse\\n\", sparse_test.shape)\n",
        "# toarray() занимет ~5ГБ RAM. Больше не запускать))\n",
        "dense_train = sparse_train#.toarray()\n",
        "dense_test = sparse_test#.toarray()\n",
        "print(\"Размерностьобучающейвыборки dense\\n\", dense_train.shape)\n",
        "print(\"Размерность тестовой выборки dense\\n\", dense_test.shape)\n",
        "\n",
        "# Запуски с .toarray(). Обучение в итоге 16ГБ RAM ест\n",
        "# MNB = 0.6355549654806161\n",
        "# CLF = 0.6180297397769516"
      ],
      "metadata": {
        "colab": {
          "base_uri": "https://localhost:8080/"
        },
        "id": "XeF00CQgDBq4",
        "outputId": "26498049-6ff1-41aa-f4f9-a929ce10ca50"
      },
      "execution_count": 44,
      "outputs": [
        {
          "output_type": "stream",
          "name": "stdout",
          "text": [
            "Размерность обучающей выборки sparse\n",
            " (11314, 101631)\n",
            "Размерность тестовой выборки sparse\n",
            " (7532, 101631)\n",
            "Размерностьобучающейвыборки dense\n",
            " (11314, 101631)\n",
            "Размерность тестовой выборки dense\n",
            " (7532, 101631)\n"
          ]
        }
      ]
    },
    {
      "cell_type": "code",
      "source": [
        "from sklearn.naive_bayes import MultinomialNB, BernoulliNB\n",
        "from sklearn.metrics import classification_report, accuracy_score"
      ],
      "metadata": {
        "id": "T0r_wpW9H2zV"
      },
      "execution_count": 4,
      "outputs": []
    },
    {
      "cell_type": "code",
      "source": [
        "mnb = MultinomialNB()\n",
        "\n",
        "mnb.fit(sparse_train, newsgroups_train.target)\n",
        "pred_mnb = mnb.predict(sparse_test)\n",
        "acc_mnb = accuracy_score(newsgroups_test.target, pred_mnb, normalize=True)\n",
        "\n",
        "print(f\"Точность классификации() – доля верно классифицированных объектов из тестовой выборки = {acc_mnb}\")\n",
        "print(classification_report(newsgroups_test.target, pred_mnb, target_names=newsgroups_test.target_names))"
      ],
      "metadata": {
        "colab": {
          "base_uri": "https://localhost:8080/"
        },
        "id": "a7EdPQvQDlS4",
        "outputId": "6b1a4a02-f86c-4813-bdc0-7aebd27b75ae"
      },
      "execution_count": 5,
      "outputs": [
        {
          "output_type": "stream",
          "name": "stdout",
          "text": [
            "Точность классификации() – доля верно классифицированных объектов из тестовой выборки = 0.6355549654806161\n",
            "                          precision    recall  f1-score   support\n",
            "\n",
            "             alt.atheism       0.84      0.31      0.46       319\n",
            "           comp.graphics       0.54      0.72      0.62       389\n",
            " comp.os.ms-windows.misc       0.20      0.00      0.01       394\n",
            "comp.sys.ibm.pc.hardware       0.59      0.62      0.60       392\n",
            "   comp.sys.mac.hardware       0.97      0.38      0.55       385\n",
            "          comp.windows.x       0.39      0.89      0.54       395\n",
            "            misc.forsale       0.93      0.59      0.72       390\n",
            "               rec.autos       0.93      0.62      0.74       396\n",
            "         rec.motorcycles       1.00      0.63      0.77       398\n",
            "      rec.sport.baseball       1.00      0.63      0.78       397\n",
            "        rec.sport.hockey       0.92      0.91      0.91       399\n",
            "               sci.crypt       0.45      0.95      0.61       396\n",
            "         sci.electronics       0.75      0.39      0.52       393\n",
            "                 sci.med       0.64      0.84      0.73       396\n",
            "               sci.space       0.73      0.86      0.79       394\n",
            "  soc.religion.christian       0.49      0.93      0.64       398\n",
            "      talk.politics.guns       0.69      0.66      0.68       364\n",
            "   talk.politics.mideast       0.61      0.86      0.72       376\n",
            "      talk.politics.misc       0.51      0.53      0.52       310\n",
            "      talk.religion.misc       0.94      0.06      0.11       251\n",
            "\n",
            "                accuracy                           0.64      7532\n",
            "               macro avg       0.70      0.62      0.60      7532\n",
            "            weighted avg       0.70      0.64      0.61      7532\n",
            "\n"
          ]
        }
      ]
    },
    {
      "cell_type": "code",
      "source": [
        "clf = BernoulliNB()\n",
        "\n",
        "clf.fit(dense_train, newsgroups_train.target)\n",
        "pred_clf = clf.predict(dense_test)\n",
        "acc_clf = accuracy_score(newsgroups_test.target, pred_clf, normalize=True)\n",
        "\n",
        "print(f\"Точность классификации(BernouliNB) – доля верно классифицированных объектов из тестовой выборки  = {acc_clf}\")\n",
        "print(classification_report(newsgroups_test.target, pred_clf, target_names=newsgroups_test.target_names))"
      ],
      "metadata": {
        "colab": {
          "base_uri": "https://localhost:8080/"
        },
        "id": "8DmbzhvIHUoy",
        "outputId": "722b3c4a-683b-469c-9b69-1a86e66353c7"
      },
      "execution_count": 6,
      "outputs": [
        {
          "output_type": "stream",
          "name": "stdout",
          "text": [
            "Точность классификации(BernouliNB) – доля верно классифицированных объектов из тестовой выборки  = 0.6180297397769516\n",
            "                          precision    recall  f1-score   support\n",
            "\n",
            "             alt.atheism       1.00      0.05      0.10       319\n",
            "           comp.graphics       0.51      0.70      0.59       389\n",
            " comp.os.ms-windows.misc       0.20      0.00      0.01       394\n",
            "comp.sys.ibm.pc.hardware       0.46      0.81      0.59       392\n",
            "   comp.sys.mac.hardware       0.83      0.57      0.67       385\n",
            "          comp.windows.x       0.74      0.64      0.69       395\n",
            "            misc.forsale       0.73      0.85      0.79       390\n",
            "               rec.autos       0.64      0.82      0.71       396\n",
            "         rec.motorcycles       0.50      0.87      0.64       398\n",
            "      rec.sport.baseball       0.80      0.84      0.82       397\n",
            "        rec.sport.hockey       0.97      0.85      0.91       399\n",
            "               sci.crypt       0.59      0.76      0.66       396\n",
            "         sci.electronics       0.46      0.72      0.56       393\n",
            "                 sci.med       0.77      0.58      0.66       396\n",
            "               sci.space       0.81      0.70      0.75       394\n",
            "  soc.religion.christian       0.37      0.81      0.51       398\n",
            "      talk.politics.guns       0.70      0.55      0.62       364\n",
            "   talk.politics.mideast       0.87      0.63      0.73       376\n",
            "      talk.politics.misc       0.88      0.14      0.24       310\n",
            "      talk.religion.misc       0.00      0.00      0.00       251\n",
            "\n",
            "                accuracy                           0.62      7532\n",
            "               macro avg       0.64      0.60      0.56      7532\n",
            "            weighted avg       0.65      0.62      0.58      7532\n",
            "\n"
          ]
        },
        {
          "output_type": "stream",
          "name": "stderr",
          "text": [
            "/usr/local/lib/python3.12/dist-packages/sklearn/metrics/_classification.py:1565: UndefinedMetricWarning: Precision is ill-defined and being set to 0.0 in labels with no predicted samples. Use `zero_division` parameter to control this behavior.\n",
            "  _warn_prf(average, modifier, f\"{metric.capitalize()} is\", len(result))\n",
            "/usr/local/lib/python3.12/dist-packages/sklearn/metrics/_classification.py:1565: UndefinedMetricWarning: Precision is ill-defined and being set to 0.0 in labels with no predicted samples. Use `zero_division` parameter to control this behavior.\n",
            "  _warn_prf(average, modifier, f\"{metric.capitalize()} is\", len(result))\n",
            "/usr/local/lib/python3.12/dist-packages/sklearn/metrics/_classification.py:1565: UndefinedMetricWarning: Precision is ill-defined and being set to 0.0 in labels with no predicted samples. Use `zero_division` parameter to control this behavior.\n",
            "  _warn_prf(average, modifier, f\"{metric.capitalize()} is\", len(result))\n"
          ]
        }
      ]
    },
    {
      "cell_type": "markdown",
      "source": [
        "### Практические задания"
      ],
      "metadata": {
        "id": "4er400eQLYNA"
      }
    },
    {
      "cell_type": "markdown",
      "source": [
        "#### 1. Подобрать оптимальное значение параметра α из интервала (0, 1)"
      ],
      "metadata": {
        "id": "PmocOLknLaJX"
      }
    },
    {
      "cell_type": "code",
      "source": [
        "from sklearn.pipeline import make_pipeline\n",
        "from sklearn.model_selection import GridSearchCV, StratifiedKFold\n",
        "import numpy as np"
      ],
      "metadata": {
        "id": "W22o3siCNjLs"
      },
      "execution_count": 15,
      "outputs": []
    },
    {
      "cell_type": "code",
      "source": [
        "mnb_pipeline = make_pipeline(\n",
        "  CountVectorizer(),\n",
        "  MultinomialNB(),\n",
        ")\n",
        "\n",
        "param_grid = {\n",
        "    \"multinomialnb__alpha\": np.arange(start=0.0, stop=1.0, step=0.05).tolist()\n",
        "}\n",
        "\n",
        "grid_search = GridSearchCV(\n",
        "  estimator=mnb_pipeline,\n",
        "  param_grid=param_grid,\n",
        "  cv=StratifiedKFold(5),\n",
        "  scoring='accuracy',\n",
        "  n_jobs=-1\n",
        ")\n",
        "\n",
        "grid_search.fit(newsgroups_train.data, newsgroups_train.target)\n",
        "\n",
        "print(\"Best parameters for MNB found: \", grid_search.best_params_)\n",
        "print(\"Best cross-validation score: \", grid_search.best_score_)\n",
        "\n",
        "# Best parameters for MNB found:  {'multinomialnb__alpha': 0.05}\n",
        "# Best cross-validation score:  0.7076190107808191"
      ],
      "metadata": {
        "colab": {
          "base_uri": "https://localhost:8080/"
        },
        "id": "5V4ld3nOLZtP",
        "outputId": "9d7a5bf9-0dd4-4c9b-c28a-5ef37495648b"
      },
      "execution_count": 22,
      "outputs": [
        {
          "output_type": "stream",
          "name": "stdout",
          "text": [
            "Best parameters for MNB found:  {'multinomialnb__alpha': 0.05}\n",
            "Best cross-validation score:  0.7076190107808191\n"
          ]
        }
      ]
    },
    {
      "cell_type": "code",
      "source": [
        "clf_pipeline = make_pipeline(\n",
        "  CountVectorizer(),\n",
        "  BernoulliNB(),\n",
        ")\n",
        "\n",
        "param_grid = {\n",
        "    \"bernoullinb__alpha\": np.arange(start=0.0, stop=1.0, step=0.05).tolist()\n",
        "}\n",
        "\n",
        "grid_search = GridSearchCV(\n",
        "  estimator=clf_pipeline,\n",
        "  param_grid=param_grid,\n",
        "  cv=StratifiedKFold(5),\n",
        "  scoring='accuracy',\n",
        "  n_jobs=-1\n",
        ")\n",
        "\n",
        "grid_search.fit(newsgroups_train.data, newsgroups_train.target)\n",
        "\n",
        "print(\"Best parameters for CLF found: \", grid_search.best_params_)\n",
        "print(\"Best cross-validation score: \", grid_search.best_score_)\n",
        "\n",
        "# Best parameters for CLF found:  {'bernoullinb__alpha': 0.05}\n",
        "# Best cross-validation score:  0.590419359136503"
      ],
      "metadata": {
        "colab": {
          "base_uri": "https://localhost:8080/"
        },
        "id": "Uo-84ypgOt68",
        "outputId": "95b93125-b7e8-4712-a326-26abf813b7ca"
      },
      "execution_count": 23,
      "outputs": [
        {
          "output_type": "stream",
          "name": "stdout",
          "text": [
            "Best parameters for CLF found:  {'bernoullinb__alpha': 0.05}\n",
            "Best cross-validation score:  0.590419359136503\n"
          ]
        }
      ]
    },
    {
      "cell_type": "markdown",
      "source": [
        "#### 2. Обучить классификатор с разными априорными вероятностями классов: равными и соответствующими долям классов в обучающей выборке"
      ],
      "metadata": {
        "id": "L2znI19TQ8eE"
      }
    },
    {
      "cell_type": "code",
      "source": [
        "categories_count = {}\n",
        "for i in list(newsgroups_train.target_names):\n",
        "  t = fetch_20newsgroups(subset='all', categories=[i])\n",
        "  categories_count[i] = t.filenames.shape[0]"
      ],
      "metadata": {
        "id": "YSVPFF9FRNYM"
      },
      "execution_count": 37,
      "outputs": []
    },
    {
      "cell_type": "code",
      "source": [
        "class_prior_data = [categories_count[i] / sum(categories_count.values()) for i in categories_count.keys()]"
      ],
      "metadata": {
        "id": "VZDhGRUpRBYo"
      },
      "execution_count": 43,
      "outputs": []
    },
    {
      "cell_type": "code",
      "source": [
        "mnb = MultinomialNB(alpha=0.05, class_prior=class_prior_data)\n",
        "\n",
        "mnb.fit(sparse_train, newsgroups_train.target)\n",
        "pred_mnb = mnb.predict(sparse_test)\n",
        "acc_mnb = accuracy_score(newsgroups_test.target, pred_mnb, normalize=True)\n",
        "\n",
        "print(f\"Точность классификации(MultinomialNB) – доля верно классифицированных объектов из тестовой выборки = {acc_mnb}\")\n",
        "print(classification_report(newsgroups_test.target, pred_mnb, target_names=newsgroups_test.target_names))"
      ],
      "metadata": {
        "colab": {
          "base_uri": "https://localhost:8080/"
        },
        "id": "9ABGRpsuTkmA",
        "outputId": "c220791a-9a01-49b5-996a-f539a4b31c11"
      },
      "execution_count": 45,
      "outputs": [
        {
          "output_type": "stream",
          "name": "stdout",
          "text": [
            "Точность классификации(MultinomialNB) – доля верно классифицированных объектов из тестовой выборки = 0.7388475836431226\n",
            "                          precision    recall  f1-score   support\n",
            "\n",
            "             alt.atheism       0.69      0.71      0.70       319\n",
            "           comp.graphics       0.45      0.82      0.58       389\n",
            " comp.os.ms-windows.misc       0.20      0.00      0.01       394\n",
            "comp.sys.ibm.pc.hardware       0.55      0.72      0.62       392\n",
            "   comp.sys.mac.hardware       0.77      0.62      0.69       385\n",
            "          comp.windows.x       0.68      0.74      0.71       395\n",
            "            misc.forsale       0.81      0.80      0.80       390\n",
            "               rec.autos       0.83      0.83      0.83       396\n",
            "         rec.motorcycles       0.88      0.89      0.89       398\n",
            "      rec.sport.baseball       0.98      0.84      0.91       397\n",
            "        rec.sport.hockey       0.96      0.94      0.95       399\n",
            "               sci.crypt       0.81      0.90      0.86       396\n",
            "         sci.electronics       0.73      0.68      0.71       393\n",
            "                 sci.med       0.68      0.88      0.76       396\n",
            "               sci.space       0.79      0.89      0.84       394\n",
            "  soc.religion.christian       0.85      0.81      0.83       398\n",
            "      talk.politics.guns       0.66      0.80      0.73       364\n",
            "   talk.politics.mideast       0.97      0.76      0.85       376\n",
            "      talk.politics.misc       0.68      0.53      0.60       310\n",
            "      talk.religion.misc       0.58      0.43      0.50       251\n",
            "\n",
            "                accuracy                           0.74      7532\n",
            "               macro avg       0.73      0.73      0.72      7532\n",
            "            weighted avg       0.73      0.74      0.72      7532\n",
            "\n"
          ]
        }
      ]
    },
    {
      "cell_type": "code",
      "source": [
        "clf = BernoulliNB(alpha=0.05, class_prior=class_prior_data)\n",
        "\n",
        "clf.fit(dense_train, newsgroups_train.target)\n",
        "pred_clf = clf.predict(dense_test)\n",
        "acc_clf = accuracy_score(newsgroups_test.target, pred_clf, normalize=True)\n",
        "\n",
        "print(f\"Точность классификации(BernouliNB) – доля верно классифицированных объектов из тестовой выборки  = {acc_clf}\")\n",
        "print(classification_report(newsgroups_test.target, pred_clf, target_names=newsgroups_test.target_names))"
      ],
      "metadata": {
        "colab": {
          "base_uri": "https://localhost:8080/"
        },
        "id": "e_G-YH05TgzP",
        "outputId": "5e1da22b-30a3-485c-ea80-df946c2f3584"
      },
      "execution_count": 46,
      "outputs": [
        {
          "output_type": "stream",
          "name": "stdout",
          "text": [
            "Точность классификации(BernouliNB) – доля верно классифицированных объектов из тестовой выборки  = 0.7014073287307488\n",
            "                          precision    recall  f1-score   support\n",
            "\n",
            "             alt.atheism       0.71      0.59      0.65       319\n",
            "           comp.graphics       0.43      0.76      0.55       389\n",
            " comp.os.ms-windows.misc       0.22      0.01      0.01       394\n",
            "comp.sys.ibm.pc.hardware       0.54      0.71      0.61       392\n",
            "   comp.sys.mac.hardware       0.83      0.58      0.68       385\n",
            "          comp.windows.x       0.70      0.73      0.72       395\n",
            "            misc.forsale       0.69      0.84      0.76       390\n",
            "               rec.autos       0.81      0.80      0.80       396\n",
            "         rec.motorcycles       0.80      0.83      0.81       398\n",
            "      rec.sport.baseball       0.94      0.76      0.84       397\n",
            "        rec.sport.hockey       0.96      0.92      0.94       399\n",
            "               sci.crypt       0.67      0.84      0.75       396\n",
            "         sci.electronics       0.62      0.68      0.65       393\n",
            "                 sci.med       0.77      0.75      0.76       396\n",
            "               sci.space       0.79      0.84      0.81       394\n",
            "  soc.religion.christian       0.67      0.79      0.73       398\n",
            "      talk.politics.guns       0.66      0.79      0.72       364\n",
            "   talk.politics.mideast       0.92      0.75      0.82       376\n",
            "      talk.politics.misc       0.53      0.54      0.53       310\n",
            "      talk.religion.misc       0.67      0.34      0.45       251\n",
            "\n",
            "                accuracy                           0.70      7532\n",
            "               macro avg       0.70      0.69      0.68      7532\n",
            "            weighted avg       0.70      0.70      0.69      7532\n",
            "\n"
          ]
        }
      ]
    }
  ]
}