{
  "nbformat": 4,
  "nbformat_minor": 0,
  "metadata": {
    "colab": {
      "provenance": [],
      "authorship_tag": "ABX9TyPmO8YDxH1H5JbuakUy11zg",
      "include_colab_link": true
    },
    "kernelspec": {
      "name": "python3",
      "display_name": "Python 3"
    },
    "language_info": {
      "name": "python"
    }
  },
  "cells": [
    {
      "cell_type": "markdown",
      "metadata": {
        "id": "view-in-github",
        "colab_type": "text"
      },
      "source": [
        "<a href=\"https://colab.research.google.com/github/FREDY129053/AI_Systems_LABS/blob/main/Lab_3_6.ipynb\" target=\"_parent\"><img src=\"https://colab.research.google.com/assets/colab-badge.svg\" alt=\"Open In Colab\"/></a>"
      ]
    },
    {
      "cell_type": "markdown",
      "source": [
        "# Лаба 3.6: Нейронные сети"
      ],
      "metadata": {
        "id": "cZ1dy-bgJfRC"
      }
    },
    {
      "cell_type": "code",
      "execution_count": 1,
      "metadata": {
        "colab": {
          "base_uri": "https://localhost:8080/",
          "height": 246
        },
        "id": "cij7LyXHIYol",
        "outputId": "4784a444-b2ec-4ecb-c6c7-2f079d80b5cd"
      },
      "outputs": [
        {
          "output_type": "stream",
          "name": "stdout",
          "text": [
            "Размерность датасета: (19997, 19)\n"
          ]
        },
        {
          "output_type": "execute_result",
          "data": {
            "text/plain": [
              "      price  bedrooms  bathrooms  sqft_living  sqft_lot  floors  waterfront  \\\n",
              "0  221900.0         3          1         1180      5650     1.0           0   \n",
              "1  538000.0         3          2         2570      7242     2.0           0   \n",
              "2  180000.0         2          1          770     10000     1.0           0   \n",
              "3  604000.0         4          3         1960      5000     1.0           0   \n",
              "4  510000.0         3          2         1680      8080     1.0           0   \n",
              "\n",
              "   condition  grade      lat     long  was_renovated_post90  has_basement  \\\n",
              "0          3      7  47.5112 -122.257                     0             0   \n",
              "1          3      7  47.7210 -122.319                     1             1   \n",
              "2          3      6  47.7379 -122.233                     0             0   \n",
              "3          5      7  47.5208 -122.393                     0             1   \n",
              "4          3      8  47.6168 -122.045                     0             0   \n",
              "\n",
              "   viewed  sale_month  yr_built_1950_to_1975  yr_built_1975_to_1997  \\\n",
              "0       0          10                    1.0                    0.0   \n",
              "1       0          12                    1.0                    0.0   \n",
              "2       0           2                    0.0                    0.0   \n",
              "3       0          12                    1.0                    0.0   \n",
              "4       0           2                    0.0                    1.0   \n",
              "\n",
              "   yr_built_1997_to_2015  yr_built_pre1950  \n",
              "0                    0.0               0.0  \n",
              "1                    0.0               0.0  \n",
              "2                    0.0               1.0  \n",
              "3                    0.0               0.0  \n",
              "4                    0.0               0.0  "
            ],
            "text/html": [
              "\n",
              "  <div id=\"df-ceaa58ee-1196-4e56-a98b-2abc4586dd06\" class=\"colab-df-container\">\n",
              "    <div>\n",
              "<style scoped>\n",
              "    .dataframe tbody tr th:only-of-type {\n",
              "        vertical-align: middle;\n",
              "    }\n",
              "\n",
              "    .dataframe tbody tr th {\n",
              "        vertical-align: top;\n",
              "    }\n",
              "\n",
              "    .dataframe thead th {\n",
              "        text-align: right;\n",
              "    }\n",
              "</style>\n",
              "<table border=\"1\" class=\"dataframe\">\n",
              "  <thead>\n",
              "    <tr style=\"text-align: right;\">\n",
              "      <th></th>\n",
              "      <th>price</th>\n",
              "      <th>bedrooms</th>\n",
              "      <th>bathrooms</th>\n",
              "      <th>sqft_living</th>\n",
              "      <th>sqft_lot</th>\n",
              "      <th>floors</th>\n",
              "      <th>waterfront</th>\n",
              "      <th>condition</th>\n",
              "      <th>grade</th>\n",
              "      <th>lat</th>\n",
              "      <th>long</th>\n",
              "      <th>was_renovated_post90</th>\n",
              "      <th>has_basement</th>\n",
              "      <th>viewed</th>\n",
              "      <th>sale_month</th>\n",
              "      <th>yr_built_1950_to_1975</th>\n",
              "      <th>yr_built_1975_to_1997</th>\n",
              "      <th>yr_built_1997_to_2015</th>\n",
              "      <th>yr_built_pre1950</th>\n",
              "    </tr>\n",
              "  </thead>\n",
              "  <tbody>\n",
              "    <tr>\n",
              "      <th>0</th>\n",
              "      <td>221900.0</td>\n",
              "      <td>3</td>\n",
              "      <td>1</td>\n",
              "      <td>1180</td>\n",
              "      <td>5650</td>\n",
              "      <td>1.0</td>\n",
              "      <td>0</td>\n",
              "      <td>3</td>\n",
              "      <td>7</td>\n",
              "      <td>47.5112</td>\n",
              "      <td>-122.257</td>\n",
              "      <td>0</td>\n",
              "      <td>0</td>\n",
              "      <td>0</td>\n",
              "      <td>10</td>\n",
              "      <td>1.0</td>\n",
              "      <td>0.0</td>\n",
              "      <td>0.0</td>\n",
              "      <td>0.0</td>\n",
              "    </tr>\n",
              "    <tr>\n",
              "      <th>1</th>\n",
              "      <td>538000.0</td>\n",
              "      <td>3</td>\n",
              "      <td>2</td>\n",
              "      <td>2570</td>\n",
              "      <td>7242</td>\n",
              "      <td>2.0</td>\n",
              "      <td>0</td>\n",
              "      <td>3</td>\n",
              "      <td>7</td>\n",
              "      <td>47.7210</td>\n",
              "      <td>-122.319</td>\n",
              "      <td>1</td>\n",
              "      <td>1</td>\n",
              "      <td>0</td>\n",
              "      <td>12</td>\n",
              "      <td>1.0</td>\n",
              "      <td>0.0</td>\n",
              "      <td>0.0</td>\n",
              "      <td>0.0</td>\n",
              "    </tr>\n",
              "    <tr>\n",
              "      <th>2</th>\n",
              "      <td>180000.0</td>\n",
              "      <td>2</td>\n",
              "      <td>1</td>\n",
              "      <td>770</td>\n",
              "      <td>10000</td>\n",
              "      <td>1.0</td>\n",
              "      <td>0</td>\n",
              "      <td>3</td>\n",
              "      <td>6</td>\n",
              "      <td>47.7379</td>\n",
              "      <td>-122.233</td>\n",
              "      <td>0</td>\n",
              "      <td>0</td>\n",
              "      <td>0</td>\n",
              "      <td>2</td>\n",
              "      <td>0.0</td>\n",
              "      <td>0.0</td>\n",
              "      <td>0.0</td>\n",
              "      <td>1.0</td>\n",
              "    </tr>\n",
              "    <tr>\n",
              "      <th>3</th>\n",
              "      <td>604000.0</td>\n",
              "      <td>4</td>\n",
              "      <td>3</td>\n",
              "      <td>1960</td>\n",
              "      <td>5000</td>\n",
              "      <td>1.0</td>\n",
              "      <td>0</td>\n",
              "      <td>5</td>\n",
              "      <td>7</td>\n",
              "      <td>47.5208</td>\n",
              "      <td>-122.393</td>\n",
              "      <td>0</td>\n",
              "      <td>1</td>\n",
              "      <td>0</td>\n",
              "      <td>12</td>\n",
              "      <td>1.0</td>\n",
              "      <td>0.0</td>\n",
              "      <td>0.0</td>\n",
              "      <td>0.0</td>\n",
              "    </tr>\n",
              "    <tr>\n",
              "      <th>4</th>\n",
              "      <td>510000.0</td>\n",
              "      <td>3</td>\n",
              "      <td>2</td>\n",
              "      <td>1680</td>\n",
              "      <td>8080</td>\n",
              "      <td>1.0</td>\n",
              "      <td>0</td>\n",
              "      <td>3</td>\n",
              "      <td>8</td>\n",
              "      <td>47.6168</td>\n",
              "      <td>-122.045</td>\n",
              "      <td>0</td>\n",
              "      <td>0</td>\n",
              "      <td>0</td>\n",
              "      <td>2</td>\n",
              "      <td>0.0</td>\n",
              "      <td>1.0</td>\n",
              "      <td>0.0</td>\n",
              "      <td>0.0</td>\n",
              "    </tr>\n",
              "  </tbody>\n",
              "</table>\n",
              "</div>\n",
              "    <div class=\"colab-df-buttons\">\n",
              "\n",
              "  <div class=\"colab-df-container\">\n",
              "    <button class=\"colab-df-convert\" onclick=\"convertToInteractive('df-ceaa58ee-1196-4e56-a98b-2abc4586dd06')\"\n",
              "            title=\"Convert this dataframe to an interactive table.\"\n",
              "            style=\"display:none;\">\n",
              "\n",
              "  <svg xmlns=\"http://www.w3.org/2000/svg\" height=\"24px\" viewBox=\"0 -960 960 960\">\n",
              "    <path d=\"M120-120v-720h720v720H120Zm60-500h600v-160H180v160Zm220 220h160v-160H400v160Zm0 220h160v-160H400v160ZM180-400h160v-160H180v160Zm440 0h160v-160H620v160ZM180-180h160v-160H180v160Zm440 0h160v-160H620v160Z\"/>\n",
              "  </svg>\n",
              "    </button>\n",
              "\n",
              "  <style>\n",
              "    .colab-df-container {\n",
              "      display:flex;\n",
              "      gap: 12px;\n",
              "    }\n",
              "\n",
              "    .colab-df-convert {\n",
              "      background-color: #E8F0FE;\n",
              "      border: none;\n",
              "      border-radius: 50%;\n",
              "      cursor: pointer;\n",
              "      display: none;\n",
              "      fill: #1967D2;\n",
              "      height: 32px;\n",
              "      padding: 0 0 0 0;\n",
              "      width: 32px;\n",
              "    }\n",
              "\n",
              "    .colab-df-convert:hover {\n",
              "      background-color: #E2EBFA;\n",
              "      box-shadow: 0px 1px 2px rgba(60, 64, 67, 0.3), 0px 1px 3px 1px rgba(60, 64, 67, 0.15);\n",
              "      fill: #174EA6;\n",
              "    }\n",
              "\n",
              "    .colab-df-buttons div {\n",
              "      margin-bottom: 4px;\n",
              "    }\n",
              "\n",
              "    [theme=dark] .colab-df-convert {\n",
              "      background-color: #3B4455;\n",
              "      fill: #D2E3FC;\n",
              "    }\n",
              "\n",
              "    [theme=dark] .colab-df-convert:hover {\n",
              "      background-color: #434B5C;\n",
              "      box-shadow: 0px 1px 3px 1px rgba(0, 0, 0, 0.15);\n",
              "      filter: drop-shadow(0px 1px 2px rgba(0, 0, 0, 0.3));\n",
              "      fill: #FFFFFF;\n",
              "    }\n",
              "  </style>\n",
              "\n",
              "    <script>\n",
              "      const buttonEl =\n",
              "        document.querySelector('#df-ceaa58ee-1196-4e56-a98b-2abc4586dd06 button.colab-df-convert');\n",
              "      buttonEl.style.display =\n",
              "        google.colab.kernel.accessAllowed ? 'block' : 'none';\n",
              "\n",
              "      async function convertToInteractive(key) {\n",
              "        const element = document.querySelector('#df-ceaa58ee-1196-4e56-a98b-2abc4586dd06');\n",
              "        const dataTable =\n",
              "          await google.colab.kernel.invokeFunction('convertToInteractive',\n",
              "                                                    [key], {});\n",
              "        if (!dataTable) return;\n",
              "\n",
              "        const docLinkHtml = 'Like what you see? Visit the ' +\n",
              "          '<a target=\"_blank\" href=https://colab.research.google.com/notebooks/data_table.ipynb>data table notebook</a>'\n",
              "          + ' to learn more about interactive tables.';\n",
              "        element.innerHTML = '';\n",
              "        dataTable['output_type'] = 'display_data';\n",
              "        await google.colab.output.renderOutput(dataTable, element);\n",
              "        const docLink = document.createElement('div');\n",
              "        docLink.innerHTML = docLinkHtml;\n",
              "        element.appendChild(docLink);\n",
              "      }\n",
              "    </script>\n",
              "  </div>\n",
              "\n",
              "\n",
              "    <div id=\"df-770d381f-ab83-4bad-b112-34427d31e346\">\n",
              "      <button class=\"colab-df-quickchart\" onclick=\"quickchart('df-770d381f-ab83-4bad-b112-34427d31e346')\"\n",
              "                title=\"Suggest charts\"\n",
              "                style=\"display:none;\">\n",
              "\n",
              "<svg xmlns=\"http://www.w3.org/2000/svg\" height=\"24px\"viewBox=\"0 0 24 24\"\n",
              "     width=\"24px\">\n",
              "    <g>\n",
              "        <path d=\"M19 3H5c-1.1 0-2 .9-2 2v14c0 1.1.9 2 2 2h14c1.1 0 2-.9 2-2V5c0-1.1-.9-2-2-2zM9 17H7v-7h2v7zm4 0h-2V7h2v10zm4 0h-2v-4h2v4z\"/>\n",
              "    </g>\n",
              "</svg>\n",
              "      </button>\n",
              "\n",
              "<style>\n",
              "  .colab-df-quickchart {\n",
              "      --bg-color: #E8F0FE;\n",
              "      --fill-color: #1967D2;\n",
              "      --hover-bg-color: #E2EBFA;\n",
              "      --hover-fill-color: #174EA6;\n",
              "      --disabled-fill-color: #AAA;\n",
              "      --disabled-bg-color: #DDD;\n",
              "  }\n",
              "\n",
              "  [theme=dark] .colab-df-quickchart {\n",
              "      --bg-color: #3B4455;\n",
              "      --fill-color: #D2E3FC;\n",
              "      --hover-bg-color: #434B5C;\n",
              "      --hover-fill-color: #FFFFFF;\n",
              "      --disabled-bg-color: #3B4455;\n",
              "      --disabled-fill-color: #666;\n",
              "  }\n",
              "\n",
              "  .colab-df-quickchart {\n",
              "    background-color: var(--bg-color);\n",
              "    border: none;\n",
              "    border-radius: 50%;\n",
              "    cursor: pointer;\n",
              "    display: none;\n",
              "    fill: var(--fill-color);\n",
              "    height: 32px;\n",
              "    padding: 0;\n",
              "    width: 32px;\n",
              "  }\n",
              "\n",
              "  .colab-df-quickchart:hover {\n",
              "    background-color: var(--hover-bg-color);\n",
              "    box-shadow: 0 1px 2px rgba(60, 64, 67, 0.3), 0 1px 3px 1px rgba(60, 64, 67, 0.15);\n",
              "    fill: var(--button-hover-fill-color);\n",
              "  }\n",
              "\n",
              "  .colab-df-quickchart-complete:disabled,\n",
              "  .colab-df-quickchart-complete:disabled:hover {\n",
              "    background-color: var(--disabled-bg-color);\n",
              "    fill: var(--disabled-fill-color);\n",
              "    box-shadow: none;\n",
              "  }\n",
              "\n",
              "  .colab-df-spinner {\n",
              "    border: 2px solid var(--fill-color);\n",
              "    border-color: transparent;\n",
              "    border-bottom-color: var(--fill-color);\n",
              "    animation:\n",
              "      spin 1s steps(1) infinite;\n",
              "  }\n",
              "\n",
              "  @keyframes spin {\n",
              "    0% {\n",
              "      border-color: transparent;\n",
              "      border-bottom-color: var(--fill-color);\n",
              "      border-left-color: var(--fill-color);\n",
              "    }\n",
              "    20% {\n",
              "      border-color: transparent;\n",
              "      border-left-color: var(--fill-color);\n",
              "      border-top-color: var(--fill-color);\n",
              "    }\n",
              "    30% {\n",
              "      border-color: transparent;\n",
              "      border-left-color: var(--fill-color);\n",
              "      border-top-color: var(--fill-color);\n",
              "      border-right-color: var(--fill-color);\n",
              "    }\n",
              "    40% {\n",
              "      border-color: transparent;\n",
              "      border-right-color: var(--fill-color);\n",
              "      border-top-color: var(--fill-color);\n",
              "    }\n",
              "    60% {\n",
              "      border-color: transparent;\n",
              "      border-right-color: var(--fill-color);\n",
              "    }\n",
              "    80% {\n",
              "      border-color: transparent;\n",
              "      border-right-color: var(--fill-color);\n",
              "      border-bottom-color: var(--fill-color);\n",
              "    }\n",
              "    90% {\n",
              "      border-color: transparent;\n",
              "      border-bottom-color: var(--fill-color);\n",
              "    }\n",
              "  }\n",
              "</style>\n",
              "\n",
              "      <script>\n",
              "        async function quickchart(key) {\n",
              "          const quickchartButtonEl =\n",
              "            document.querySelector('#' + key + ' button');\n",
              "          quickchartButtonEl.disabled = true;  // To prevent multiple clicks.\n",
              "          quickchartButtonEl.classList.add('colab-df-spinner');\n",
              "          try {\n",
              "            const charts = await google.colab.kernel.invokeFunction(\n",
              "                'suggestCharts', [key], {});\n",
              "          } catch (error) {\n",
              "            console.error('Error during call to suggestCharts:', error);\n",
              "          }\n",
              "          quickchartButtonEl.classList.remove('colab-df-spinner');\n",
              "          quickchartButtonEl.classList.add('colab-df-quickchart-complete');\n",
              "        }\n",
              "        (() => {\n",
              "          let quickchartButtonEl =\n",
              "            document.querySelector('#df-770d381f-ab83-4bad-b112-34427d31e346 button');\n",
              "          quickchartButtonEl.style.display =\n",
              "            google.colab.kernel.accessAllowed ? 'block' : 'none';\n",
              "        })();\n",
              "      </script>\n",
              "    </div>\n",
              "    </div>\n",
              "  </div>\n"
            ],
            "application/vnd.google.colaboratory.intrinsic+json": {
              "type": "dataframe",
              "variable_name": "df_copy",
              "summary": "{\n  \"name\": \"df_copy\",\n  \"rows\": 19997,\n  \"fields\": [\n    {\n      \"column\": \"price\",\n      \"properties\": {\n        \"dtype\": \"number\",\n        \"std\": 261955.84895003773,\n        \"min\": 75000.0,\n        \"max\": 1955000.0,\n        \"num_unique_values\": 3688,\n        \"samples\": [\n          928990.0,\n          436472.0,\n          642450.0\n        ],\n        \"semantic_type\": \"\",\n        \"description\": \"\"\n      }\n    },\n    {\n      \"column\": \"bedrooms\",\n      \"properties\": {\n        \"dtype\": \"number\",\n        \"std\": 0,\n        \"min\": 1,\n        \"max\": 6,\n        \"num_unique_values\": 6,\n        \"samples\": [\n          3,\n          2,\n          6\n        ],\n        \"semantic_type\": \"\",\n        \"description\": \"\"\n      }\n    },\n    {\n      \"column\": \"bathrooms\",\n      \"properties\": {\n        \"dtype\": \"number\",\n        \"std\": 0,\n        \"min\": 0,\n        \"max\": 4,\n        \"num_unique_values\": 5,\n        \"samples\": [\n          2,\n          0,\n          3\n        ],\n        \"semantic_type\": \"\",\n        \"description\": \"\"\n      }\n    },\n    {\n      \"column\": \"sqft_living\",\n      \"properties\": {\n        \"dtype\": \"number\",\n        \"std\": 752,\n        \"min\": 370,\n        \"max\": 4690,\n        \"num_unique_values\": 820,\n        \"samples\": [\n          1397,\n          3540,\n          2350\n        ],\n        \"semantic_type\": \"\",\n        \"description\": \"\"\n      }\n    },\n    {\n      \"column\": \"sqft_lot\",\n      \"properties\": {\n        \"dtype\": \"number\",\n        \"std\": 10164,\n        \"min\": 520,\n        \"max\": 130680,\n        \"num_unique_values\": 8835,\n        \"samples\": [\n          1829,\n          9958,\n          4132\n        ],\n        \"semantic_type\": \"\",\n        \"description\": \"\"\n      }\n    },\n    {\n      \"column\": \"floors\",\n      \"properties\": {\n        \"dtype\": \"number\",\n        \"std\": 0.540609789370065,\n        \"min\": 1.0,\n        \"max\": 3.5,\n        \"num_unique_values\": 6,\n        \"samples\": [\n          1.0,\n          2.0,\n          3.5\n        ],\n        \"semantic_type\": \"\",\n        \"description\": \"\"\n      }\n    },\n    {\n      \"column\": \"waterfront\",\n      \"properties\": {\n        \"dtype\": \"number\",\n        \"std\": 0,\n        \"min\": 0,\n        \"max\": 1,\n        \"num_unique_values\": 2,\n        \"samples\": [\n          1,\n          0\n        ],\n        \"semantic_type\": \"\",\n        \"description\": \"\"\n      }\n    },\n    {\n      \"column\": \"condition\",\n      \"properties\": {\n        \"dtype\": \"number\",\n        \"std\": 0,\n        \"min\": 1,\n        \"max\": 5,\n        \"num_unique_values\": 5,\n        \"samples\": [\n          5,\n          2\n        ],\n        \"semantic_type\": \"\",\n        \"description\": \"\"\n      }\n    },\n    {\n      \"column\": \"grade\",\n      \"properties\": {\n        \"dtype\": \"number\",\n        \"std\": 1,\n        \"min\": 3,\n        \"max\": 12,\n        \"num_unique_values\": 10,\n        \"samples\": [\n          3,\n          6\n        ],\n        \"semantic_type\": \"\",\n        \"description\": \"\"\n      }\n    },\n    {\n      \"column\": \"lat\",\n      \"properties\": {\n        \"dtype\": \"number\",\n        \"std\": 0.13902763528316064,\n        \"min\": 47.1764,\n        \"max\": 47.7776,\n        \"num_unique_values\": 4923,\n        \"samples\": [\n          47.7734,\n          47.2815\n        ],\n        \"semantic_type\": \"\",\n        \"description\": \"\"\n      }\n    },\n    {\n      \"column\": \"long\",\n      \"properties\": {\n        \"dtype\": \"number\",\n        \"std\": 0.12714884730435008,\n        \"min\": -122.512,\n        \"max\": -121.804,\n        \"num_unique_values\": 605,\n        \"samples\": [\n          -121.879,\n          -122.024\n        ],\n        \"semantic_type\": \"\",\n        \"description\": \"\"\n      }\n    },\n    {\n      \"column\": \"was_renovated_post90\",\n      \"properties\": {\n        \"dtype\": \"number\",\n        \"std\": 0,\n        \"min\": 0,\n        \"max\": 1,\n        \"num_unique_values\": 2,\n        \"samples\": [\n          1,\n          0\n        ],\n        \"semantic_type\": \"\",\n        \"description\": \"\"\n      }\n    },\n    {\n      \"column\": \"has_basement\",\n      \"properties\": {\n        \"dtype\": \"number\",\n        \"std\": 0,\n        \"min\": 0,\n        \"max\": 1,\n        \"num_unique_values\": 2,\n        \"samples\": [\n          1,\n          0\n        ],\n        \"semantic_type\": \"\",\n        \"description\": \"\"\n      }\n    },\n    {\n      \"column\": \"viewed\",\n      \"properties\": {\n        \"dtype\": \"number\",\n        \"std\": 0,\n        \"min\": 0,\n        \"max\": 1,\n        \"num_unique_values\": 2,\n        \"samples\": [\n          1,\n          0\n        ],\n        \"semantic_type\": \"\",\n        \"description\": \"\"\n      }\n    },\n    {\n      \"column\": \"sale_month\",\n      \"properties\": {\n        \"dtype\": \"number\",\n        \"std\": 3,\n        \"min\": 1,\n        \"max\": 12,\n        \"num_unique_values\": 12,\n        \"samples\": [\n          8,\n          11\n        ],\n        \"semantic_type\": \"\",\n        \"description\": \"\"\n      }\n    },\n    {\n      \"column\": \"yr_built_1950_to_1975\",\n      \"properties\": {\n        \"dtype\": \"number\",\n        \"std\": 0.4469484321736796,\n        \"min\": 0.0,\n        \"max\": 1.0,\n        \"num_unique_values\": 2,\n        \"samples\": [\n          0.0,\n          1.0\n        ],\n        \"semantic_type\": \"\",\n        \"description\": \"\"\n      }\n    },\n    {\n      \"column\": \"yr_built_1975_to_1997\",\n      \"properties\": {\n        \"dtype\": \"number\",\n        \"std\": 0.42708528442458293,\n        \"min\": 0.0,\n        \"max\": 1.0,\n        \"num_unique_values\": 2,\n        \"samples\": [\n          1.0,\n          0.0\n        ],\n        \"semantic_type\": \"\",\n        \"description\": \"\"\n      }\n    },\n    {\n      \"column\": \"yr_built_1997_to_2015\",\n      \"properties\": {\n        \"dtype\": \"number\",\n        \"std\": 0.42378119506149886,\n        \"min\": 0.0,\n        \"max\": 1.0,\n        \"num_unique_values\": 2,\n        \"samples\": [\n          1.0,\n          0.0\n        ],\n        \"semantic_type\": \"\",\n        \"description\": \"\"\n      }\n    },\n    {\n      \"column\": \"yr_built_pre1950\",\n      \"properties\": {\n        \"dtype\": \"number\",\n        \"std\": 0.43275612836212857,\n        \"min\": 0.0,\n        \"max\": 1.0,\n        \"num_unique_values\": 2,\n        \"samples\": [\n          1.0,\n          0.0\n        ],\n        \"semantic_type\": \"\",\n        \"description\": \"\"\n      }\n    }\n  ]\n}"
            }
          },
          "metadata": {},
          "execution_count": 1
        }
      ],
      "source": [
        "import pandas as pd\n",
        "\n",
        "df = pd.read_csv('/content/lab_2_ready_df.csv')\n",
        "df_copy = df.copy()\n",
        "\n",
        "print(f\"Размерность датасета: {df_copy.shape}\")\n",
        "df_copy.head()"
      ]
    },
    {
      "cell_type": "markdown",
      "source": [
        "## Разбиение данных"
      ],
      "metadata": {
        "id": "Lyw_pi0LJ0HS"
      }
    },
    {
      "cell_type": "code",
      "source": [
        "X = df_copy.drop('price', axis=1)\n",
        "y = df_copy['price']"
      ],
      "metadata": {
        "id": "N5zNl29fKURN"
      },
      "execution_count": 2,
      "outputs": []
    },
    {
      "cell_type": "code",
      "source": [
        "from sklearn.model_selection import train_test_split\n",
        "\n",
        "X_train, X_temp, y_train, y_temp = train_test_split(X, y, test_size=0.3, random_state=42)\n",
        "\n",
        "X_val, X_test, y_val, y_test = train_test_split(X_temp, y_temp, test_size=0.5, random_state=42)\n",
        "\n",
        "print(f\"Training set shape: X_train={X_train.shape}, y_train={y_train.shape}\")\n",
        "print(f\"Validation set shape: X_val={X_val.shape}, y_val={y_val.shape}\")\n",
        "print(f\"Test set shape: X_test={X_test.shape}, y_test={y_test.shape}\")"
      ],
      "metadata": {
        "colab": {
          "base_uri": "https://localhost:8080/"
        },
        "id": "NwDTpoI5J12I",
        "outputId": "da16d026-46ff-48ce-f0f9-f69ef4a27bda"
      },
      "execution_count": 3,
      "outputs": [
        {
          "output_type": "stream",
          "name": "stdout",
          "text": [
            "Training set shape: X_train=(13997, 18), y_train=(13997,)\n",
            "Validation set shape: X_val=(3000, 18), y_val=(3000,)\n",
            "Test set shape: X_test=(3000, 18), y_test=(3000,)\n"
          ]
        }
      ]
    },
    {
      "cell_type": "markdown",
      "source": [
        "## Модели"
      ],
      "metadata": {
        "id": "Afml4sBwKaYW"
      }
    },
    {
      "cell_type": "code",
      "source": [
        "rmses = {}"
      ],
      "metadata": {
        "id": "YivUEjblMd3b"
      },
      "execution_count": 29,
      "outputs": []
    },
    {
      "cell_type": "code",
      "source": [
        "import torch\n",
        "\n",
        "X_train_tensor = torch.tensor(X_train.values, dtype=torch.float32)\n",
        "y_train_tensor = torch.tensor(y_train.values, dtype=torch.float32).unsqueeze(1)\n",
        "\n",
        "X_val_tensor = torch.tensor(X_val.values, dtype=torch.float32)\n",
        "y_val_tensor = torch.tensor(y_val.values, dtype=torch.float32).unsqueeze(1)\n",
        "\n",
        "X_test_tensor = torch.tensor(X_test.values, dtype=torch.float32)\n",
        "y_test_tensor = torch.tensor(y_test.values, dtype=torch.float32).unsqueeze(1)"
      ],
      "metadata": {
        "id": "pOWdfrRqMuJF"
      },
      "execution_count": 30,
      "outputs": []
    },
    {
      "cell_type": "code",
      "source": [
        "def learn_model(model, epochs=300):\n",
        "  criterion = nn.MSELoss()\n",
        "  optimizer = optim.Adam(model.parameters(), lr=0.001)\n",
        "\n",
        "  for epoch in range(epochs):\n",
        "      model.train()\n",
        "      optimizer.zero_grad()\n",
        "      outputs = model(X_train_tensor)\n",
        "      loss = criterion(outputs, y_train_tensor)\n",
        "      loss.backward()\n",
        "      optimizer.step()\n",
        "\n",
        "      model.eval()\n",
        "      with torch.no_grad():\n",
        "          val_outputs = model(X_val_tensor)\n",
        "          val_loss = criterion(val_outputs, y_val_tensor)\n",
        "\n",
        "      if (epoch + 1) % 10 == 0:\n",
        "          print(f'Epoch [{epoch+1}/{epochs}], Train Loss: {loss.item():.4f}, Val Loss: {val_loss.item():.4f}')"
      ],
      "metadata": {
        "id": "uoH9zfGCNRgu"
      },
      "execution_count": 31,
      "outputs": []
    },
    {
      "cell_type": "code",
      "source": [
        "import numpy as np\n",
        "\n",
        "def get_test_rmse(model):\n",
        "\n",
        "  model.eval()\n",
        "  with torch.no_grad():\n",
        "      y_predict_tensor = model(X_test_tensor)\n",
        "      y_predict_np = y_predict_tensor.numpy()\n",
        "      y_test_np = y_test_tensor.numpy()\n",
        "\n",
        "  return np.sqrt(mean_squared_error(y_test_np, y_predict_np))"
      ],
      "metadata": {
        "id": "5YU2JlqNN7Ax"
      },
      "execution_count": 32,
      "outputs": []
    },
    {
      "cell_type": "markdown",
      "source": [
        "### Линейная регрессия"
      ],
      "metadata": {
        "id": "iIBSsTrUKdd8"
      }
    },
    {
      "cell_type": "code",
      "source": [
        "import torch.nn as nn\n",
        "import torch.optim as optim\n",
        "from sklearn.metrics import mean_squared_error\n",
        "\n",
        "model_lin_reg = nn.Sequential(\n",
        "    nn.Linear(X_train.shape[1], 1)\n",
        ")\n",
        "\n",
        "learn_model(model_lin_reg)"
      ],
      "metadata": {
        "colab": {
          "base_uri": "https://localhost:8080/"
        },
        "id": "uKM2wnerKbyE",
        "outputId": "9b80ede6-edfb-4ee9-bf1c-86faff2711c1"
      },
      "execution_count": 33,
      "outputs": [
        {
          "output_type": "stream",
          "name": "stdout",
          "text": [
            "Epoch [10/300], Train Loss: 319608520704.0000, Val Loss: 311084974080.0000\n",
            "Epoch [20/300], Train Loss: 319484690432.0000, Val Loss: 310963208192.0000\n",
            "Epoch [30/300], Train Loss: 319360892928.0000, Val Loss: 310841409536.0000\n",
            "Epoch [40/300], Train Loss: 319237193728.0000, Val Loss: 310719709184.0000\n",
            "Epoch [50/300], Train Loss: 319113560064.0000, Val Loss: 310598074368.0000\n",
            "Epoch [60/300], Train Loss: 318989991936.0000, Val Loss: 310476505088.0000\n",
            "Epoch [70/300], Train Loss: 318866489344.0000, Val Loss: 310355034112.0000\n",
            "Epoch [80/300], Train Loss: 318743117824.0000, Val Loss: 310233595904.0000\n",
            "Epoch [90/300], Train Loss: 318619746304.0000, Val Loss: 310112288768.0000\n",
            "Epoch [100/300], Train Loss: 318496473088.0000, Val Loss: 309991014400.0000\n",
            "Epoch [110/300], Train Loss: 318373298176.0000, Val Loss: 309869772800.0000\n",
            "Epoch [120/300], Train Loss: 318250156032.0000, Val Loss: 309748662272.0000\n",
            "Epoch [130/300], Train Loss: 318127112192.0000, Val Loss: 309627584512.0000\n",
            "Epoch [140/300], Train Loss: 318004133888.0000, Val Loss: 309506539520.0000\n",
            "Epoch [150/300], Train Loss: 317881221120.0000, Val Loss: 309385658368.0000\n",
            "Epoch [160/300], Train Loss: 317758406656.0000, Val Loss: 309264809984.0000\n",
            "Epoch [170/300], Train Loss: 317635657728.0000, Val Loss: 309143994368.0000\n",
            "Epoch [180/300], Train Loss: 317512974336.0000, Val Loss: 309023277056.0000\n",
            "Epoch [190/300], Train Loss: 317390323712.0000, Val Loss: 308902625280.0000\n",
            "Epoch [200/300], Train Loss: 317267804160.0000, Val Loss: 308782039040.0000\n",
            "Epoch [210/300], Train Loss: 317145284608.0000, Val Loss: 308661518336.0000\n",
            "Epoch [220/300], Train Loss: 317022928896.0000, Val Loss: 308541063168.0000\n",
            "Epoch [230/300], Train Loss: 316900638720.0000, Val Loss: 308420706304.0000\n",
            "Epoch [240/300], Train Loss: 316778315776.0000, Val Loss: 308300414976.0000\n",
            "Epoch [250/300], Train Loss: 316656156672.0000, Val Loss: 308180156416.0000\n",
            "Epoch [260/300], Train Loss: 316534063104.0000, Val Loss: 308059963392.0000\n",
            "Epoch [270/300], Train Loss: 316412002304.0000, Val Loss: 307939868672.0000\n",
            "Epoch [280/300], Train Loss: 316290039808.0000, Val Loss: 307819872256.0000\n",
            "Epoch [290/300], Train Loss: 316168142848.0000, Val Loss: 307699875840.0000\n",
            "Epoch [300/300], Train Loss: 316046344192.0000, Val Loss: 307579977728.0000\n"
          ]
        }
      ]
    },
    {
      "cell_type": "code",
      "source": [
        "rmse_lin = get_test_rmse(model_lin_reg)\n",
        "rmses['Линейная регрессия'] = rmse_lin\n",
        "print(f\"\\nRMSE on the test set: {rmse_lin:.4f}\")"
      ],
      "metadata": {
        "colab": {
          "base_uri": "https://localhost:8080/"
        },
        "id": "99LLb1yuLhDZ",
        "outputId": "14946bcd-c9df-47e7-84cd-160f8afd8477"
      },
      "execution_count": 34,
      "outputs": [
        {
          "output_type": "stream",
          "name": "stdout",
          "text": [
            "\n",
            "RMSE on the test set: 552142.6552\n"
          ]
        }
      ]
    },
    {
      "cell_type": "markdown",
      "source": [
        "### Нейронка 1"
      ],
      "metadata": {
        "id": "vujYDL0eM7C2"
      }
    },
    {
      "cell_type": "code",
      "source": [
        "import torch.nn as nn\n",
        "\n",
        "model_nn1 = nn.Sequential(\n",
        "    nn.Linear(X_train.shape[1], 64),\n",
        "    nn.ReLU(),\n",
        "    nn.Linear(64, 1)\n",
        ")\n",
        "\n",
        "learn_model(model=model_nn1)"
      ],
      "metadata": {
        "colab": {
          "base_uri": "https://localhost:8080/"
        },
        "id": "QBMlBCOkM8fa",
        "outputId": "4628f3d6-40eb-4758-b69f-4e8e36f60a24"
      },
      "execution_count": 35,
      "outputs": [
        {
          "output_type": "stream",
          "name": "stdout",
          "text": [
            "Epoch [10/300], Train Loss: 321572798464.0000, Val Loss: 312976736256.0000\n",
            "Epoch [20/300], Train Loss: 321032585216.0000, Val Loss: 312443437056.0000\n",
            "Epoch [30/300], Train Loss: 320463175680.0000, Val Loss: 311879598080.0000\n",
            "Epoch [40/300], Train Loss: 319843172352.0000, Val Loss: 311263657984.0000\n",
            "Epoch [50/300], Train Loss: 319149146112.0000, Val Loss: 310572384256.0000\n",
            "Epoch [60/300], Train Loss: 318355013632.0000, Val Loss: 309780054016.0000\n",
            "Epoch [70/300], Train Loss: 317426794496.0000, Val Loss: 308852228096.0000\n",
            "Epoch [80/300], Train Loss: 316321759232.0000, Val Loss: 307746504704.0000\n",
            "Epoch [90/300], Train Loss: 315007369216.0000, Val Loss: 306431426560.0000\n",
            "Epoch [100/300], Train Loss: 313464520704.0000, Val Loss: 304888643584.0000\n",
            "Epoch [110/300], Train Loss: 311692951552.0000, Val Loss: 303121268736.0000\n",
            "Epoch [120/300], Train Loss: 309706784768.0000, Val Loss: 301144014848.0000\n",
            "Epoch [130/300], Train Loss: 307521781760.0000, Val Loss: 298971267072.0000\n",
            "Epoch [140/300], Train Loss: 305143644160.0000, Val Loss: 296608956416.0000\n",
            "Epoch [150/300], Train Loss: 302582530048.0000, Val Loss: 294066094080.0000\n",
            "Epoch [160/300], Train Loss: 299837259776.0000, Val Loss: 291339337728.0000\n",
            "Epoch [170/300], Train Loss: 296907669504.0000, Val Loss: 288429146112.0000\n",
            "Epoch [180/300], Train Loss: 293800181760.0000, Val Loss: 285343711232.0000\n",
            "Epoch [190/300], Train Loss: 290534424576.0000, Val Loss: 282101645312.0000\n",
            "Epoch [200/300], Train Loss: 287121506304.0000, Val Loss: 278712745984.0000\n",
            "Epoch [210/300], Train Loss: 283570470912.0000, Val Loss: 275185729536.0000\n",
            "Epoch [220/300], Train Loss: 279891312640.0000, Val Loss: 271530196992.0000\n",
            "Epoch [230/300], Train Loss: 276095631360.0000, Val Loss: 267757338624.0000\n",
            "Epoch [240/300], Train Loss: 272196501504.0000, Val Loss: 263879884800.0000\n",
            "Epoch [250/300], Train Loss: 268208472064.0000, Val Loss: 259911827456.0000\n",
            "Epoch [260/300], Train Loss: 264146812928.0000, Val Loss: 255868092416.0000\n",
            "Epoch [270/300], Train Loss: 260027547648.0000, Val Loss: 251764047872.0000\n",
            "Epoch [280/300], Train Loss: 255866765312.0000, Val Loss: 247615373312.0000\n",
            "Epoch [290/300], Train Loss: 251680899072.0000, Val Loss: 243437977600.0000\n",
            "Epoch [300/300], Train Loss: 247486119936.0000, Val Loss: 239247491072.0000\n"
          ]
        }
      ]
    },
    {
      "cell_type": "code",
      "source": [
        "rmse_nn1 = get_test_rmse(model_nn1)\n",
        "rmses['Нейронка 1(64 нейронов + ReLU)'] = rmse_nn1\n",
        "print(f\"\\nRMSE on the test set: {rmse_nn1:.4f}\")"
      ],
      "metadata": {
        "colab": {
          "base_uri": "https://localhost:8080/"
        },
        "id": "Jo-NApj2OQla",
        "outputId": "36be1e41-7ee5-4984-811c-6864b66baca9"
      },
      "execution_count": 36,
      "outputs": [
        {
          "output_type": "stream",
          "name": "stdout",
          "text": [
            "\n",
            "RMSE on the test set: 485809.8146\n"
          ]
        }
      ]
    },
    {
      "cell_type": "markdown",
      "source": [
        "### Нейронка 2"
      ],
      "metadata": {
        "id": "3JcTYyQHOpo7"
      }
    },
    {
      "cell_type": "code",
      "source": [
        "import torch.nn as nn\n",
        "\n",
        "model_nn2 = nn.Sequential(\n",
        "    nn.Linear(X_train.shape[1], 128),\n",
        "    nn.ReLU(),\n",
        "    nn.Linear(128, 1)\n",
        ")\n",
        "\n",
        "learn_model(model=model_nn2)\n",
        "\n",
        "rmse_nn2 = get_test_rmse(model_nn2)\n",
        "rmses['Нейронка 2(128 нейронов + ReLU)'] = rmse_nn2\n",
        "print(f\"\\nRMSE on the test set: {rmse_nn2:.4f}\")"
      ],
      "metadata": {
        "colab": {
          "base_uri": "https://localhost:8080/"
        },
        "id": "4bBXmNkBOjWL",
        "outputId": "07cb268f-e291-4e4c-89cb-8e2d957f69ba"
      },
      "execution_count": 37,
      "outputs": [
        {
          "output_type": "stream",
          "name": "stdout",
          "text": [
            "Epoch [10/300], Train Loss: 320896466944.0000, Val Loss: 312252203008.0000\n",
            "Epoch [20/300], Train Loss: 319751258112.0000, Val Loss: 311122493440.0000\n",
            "Epoch [30/300], Train Loss: 318552440832.0000, Val Loss: 309935013888.0000\n",
            "Epoch [40/300], Train Loss: 317242310656.0000, Val Loss: 308631011328.0000\n",
            "Epoch [50/300], Train Loss: 315757953024.0000, Val Loss: 307149471744.0000\n",
            "Epoch [60/300], Train Loss: 314053722112.0000, Val Loss: 305448419328.0000\n",
            "Epoch [70/300], Train Loss: 312095997952.0000, Val Loss: 303494234112.0000\n",
            "Epoch [80/300], Train Loss: 309851717632.0000, Val Loss: 301254246400.0000\n",
            "Epoch [90/300], Train Loss: 307297386496.0000, Val Loss: 298706239488.0000\n",
            "Epoch [100/300], Train Loss: 304406331392.0000, Val Loss: 295821737984.0000\n",
            "Epoch [110/300], Train Loss: 301156401152.0000, Val Loss: 292578263040.0000\n",
            "Epoch [120/300], Train Loss: 297529114624.0000, Val Loss: 288958676992.0000\n",
            "Epoch [130/300], Train Loss: 293545967616.0000, Val Loss: 284991586304.0000\n",
            "Epoch [140/300], Train Loss: 289263943680.0000, Val Loss: 280731090944.0000\n",
            "Epoch [150/300], Train Loss: 284716531712.0000, Val Loss: 276206256128.0000\n",
            "Epoch [160/300], Train Loss: 279916707840.0000, Val Loss: 271427141632.0000\n",
            "Epoch [170/300], Train Loss: 274867683328.0000, Val Loss: 266396614656.0000\n",
            "Epoch [180/300], Train Loss: 269598670848.0000, Val Loss: 261145821184.0000\n",
            "Epoch [190/300], Train Loss: 264149401600.0000, Val Loss: 255712247808.0000\n",
            "Epoch [200/300], Train Loss: 258548318208.0000, Val Loss: 250121797632.0000\n",
            "Epoch [210/300], Train Loss: 252811968512.0000, Val Loss: 244388020224.0000\n",
            "Epoch [220/300], Train Loss: 246973775872.0000, Val Loss: 238547468288.0000\n",
            "Epoch [230/300], Train Loss: 241102192640.0000, Val Loss: 232667185152.0000\n",
            "Epoch [240/300], Train Loss: 235251990528.0000, Val Loss: 226799534080.0000\n",
            "Epoch [250/300], Train Loss: 229471617024.0000, Val Loss: 220991488000.0000\n",
            "Epoch [260/300], Train Loss: 223806455808.0000, Val Loss: 215287152640.0000\n",
            "Epoch [270/300], Train Loss: 218297843712.0000, Val Loss: 209727094784.0000\n",
            "Epoch [280/300], Train Loss: 212982366208.0000, Val Loss: 204347146240.0000\n",
            "Epoch [290/300], Train Loss: 207889530880.0000, Val Loss: 199176028160.0000\n",
            "Epoch [300/300], Train Loss: 203038965760.0000, Val Loss: 194233253888.0000\n",
            "\n",
            "RMSE on the test set: 437121.2931\n"
          ]
        }
      ]
    },
    {
      "cell_type": "markdown",
      "source": [
        "### Нейронка 3"
      ],
      "metadata": {
        "id": "u0MJ0_uzPAMm"
      }
    },
    {
      "cell_type": "code",
      "source": [
        "import torch.nn as nn\n",
        "\n",
        "model_nn3 = nn.Sequential(\n",
        "    nn.Linear(X_train.shape[1], 256),\n",
        "    nn.ReLU(),\n",
        "    nn.Linear(256, 1)\n",
        ")\n",
        "\n",
        "learn_model(model=model_nn3)\n",
        "\n",
        "rmse_nn3 = get_test_rmse(model_nn3)\n",
        "rmses['Нейронка 3(256 нейронов + ReLU)'] = rmse_nn3\n",
        "print(f\"\\nRMSE on the test set: {rmse_nn3:.4f}\")"
      ],
      "metadata": {
        "colab": {
          "base_uri": "https://localhost:8080/"
        },
        "id": "iMaYm8M7PBjj",
        "outputId": "48cf05c2-585e-4910-9ff1-2919c47653ed"
      },
      "execution_count": 38,
      "outputs": [
        {
          "output_type": "stream",
          "name": "stdout",
          "text": [
            "Epoch [10/300], Train Loss: 320202178560.0000, Val Loss: 311475863552.0000\n",
            "Epoch [20/300], Train Loss: 318066622464.0000, Val Loss: 309365866496.0000\n",
            "Epoch [30/300], Train Loss: 315779645440.0000, Val Loss: 307094814720.0000\n",
            "Epoch [40/300], Train Loss: 313221480448.0000, Val Loss: 304542679040.0000\n",
            "Epoch [50/300], Train Loss: 310262136832.0000, Val Loss: 301581434880.0000\n",
            "Epoch [60/300], Train Loss: 306786828288.0000, Val Loss: 298101112832.0000\n",
            "Epoch [70/300], Train Loss: 302706294784.0000, Val Loss: 294015205376.0000\n",
            "Epoch [80/300], Train Loss: 297947889664.0000, Val Loss: 289252278272.0000\n",
            "Epoch [90/300], Train Loss: 292471472128.0000, Val Loss: 283772321792.0000\n",
            "Epoch [100/300], Train Loss: 286257971200.0000, Val Loss: 277555707904.0000\n",
            "Epoch [110/300], Train Loss: 279332683776.0000, Val Loss: 270631501824.0000\n",
            "Epoch [120/300], Train Loss: 271789981696.0000, Val Loss: 263095320576.0000\n",
            "Epoch [130/300], Train Loss: 263761084416.0000, Val Loss: 255078170624.0000\n",
            "Epoch [140/300], Train Loss: 255390072832.0000, Val Loss: 246715678720.0000\n",
            "Epoch [150/300], Train Loss: 246813851648.0000, Val Loss: 238140342272.0000\n",
            "Epoch [160/300], Train Loss: 238165803008.0000, Val Loss: 229480333312.0000\n",
            "Epoch [170/300], Train Loss: 229564841984.0000, Val Loss: 220848226304.0000\n",
            "Epoch [180/300], Train Loss: 221136519168.0000, Val Loss: 212369113088.0000\n",
            "Epoch [190/300], Train Loss: 213012971520.0000, Val Loss: 204171329536.0000\n",
            "Epoch [200/300], Train Loss: 205314424832.0000, Val Loss: 196372234240.0000\n",
            "Epoch [210/300], Train Loss: 198155730944.0000, Val Loss: 189086679040.0000\n",
            "Epoch [220/300], Train Loss: 191617499136.0000, Val Loss: 182394208256.0000\n",
            "Epoch [230/300], Train Loss: 185766445056.0000, Val Loss: 176363274240.0000\n",
            "Epoch [240/300], Train Loss: 180626325504.0000, Val Loss: 171021451264.0000\n",
            "Epoch [250/300], Train Loss: 176190373888.0000, Val Loss: 166367330304.0000\n",
            "Epoch [260/300], Train Loss: 172422594560.0000, Val Loss: 162371600384.0000\n",
            "Epoch [270/300], Train Loss: 169262792704.0000, Val Loss: 158981668864.0000\n",
            "Epoch [280/300], Train Loss: 166633553920.0000, Val Loss: 156128051200.0000\n",
            "Epoch [290/300], Train Loss: 164448157696.0000, Val Loss: 153731579904.0000\n",
            "Epoch [300/300], Train Loss: 162618064896.0000, Val Loss: 151710433280.0000\n",
            "\n",
            "RMSE on the test set: 386825.7629\n"
          ]
        }
      ]
    },
    {
      "cell_type": "markdown",
      "source": [
        "### Нейронка 4"
      ],
      "metadata": {
        "id": "fJ_AQG-cPXZV"
      }
    },
    {
      "cell_type": "code",
      "source": [
        "import torch.nn as nn\n",
        "\n",
        "model_nn4 = nn.Sequential(\n",
        "    nn.Linear(X_train.shape[1], 512),\n",
        "    nn.ReLU(),\n",
        "    nn.Linear(512, 1)\n",
        ")\n",
        "\n",
        "learn_model(model=model_nn4)\n",
        "\n",
        "rmse_nn4 = get_test_rmse(model_nn4)\n",
        "rmses['Нейронка 4(512 нейронов + ReLU)'] = rmse_nn4\n",
        "print(f\"\\nRMSE on the test set: {rmse_nn4:.4f}\")"
      ],
      "metadata": {
        "colab": {
          "base_uri": "https://localhost:8080/"
        },
        "id": "b8D9uNvUPZb2",
        "outputId": "96e6af44-79ce-4713-a67d-65518fcdbf71"
      },
      "execution_count": 39,
      "outputs": [
        {
          "output_type": "stream",
          "name": "stdout",
          "text": [
            "Epoch [10/300], Train Loss: 318666244096.0000, Val Loss: 309799288832.0000\n",
            "Epoch [20/300], Train Loss: 314786709504.0000, Val Loss: 305954226176.0000\n",
            "Epoch [30/300], Train Loss: 310524575744.0000, Val Loss: 301704970240.0000\n",
            "Epoch [40/300], Train Loss: 305641455616.0000, Val Loss: 296818016256.0000\n",
            "Epoch [50/300], Train Loss: 299929600000.0000, Val Loss: 291091218432.0000\n",
            "Epoch [60/300], Train Loss: 293226184704.0000, Val Loss: 284367290368.0000\n",
            "Epoch [70/300], Train Loss: 285415571456.0000, Val Loss: 276528398336.0000\n",
            "Epoch [80/300], Train Loss: 276416757760.0000, Val Loss: 267492261888.0000\n",
            "Epoch [90/300], Train Loss: 266261430272.0000, Val Loss: 257301643264.0000\n",
            "Epoch [100/300], Train Loss: 255162843136.0000, Val Loss: 246171041792.0000\n",
            "Epoch [110/300], Train Loss: 243407781888.0000, Val Loss: 234374774784.0000\n",
            "Epoch [120/300], Train Loss: 231329644544.0000, Val Loss: 222240260096.0000\n",
            "Epoch [130/300], Train Loss: 219346763776.0000, Val Loss: 210181275648.0000\n",
            "Epoch [140/300], Train Loss: 207915057152.0000, Val Loss: 198637944832.0000\n",
            "Epoch [150/300], Train Loss: 197395382272.0000, Val Loss: 187960606720.0000\n",
            "Epoch [160/300], Train Loss: 188105916416.0000, Val Loss: 178465390592.0000\n",
            "Epoch [170/300], Train Loss: 180232159232.0000, Val Loss: 170337927168.0000\n",
            "Epoch [180/300], Train Loss: 173809205248.0000, Val Loss: 163620339712.0000\n",
            "Epoch [190/300], Train Loss: 168745779200.0000, Val Loss: 158247829504.0000\n",
            "Epoch [200/300], Train Loss: 164886151168.0000, Val Loss: 154085539840.0000\n",
            "Epoch [210/300], Train Loss: 161967308800.0000, Val Loss: 150889005056.0000\n",
            "Epoch [220/300], Train Loss: 159682625536.0000, Val Loss: 148379795456.0000\n",
            "Epoch [230/300], Train Loss: 157765206016.0000, Val Loss: 146306809856.0000\n",
            "Epoch [240/300], Train Loss: 156021194752.0000, Val Loss: 144479666176.0000\n",
            "Epoch [250/300], Train Loss: 154325352448.0000, Val Loss: 142766604288.0000\n",
            "Epoch [260/300], Train Loss: 152622776320.0000, Val Loss: 141104971776.0000\n",
            "Epoch [270/300], Train Loss: 150917644288.0000, Val Loss: 139477549056.0000\n",
            "Epoch [280/300], Train Loss: 149174681600.0000, Val Loss: 137840459776.0000\n",
            "Epoch [290/300], Train Loss: 147383975936.0000, Val Loss: 136170643456.0000\n",
            "Epoch [300/300], Train Loss: 145547460608.0000, Val Loss: 134461947904.0000\n",
            "\n",
            "RMSE on the test set: 364463.4181\n"
          ]
        }
      ]
    },
    {
      "cell_type": "markdown",
      "source": [
        "### Нейронка 5"
      ],
      "metadata": {
        "id": "zQBFC1RCPkqH"
      }
    },
    {
      "cell_type": "code",
      "source": [
        "import torch.nn as nn\n",
        "\n",
        "model_nn5 = nn.Sequential(\n",
        "    nn.Linear(X_train.shape[1], 1024),\n",
        "    nn.ReLU(),\n",
        "    nn.Linear(1024, 1)\n",
        ")\n",
        "\n",
        "learn_model(model=model_nn5)\n",
        "\n",
        "rmse_nn5 = get_test_rmse(model_nn5)\n",
        "rmses['Нейронка 5(1024 нейронов + ReLU)'] = rmse_nn5\n",
        "print(f\"\\nRMSE on the test set: {rmse_nn5:.4f}\")"
      ],
      "metadata": {
        "colab": {
          "base_uri": "https://localhost:8080/"
        },
        "id": "OmbKVcu2PmhO",
        "outputId": "e5026c7f-69f5-40e2-bdd9-4dadee589f18"
      },
      "execution_count": 40,
      "outputs": [
        {
          "output_type": "stream",
          "name": "stdout",
          "text": [
            "Epoch [10/300], Train Loss: 316415475712.0000, Val Loss: 307293650944.0000\n",
            "Epoch [20/300], Train Loss: 309498970112.0000, Val Loss: 300433997824.0000\n",
            "Epoch [30/300], Train Loss: 301857538048.0000, Val Loss: 292794957824.0000\n",
            "Epoch [40/300], Train Loss: 292993499136.0000, Val Loss: 283894382592.0000\n",
            "Epoch [50/300], Train Loss: 282586185728.0000, Val Loss: 273426169856.0000\n",
            "Epoch [60/300], Train Loss: 270501052416.0000, Val Loss: 261264588800.0000\n",
            "Epoch [70/300], Train Loss: 256802865152.0000, Val Loss: 247475437568.0000\n",
            "Epoch [80/300], Train Loss: 241803001856.0000, Val Loss: 232372174848.0000\n",
            "Epoch [90/300], Train Loss: 226104279040.0000, Val Loss: 216554930176.0000\n",
            "Epoch [100/300], Train Loss: 210501730304.0000, Val Loss: 200800698368.0000\n",
            "Epoch [110/300], Train Loss: 195882778624.0000, Val Loss: 185974112256.0000\n",
            "Epoch [120/300], Train Loss: 183115595776.0000, Val Loss: 172943015936.0000\n",
            "Epoch [130/300], Train Loss: 172967460864.0000, Val Loss: 162493988864.0000\n",
            "Epoch [140/300], Train Loss: 165707350016.0000, Val Loss: 154857537536.0000\n",
            "Epoch [150/300], Train Loss: 160739180544.0000, Val Loss: 149514731520.0000\n",
            "Epoch [160/300], Train Loss: 157170499584.0000, Val Loss: 145658642432.0000\n",
            "Epoch [170/300], Train Loss: 154256965632.0000, Val Loss: 142610366464.0000\n",
            "Epoch [180/300], Train Loss: 151496605696.0000, Val Loss: 139875893248.0000\n",
            "Epoch [190/300], Train Loss: 148695810048.0000, Val Loss: 137240690688.0000\n",
            "Epoch [200/300], Train Loss: 145842749440.0000, Val Loss: 134621601792.0000\n",
            "Epoch [210/300], Train Loss: 142913241088.0000, Val Loss: 131944210432.0000\n",
            "Epoch [220/300], Train Loss: 139931566080.0000, Val Loss: 129204535296.0000\n",
            "Epoch [230/300], Train Loss: 136915517440.0000, Val Loss: 126414880768.0000\n",
            "Epoch [240/300], Train Loss: 133861343232.0000, Val Loss: 123577884672.0000\n",
            "Epoch [250/300], Train Loss: 130772983808.0000, Val Loss: 120700305408.0000\n",
            "Epoch [260/300], Train Loss: 127647645696.0000, Val Loss: 117787844608.0000\n",
            "Epoch [270/300], Train Loss: 124479700992.0000, Val Loss: 114844909568.0000\n",
            "Epoch [280/300], Train Loss: 121287434240.0000, Val Loss: 111888867328.0000\n",
            "Epoch [290/300], Train Loss: 118072467456.0000, Val Loss: 108917923840.0000\n",
            "Epoch [300/300], Train Loss: 114855043072.0000, Val Loss: 105940393984.0000\n",
            "\n",
            "RMSE on the test set: 322834.2326\n"
          ]
        }
      ]
    },
    {
      "cell_type": "markdown",
      "source": [
        "### Нейронка 6"
      ],
      "metadata": {
        "id": "qMGHVWAWP47v"
      }
    },
    {
      "cell_type": "code",
      "source": [
        "import torch.nn as nn\n",
        "\n",
        "model_nn6 = nn.Sequential(\n",
        "    nn.Linear(X_train.shape[1], 64),\n",
        "    nn.Sigmoid(),\n",
        "    nn.Linear(64, 1)\n",
        ")\n",
        "\n",
        "learn_model(model=model_nn6)\n",
        "\n",
        "rmse_nn6 = get_test_rmse(model_nn6)\n",
        "rmses['Нейронка 6(64 нейронов + Sigmoid)'] = rmse_nn6\n",
        "print(f\"\\nRMSE on the test set: {rmse_nn6:.4f}\")"
      ],
      "metadata": {
        "colab": {
          "base_uri": "https://localhost:8080/"
        },
        "id": "X9LUQPQTP604",
        "outputId": "c5b2c63a-8bb2-4ffa-d40a-c16fa4199485"
      },
      "execution_count": 41,
      "outputs": [
        {
          "output_type": "stream",
          "name": "stdout",
          "text": [
            "Epoch [10/300], Train Loss: 321919385600.0000, Val Loss: 313370050560.0000\n",
            "Epoch [20/300], Train Loss: 321918861312.0000, Val Loss: 313369624576.0000\n",
            "Epoch [30/300], Train Loss: 321918468096.0000, Val Loss: 313369198592.0000\n",
            "Epoch [40/300], Train Loss: 321918042112.0000, Val Loss: 313368739840.0000\n",
            "Epoch [50/300], Train Loss: 321917648896.0000, Val Loss: 313368313856.0000\n",
            "Epoch [60/300], Train Loss: 321917190144.0000, Val Loss: 313367920640.0000\n",
            "Epoch [70/300], Train Loss: 321916731392.0000, Val Loss: 313367494656.0000\n",
            "Epoch [80/300], Train Loss: 321916272640.0000, Val Loss: 313367003136.0000\n",
            "Epoch [90/300], Train Loss: 321915781120.0000, Val Loss: 313366511616.0000\n",
            "Epoch [100/300], Train Loss: 321915191296.0000, Val Loss: 313365987328.0000\n",
            "Epoch [110/300], Train Loss: 321914732544.0000, Val Loss: 313365463040.0000\n",
            "Epoch [120/300], Train Loss: 321914273792.0000, Val Loss: 313365004288.0000\n",
            "Epoch [130/300], Train Loss: 321913815040.0000, Val Loss: 313364578304.0000\n",
            "Epoch [140/300], Train Loss: 321913356288.0000, Val Loss: 313364185088.0000\n",
            "Epoch [150/300], Train Loss: 321912897536.0000, Val Loss: 313363693568.0000\n",
            "Epoch [160/300], Train Loss: 321912471552.0000, Val Loss: 313363234816.0000\n",
            "Epoch [170/300], Train Loss: 321912012800.0000, Val Loss: 313362808832.0000\n",
            "Epoch [180/300], Train Loss: 321911586816.0000, Val Loss: 313362382848.0000\n",
            "Epoch [190/300], Train Loss: 321911128064.0000, Val Loss: 313361924096.0000\n",
            "Epoch [200/300], Train Loss: 321910669312.0000, Val Loss: 313361498112.0000\n",
            "Epoch [210/300], Train Loss: 321910243328.0000, Val Loss: 313361039360.0000\n",
            "Epoch [220/300], Train Loss: 321909817344.0000, Val Loss: 313360613376.0000\n",
            "Epoch [230/300], Train Loss: 321909358592.0000, Val Loss: 313360187392.0000\n",
            "Epoch [240/300], Train Loss: 321908899840.0000, Val Loss: 313359728640.0000\n",
            "Epoch [250/300], Train Loss: 321908473856.0000, Val Loss: 313359335424.0000\n",
            "Epoch [260/300], Train Loss: 321908113408.0000, Val Loss: 313358876672.0000\n",
            "Epoch [270/300], Train Loss: 321907687424.0000, Val Loss: 313358483456.0000\n",
            "Epoch [280/300], Train Loss: 321907228672.0000, Val Loss: 313358024704.0000\n",
            "Epoch [290/300], Train Loss: 321906835456.0000, Val Loss: 313357631488.0000\n",
            "Epoch [300/300], Train Loss: 321906376704.0000, Val Loss: 313357238272.0000\n",
            "\n",
            "RMSE on the test set: 557407.7125\n"
          ]
        }
      ]
    },
    {
      "cell_type": "markdown",
      "source": [
        "### Нейронка 7"
      ],
      "metadata": {
        "id": "Zm-LaYnRQMa1"
      }
    },
    {
      "cell_type": "code",
      "source": [
        "import torch.nn as nn\n",
        "\n",
        "model_nn7 = nn.Sequential(\n",
        "    nn.Linear(X_train.shape[1], 128),\n",
        "    nn.Sigmoid(),\n",
        "    nn.Linear(128, 1)\n",
        ")\n",
        "\n",
        "learn_model(model=model_nn7)\n",
        "\n",
        "rmse_nn7 = get_test_rmse(model_nn7)\n",
        "rmses['Нейронка 7(128 нейронов + Sigmoid)'] = rmse_nn7\n",
        "print(f\"\\nRMSE on the test set: {rmse_nn7:.4f}\")"
      ],
      "metadata": {
        "colab": {
          "base_uri": "https://localhost:8080/"
        },
        "id": "RNbTjK3AQSxy",
        "outputId": "67cc2c02-39a2-417f-f89f-c78e3f74f746"
      },
      "execution_count": 42,
      "outputs": [
        {
          "output_type": "stream",
          "name": "stdout",
          "text": [
            "Epoch [10/300], Train Loss: 321918795776.0000, Val Loss: 313369460736.0000\n",
            "Epoch [20/300], Train Loss: 321918009344.0000, Val Loss: 313368674304.0000\n",
            "Epoch [30/300], Train Loss: 321917190144.0000, Val Loss: 313367855104.0000\n",
            "Epoch [40/300], Train Loss: 321916370944.0000, Val Loss: 313367035904.0000\n",
            "Epoch [50/300], Train Loss: 321915486208.0000, Val Loss: 313366216704.0000\n",
            "Epoch [60/300], Train Loss: 321914667008.0000, Val Loss: 313365397504.0000\n",
            "Epoch [70/300], Train Loss: 321913749504.0000, Val Loss: 313364447232.0000\n",
            "Epoch [80/300], Train Loss: 321912733696.0000, Val Loss: 313363496960.0000\n",
            "Epoch [90/300], Train Loss: 321911717888.0000, Val Loss: 313362415616.0000\n",
            "Epoch [100/300], Train Loss: 321910669312.0000, Val Loss: 313361465344.0000\n",
            "Epoch [110/300], Train Loss: 321909751808.0000, Val Loss: 313360515072.0000\n",
            "Epoch [120/300], Train Loss: 321908834304.0000, Val Loss: 313359597568.0000\n",
            "Epoch [130/300], Train Loss: 321907949568.0000, Val Loss: 313358712832.0000\n",
            "Epoch [140/300], Train Loss: 321907032064.0000, Val Loss: 313357828096.0000\n",
            "Epoch [150/300], Train Loss: 321906114560.0000, Val Loss: 313356877824.0000\n",
            "Epoch [160/300], Train Loss: 321905065984.0000, Val Loss: 313355862016.0000\n",
            "Epoch [170/300], Train Loss: 321904148480.0000, Val Loss: 313354944512.0000\n",
            "Epoch [180/300], Train Loss: 321903198208.0000, Val Loss: 313354027008.0000\n",
            "Epoch [190/300], Train Loss: 321902313472.0000, Val Loss: 313353109504.0000\n",
            "Epoch [200/300], Train Loss: 321901395968.0000, Val Loss: 313352224768.0000\n",
            "Epoch [210/300], Train Loss: 321900511232.0000, Val Loss: 313351372800.0000\n",
            "Epoch [220/300], Train Loss: 321899659264.0000, Val Loss: 313350520832.0000\n",
            "Epoch [230/300], Train Loss: 321898774528.0000, Val Loss: 313349636096.0000\n",
            "Epoch [240/300], Train Loss: 321897922560.0000, Val Loss: 313348784128.0000\n",
            "Epoch [250/300], Train Loss: 321897005056.0000, Val Loss: 313347964928.0000\n",
            "Epoch [260/300], Train Loss: 321896153088.0000, Val Loss: 313347112960.0000\n",
            "Epoch [270/300], Train Loss: 321895333888.0000, Val Loss: 313346260992.0000\n",
            "Epoch [280/300], Train Loss: 321894514688.0000, Val Loss: 313345441792.0000\n",
            "Epoch [290/300], Train Loss: 321893662720.0000, Val Loss: 313344589824.0000\n",
            "Epoch [300/300], Train Loss: 321892777984.0000, Val Loss: 313343770624.0000\n",
            "\n",
            "RMSE on the test set: 557395.6612\n"
          ]
        }
      ]
    },
    {
      "cell_type": "markdown",
      "source": [
        "### Нейронка 8"
      ],
      "metadata": {
        "id": "AdqEFyd0Qe94"
      }
    },
    {
      "cell_type": "code",
      "source": [
        "import torch.nn as nn\n",
        "\n",
        "model_nn8 = nn.Sequential(\n",
        "    nn.Linear(X_train.shape[1], 256),\n",
        "    nn.Sigmoid(),\n",
        "    nn.Linear(256, 1)\n",
        ")\n",
        "\n",
        "learn_model(model=model_nn8)\n",
        "\n",
        "rmse_nn8 = get_test_rmse(model_nn8)\n",
        "rmses['Нейронка 8(256 нейронов + Sigmoid)'] = rmse_nn8\n",
        "print(f\"\\nRMSE on the test set: {rmse_nn8:.4f}\")"
      ],
      "metadata": {
        "colab": {
          "base_uri": "https://localhost:8080/"
        },
        "id": "wxPpv2RcQhEj",
        "outputId": "194bcdc0-a6aa-4e8b-d394-426b719484a8"
      },
      "execution_count": 43,
      "outputs": [
        {
          "output_type": "stream",
          "name": "stdout",
          "text": [
            "Epoch [10/300], Train Loss: 321917485056.0000, Val Loss: 313368117248.0000\n",
            "Epoch [20/300], Train Loss: 321915912192.0000, Val Loss: 313366577152.0000\n",
            "Epoch [30/300], Train Loss: 321914306560.0000, Val Loss: 313364938752.0000\n",
            "Epoch [40/300], Train Loss: 321912700928.0000, Val Loss: 313363333120.0000\n",
            "Epoch [50/300], Train Loss: 321910964224.0000, Val Loss: 313361629184.0000\n",
            "Epoch [60/300], Train Loss: 321908965376.0000, Val Loss: 313359663104.0000\n",
            "Epoch [70/300], Train Loss: 321906999296.0000, Val Loss: 313357664256.0000\n",
            "Epoch [80/300], Train Loss: 321904967680.0000, Val Loss: 313355632640.0000\n",
            "Epoch [90/300], Train Loss: 321902870528.0000, Val Loss: 313353601024.0000\n",
            "Epoch [100/300], Train Loss: 321900871680.0000, Val Loss: 313351634944.0000\n",
            "Epoch [110/300], Train Loss: 321898905600.0000, Val Loss: 313349636096.0000\n",
            "Epoch [120/300], Train Loss: 321897005056.0000, Val Loss: 313347735552.0000\n",
            "Epoch [130/300], Train Loss: 321895104512.0000, Val Loss: 313345900544.0000\n",
            "Epoch [140/300], Train Loss: 321893269504.0000, Val Loss: 313344098304.0000\n",
            "Epoch [150/300], Train Loss: 321891467264.0000, Val Loss: 313342328832.0000\n",
            "Epoch [160/300], Train Loss: 321889599488.0000, Val Loss: 313340493824.0000\n",
            "Epoch [170/300], Train Loss: 321887797248.0000, Val Loss: 313338691584.0000\n",
            "Epoch [180/300], Train Loss: 321885962240.0000, Val Loss: 313336889344.0000\n",
            "Epoch [190/300], Train Loss: 321884127232.0000, Val Loss: 313335054336.0000\n",
            "Epoch [200/300], Train Loss: 321882292224.0000, Val Loss: 313333284864.0000\n",
            "Epoch [210/300], Train Loss: 321880522752.0000, Val Loss: 313331449856.0000\n",
            "Epoch [220/300], Train Loss: 321878753280.0000, Val Loss: 313329713152.0000\n",
            "Epoch [230/300], Train Loss: 321876951040.0000, Val Loss: 313328009216.0000\n",
            "Epoch [240/300], Train Loss: 321875214336.0000, Val Loss: 313326239744.0000\n",
            "Epoch [250/300], Train Loss: 321873510400.0000, Val Loss: 313324568576.0000\n",
            "Epoch [260/300], Train Loss: 321871773696.0000, Val Loss: 313322831872.0000\n",
            "Epoch [270/300], Train Loss: 321870004224.0000, Val Loss: 313321095168.0000\n",
            "Epoch [280/300], Train Loss: 321868333056.0000, Val Loss: 313319424000.0000\n",
            "Epoch [290/300], Train Loss: 321866563584.0000, Val Loss: 313317687296.0000\n",
            "Epoch [300/300], Train Loss: 321864826880.0000, Val Loss: 313315950592.0000\n",
            "\n",
            "RMSE on the test set: 557370.8522\n"
          ]
        }
      ]
    },
    {
      "cell_type": "markdown",
      "source": [
        "### Нейронка 9"
      ],
      "metadata": {
        "id": "PqDXuXbwQpsB"
      }
    },
    {
      "cell_type": "code",
      "source": [
        "import torch.nn as nn\n",
        "\n",
        "model_nn9 = nn.Sequential(\n",
        "    nn.Linear(X_train.shape[1], 512),\n",
        "    nn.Sigmoid(),\n",
        "    nn.Linear(512, 1)\n",
        ")\n",
        "\n",
        "learn_model(model=model_nn9)\n",
        "\n",
        "rmse_nn9 = get_test_rmse(model_nn9)\n",
        "rmses['Нейронка 9(512 нейронов + Sigmoid)'] = rmse_nn9\n",
        "print(f\"\\nRMSE on the test set: {rmse_nn9:.4f}\")"
      ],
      "metadata": {
        "colab": {
          "base_uri": "https://localhost:8080/"
        },
        "id": "a5LLb_p0QrDd",
        "outputId": "a75930d7-67df-4fc4-a4d2-0117c023fe88"
      },
      "execution_count": 44,
      "outputs": [
        {
          "output_type": "stream",
          "name": "stdout",
          "text": [
            "Epoch [10/300], Train Loss: 321916960768.0000, Val Loss: 313367461888.0000\n",
            "Epoch [20/300], Train Loss: 321914142720.0000, Val Loss: 313364709376.0000\n",
            "Epoch [30/300], Train Loss: 321911390208.0000, Val Loss: 313361924096.0000\n",
            "Epoch [40/300], Train Loss: 321908441088.0000, Val Loss: 313358974976.0000\n",
            "Epoch [50/300], Train Loss: 321905229824.0000, Val Loss: 313355862016.0000\n",
            "Epoch [60/300], Train Loss: 321901756416.0000, Val Loss: 313352388608.0000\n",
            "Epoch [70/300], Train Loss: 321897922560.0000, Val Loss: 313348554752.0000\n",
            "Epoch [80/300], Train Loss: 321893859328.0000, Val Loss: 313344491520.0000\n",
            "Epoch [90/300], Train Loss: 321889665024.0000, Val Loss: 313340297216.0000\n",
            "Epoch [100/300], Train Loss: 321885241344.0000, Val Loss: 313335971840.0000\n",
            "Epoch [110/300], Train Loss: 321880817664.0000, Val Loss: 313331548160.0000\n",
            "Epoch [120/300], Train Loss: 321876426752.0000, Val Loss: 313327190016.0000\n",
            "Epoch [130/300], Train Loss: 321872035840.0000, Val Loss: 313322864640.0000\n",
            "Epoch [140/300], Train Loss: 321867776000.0000, Val Loss: 313318637568.0000\n",
            "Epoch [150/300], Train Loss: 321863680000.0000, Val Loss: 313314607104.0000\n",
            "Epoch [160/300], Train Loss: 321859780608.0000, Val Loss: 313310707712.0000\n",
            "Epoch [170/300], Train Loss: 321855848448.0000, Val Loss: 313306873856.0000\n",
            "Epoch [180/300], Train Loss: 321851949056.0000, Val Loss: 313303007232.0000\n",
            "Epoch [190/300], Train Loss: 321848115200.0000, Val Loss: 313299173376.0000\n",
            "Epoch [200/300], Train Loss: 321844248576.0000, Val Loss: 313295372288.0000\n",
            "Epoch [210/300], Train Loss: 321840349184.0000, Val Loss: 313291505664.0000\n",
            "Epoch [220/300], Train Loss: 321836548096.0000, Val Loss: 313287802880.0000\n",
            "Epoch [230/300], Train Loss: 321832878080.0000, Val Loss: 313284132864.0000\n",
            "Epoch [240/300], Train Loss: 321829240832.0000, Val Loss: 313280495616.0000\n",
            "Epoch [250/300], Train Loss: 321825570816.0000, Val Loss: 313276891136.0000\n",
            "Epoch [260/300], Train Loss: 321821900800.0000, Val Loss: 313273286656.0000\n",
            "Epoch [270/300], Train Loss: 321818198016.0000, Val Loss: 313269616640.0000\n",
            "Epoch [280/300], Train Loss: 321814462464.0000, Val Loss: 313265881088.0000\n",
            "Epoch [290/300], Train Loss: 321810759680.0000, Val Loss: 313262243840.0000\n",
            "Epoch [300/300], Train Loss: 321807056896.0000, Val Loss: 313258606592.0000\n",
            "\n",
            "RMSE on the test set: 557319.5259\n"
          ]
        }
      ]
    },
    {
      "cell_type": "markdown",
      "source": [
        "### Нейронка 10"
      ],
      "metadata": {
        "id": "RiQ7hp88Qv_w"
      }
    },
    {
      "cell_type": "code",
      "source": [
        "import torch.nn as nn\n",
        "\n",
        "model_nn10 = nn.Sequential(\n",
        "    nn.Linear(X_train.shape[1], 1024),\n",
        "    nn.Sigmoid(),\n",
        "    nn.Linear(1024, 1)\n",
        ")\n",
        "\n",
        "learn_model(model=model_nn10)\n",
        "\n",
        "rmse_nn10 = get_test_rmse(model_nn10)\n",
        "rmses['Нейронка 10(1024 нейронов + Sigmoid)'] = rmse_nn10\n",
        "print(f\"\\nRMSE on the test set: {rmse_nn10:.4f}\")"
      ],
      "metadata": {
        "colab": {
          "base_uri": "https://localhost:8080/"
        },
        "id": "_O8KU-hsQxfy",
        "outputId": "7d301310-aad9-48fe-8787-5f8921a4840a"
      },
      "execution_count": 45,
      "outputs": [
        {
          "output_type": "stream",
          "name": "stdout",
          "text": [
            "Epoch [10/300], Train Loss: 321915158528.0000, Val Loss: 313365430272.0000\n",
            "Epoch [20/300], Train Loss: 321909620736.0000, Val Loss: 313359925248.0000\n",
            "Epoch [30/300], Train Loss: 321903788032.0000, Val Loss: 313354125312.0000\n",
            "Epoch [40/300], Train Loss: 321897463808.0000, Val Loss: 313347833856.0000\n",
            "Epoch [50/300], Train Loss: 321890615296.0000, Val Loss: 313340985344.0000\n",
            "Epoch [60/300], Train Loss: 321883144192.0000, Val Loss: 313333514240.0000\n",
            "Epoch [70/300], Train Loss: 321875116032.0000, Val Loss: 313325584384.0000\n",
            "Epoch [80/300], Train Loss: 321866629120.0000, Val Loss: 313317130240.0000\n",
            "Epoch [90/300], Train Loss: 321857880064.0000, Val Loss: 313308512256.0000\n",
            "Epoch [100/300], Train Loss: 321848999936.0000, Val Loss: 313299599360.0000\n",
            "Epoch [110/300], Train Loss: 321839890432.0000, Val Loss: 313290555392.0000\n",
            "Epoch [120/300], Train Loss: 321830977536.0000, Val Loss: 313281740800.0000\n",
            "Epoch [130/300], Train Loss: 321822326784.0000, Val Loss: 313273253888.0000\n",
            "Epoch [140/300], Train Loss: 321814134784.0000, Val Loss: 313265127424.0000\n",
            "Epoch [150/300], Train Loss: 321806270464.0000, Val Loss: 313257328640.0000\n",
            "Epoch [160/300], Train Loss: 321798471680.0000, Val Loss: 313249693696.0000\n",
            "Epoch [170/300], Train Loss: 321790803968.0000, Val Loss: 313242124288.0000\n",
            "Epoch [180/300], Train Loss: 321783169024.0000, Val Loss: 313234554880.0000\n",
            "Epoch [190/300], Train Loss: 321775697920.0000, Val Loss: 313227149312.0000\n",
            "Epoch [200/300], Train Loss: 321768161280.0000, Val Loss: 313219678208.0000\n",
            "Epoch [210/300], Train Loss: 321760690176.0000, Val Loss: 313212272640.0000\n",
            "Epoch [220/300], Train Loss: 321753186304.0000, Val Loss: 313204867072.0000\n",
            "Epoch [230/300], Train Loss: 321745813504.0000, Val Loss: 313197592576.0000\n",
            "Epoch [240/300], Train Loss: 321738473472.0000, Val Loss: 313190318080.0000\n",
            "Epoch [250/300], Train Loss: 321731166208.0000, Val Loss: 313183076352.0000\n",
            "Epoch [260/300], Train Loss: 321723858944.0000, Val Loss: 313175867392.0000\n",
            "Epoch [270/300], Train Loss: 321716584448.0000, Val Loss: 313168691200.0000\n",
            "Epoch [280/300], Train Loss: 321709309952.0000, Val Loss: 313161482240.0000\n",
            "Epoch [290/300], Train Loss: 321702133760.0000, Val Loss: 313154338816.0000\n",
            "Epoch [300/300], Train Loss: 321694924800.0000, Val Loss: 313147195392.0000\n",
            "\n",
            "RMSE on the test set: 557219.9465\n"
          ]
        }
      ]
    },
    {
      "cell_type": "markdown",
      "source": [
        "### Нейронка 11"
      ],
      "metadata": {
        "id": "InnFvaH-SEyf"
      }
    },
    {
      "cell_type": "code",
      "source": [
        "import torch.nn as nn\n",
        "\n",
        "model_nn11 = nn.Sequential(\n",
        "    nn.Linear(X_train.shape[1], 64),\n",
        "    nn.ReLU(),\n",
        "    nn.Linear(64, 64),\n",
        "    nn.ReLU(),\n",
        "    nn.Linear(64, 1)\n",
        ")\n",
        "\n",
        "learn_model(model=model_nn11)\n",
        "\n",
        "rmse_nn11 = get_test_rmse(model_nn11)\n",
        "rmses['Нейронка 11((64 нейронов)*2 + ReLU)'] = rmse_nn11\n",
        "print(f\"\\nRMSE on the test set: {rmse_nn11:.4f}\")"
      ],
      "metadata": {
        "colab": {
          "base_uri": "https://localhost:8080/"
        },
        "id": "SeqiZubVSGI2",
        "outputId": "80867560-c0ee-4602-8ff0-3d89d333bf61"
      },
      "execution_count": 46,
      "outputs": [
        {
          "output_type": "stream",
          "name": "stdout",
          "text": [
            "Epoch [10/300], Train Loss: 320590446592.0000, Val Loss: 311906598912.0000\n",
            "Epoch [20/300], Train Loss: 318833459200.0000, Val Loss: 310138208256.0000\n",
            "Epoch [30/300], Train Loss: 316498935808.0000, Val Loss: 307761774592.0000\n",
            "Epoch [40/300], Train Loss: 313189203968.0000, Val Loss: 304385556480.0000\n",
            "Epoch [50/300], Train Loss: 308531134464.0000, Val Loss: 299644026880.0000\n",
            "Epoch [60/300], Train Loss: 302175584256.0000, Val Loss: 293189156864.0000\n",
            "Epoch [70/300], Train Loss: 293788450816.0000, Val Loss: 284685271040.0000\n",
            "Epoch [80/300], Train Loss: 283055915008.0000, Val Loss: 273819238400.0000\n",
            "Epoch [90/300], Train Loss: 269875445760.0000, Val Loss: 260500307968.0000\n",
            "Epoch [100/300], Train Loss: 254428430336.0000, Val Loss: 244901363712.0000\n",
            "Epoch [110/300], Train Loss: 237261029376.0000, Val Loss: 227569811456.0000\n",
            "Epoch [120/300], Train Loss: 219395178496.0000, Val Loss: 209512202240.0000\n",
            "Epoch [130/300], Train Loss: 202265640960.0000, Val Loss: 192142295040.0000\n",
            "Epoch [140/300], Train Loss: 187494154240.0000, Val Loss: 177039769600.0000\n",
            "Epoch [150/300], Train Loss: 176288464896.0000, Val Loss: 165388042240.0000\n",
            "Epoch [160/300], Train Loss: 169038004224.0000, Val Loss: 157611851776.0000\n",
            "Epoch [170/300], Train Loss: 165009801216.0000, Val Loss: 153047138304.0000\n",
            "Epoch [180/300], Train Loss: 162645590016.0000, Val Loss: 150298607616.0000\n",
            "Epoch [190/300], Train Loss: 160730677248.0000, Val Loss: 148244955136.0000\n",
            "Epoch [200/300], Train Loss: 158776639488.0000, Val Loss: 146363236352.0000\n",
            "Epoch [210/300], Train Loss: 156726771712.0000, Val Loss: 144492412928.0000\n",
            "Epoch [220/300], Train Loss: 154623311872.0000, Val Loss: 142579761152.0000\n",
            "Epoch [230/300], Train Loss: 152442765312.0000, Val Loss: 140571443200.0000\n",
            "Epoch [240/300], Train Loss: 150170845184.0000, Val Loss: 138459463680.0000\n",
            "Epoch [250/300], Train Loss: 147791986688.0000, Val Loss: 136237301760.0000\n",
            "Epoch [260/300], Train Loss: 145295671296.0000, Val Loss: 133901254656.0000\n",
            "Epoch [270/300], Train Loss: 142696169472.0000, Val Loss: 131460235264.0000\n",
            "Epoch [280/300], Train Loss: 139955453952.0000, Val Loss: 128891609088.0000\n",
            "Epoch [290/300], Train Loss: 137081520128.0000, Val Loss: 126207197184.0000\n",
            "Epoch [300/300], Train Loss: 134109061120.0000, Val Loss: 123416363008.0000\n",
            "\n",
            "RMSE on the test set: 349146.0625\n"
          ]
        }
      ]
    },
    {
      "cell_type": "markdown",
      "source": [
        "### Нейронка 12"
      ],
      "metadata": {
        "id": "9SeRB6nbSbbI"
      }
    },
    {
      "cell_type": "code",
      "source": [
        "import torch.nn as nn\n",
        "\n",
        "model_nn12 = nn.Sequential(\n",
        "    nn.Linear(X_train.shape[1], 128),\n",
        "    nn.ReLU(),\n",
        "    nn.Linear(128, 128),\n",
        "    nn.ReLU(),\n",
        "    nn.Linear(128, 1)\n",
        ")\n",
        "\n",
        "learn_model(model=model_nn12)\n",
        "\n",
        "rmse_nn12 = get_test_rmse(model_nn12)\n",
        "rmses['Нейронка 12((128 нейронов)*2 + ReLU)'] = rmse_nn12\n",
        "print(f\"\\nRMSE on the test set: {rmse_nn12:.4f}\")"
      ],
      "metadata": {
        "colab": {
          "base_uri": "https://localhost:8080/"
        },
        "id": "gqoN_5YMSctp",
        "outputId": "ff1f7b77-8d69-42a1-8565-842e9cf20233"
      },
      "execution_count": 47,
      "outputs": [
        {
          "output_type": "stream",
          "name": "stdout",
          "text": [
            "Epoch [10/300], Train Loss: 318843453440.0000, Val Loss: 309998813184.0000\n",
            "Epoch [20/300], Train Loss: 314550910976.0000, Val Loss: 305581522944.0000\n",
            "Epoch [30/300], Train Loss: 307719634944.0000, Val Loss: 298535419904.0000\n",
            "Epoch [40/300], Train Loss: 297137045504.0000, Val Loss: 287661555712.0000\n",
            "Epoch [50/300], Train Loss: 281782059008.0000, Val Loss: 271961243648.0000\n",
            "Epoch [60/300], Train Loss: 261183635456.0000, Val Loss: 250981515264.0000\n",
            "Epoch [70/300], Train Loss: 235933089792.0000, Val Loss: 225328611328.0000\n",
            "Epoch [80/300], Train Loss: 208539009024.0000, Val Loss: 197575213056.0000\n",
            "Epoch [90/300], Train Loss: 183978819584.0000, Val Loss: 172676726784.0000\n",
            "Epoch [100/300], Train Loss: 167609024512.0000, Val Loss: 155817492480.0000\n",
            "Epoch [110/300], Train Loss: 160340492288.0000, Val Loss: 147820052480.0000\n",
            "Epoch [120/300], Train Loss: 156549562368.0000, Val Loss: 143598764032.0000\n",
            "Epoch [130/300], Train Loss: 152186224640.0000, Val Loss: 139624464384.0000\n",
            "Epoch [140/300], Train Loss: 147642744832.0000, Val Loss: 135759585280.0000\n",
            "Epoch [150/300], Train Loss: 143105540096.0000, Val Loss: 131709206528.0000\n",
            "Epoch [160/300], Train Loss: 138346790912.0000, Val Loss: 127257419776.0000\n",
            "Epoch [170/300], Train Loss: 133335236608.0000, Val Loss: 122496401408.0000\n",
            "Epoch [180/300], Train Loss: 128086908928.0000, Val Loss: 117524111360.0000\n",
            "Epoch [190/300], Train Loss: 122586144768.0000, Val Loss: 112359030784.0000\n",
            "Epoch [200/300], Train Loss: 116759035904.0000, Val Loss: 106949582848.0000\n",
            "Epoch [210/300], Train Loss: 110618189824.0000, Val Loss: 101283217408.0000\n",
            "Epoch [220/300], Train Loss: 104183562240.0000, Val Loss: 95355486208.0000\n",
            "Epoch [230/300], Train Loss: 97546584064.0000, Val Loss: 89242951680.0000\n",
            "Epoch [240/300], Train Loss: 90855047168.0000, Val Loss: 83080642560.0000\n",
            "Epoch [250/300], Train Loss: 84260151296.0000, Val Loss: 77010567168.0000\n",
            "Epoch [260/300], Train Loss: 77841170432.0000, Val Loss: 71143022592.0000\n",
            "Epoch [270/300], Train Loss: 71710916608.0000, Val Loss: 65580662784.0000\n",
            "Epoch [280/300], Train Loss: 66036215808.0000, Val Loss: 60473462784.0000\n",
            "Epoch [290/300], Train Loss: 60933382144.0000, Val Loss: 55909511168.0000\n",
            "Epoch [300/300], Train Loss: 56496492544.0000, Val Loss: 51970306048.0000\n",
            "\n",
            "RMSE on the test set: 226708.8686\n"
          ]
        }
      ]
    },
    {
      "cell_type": "markdown",
      "source": [
        "### Нейронка 13"
      ],
      "metadata": {
        "id": "VNN8EtIbSkQq"
      }
    },
    {
      "cell_type": "code",
      "source": [
        "import torch.nn as nn\n",
        "\n",
        "model_nn13 = nn.Sequential(\n",
        "    nn.Linear(X_train.shape[1], 256),\n",
        "    nn.ReLU(),\n",
        "    nn.Linear(256, 256),\n",
        "    nn.ReLU(),\n",
        "    nn.Linear(256, 1)\n",
        ")\n",
        "\n",
        "learn_model(model=model_nn13)\n",
        "\n",
        "rmse_nn13 = get_test_rmse(model_nn13)\n",
        "rmses['Нейронка 13((256 нейронов)*2 + ReLU)'] = rmse_nn13\n",
        "print(f\"\\nRMSE on the test set: {rmse_nn13:.4f}\")"
      ],
      "metadata": {
        "colab": {
          "base_uri": "https://localhost:8080/"
        },
        "id": "difzrhDMSlnz",
        "outputId": "909ed8e4-b231-4486-82bb-2351ec4a6027"
      },
      "execution_count": 48,
      "outputs": [
        {
          "output_type": "stream",
          "name": "stdout",
          "text": [
            "Epoch [10/300], Train Loss: 317043671040.0000, Val Loss: 307904249856.0000\n",
            "Epoch [20/300], Train Loss: 308161839104.0000, Val Loss: 298667081728.0000\n",
            "Epoch [30/300], Train Loss: 293482725376.0000, Val Loss: 283501002752.0000\n",
            "Epoch [40/300], Train Loss: 271516221440.0000, Val Loss: 260947558400.0000\n",
            "Epoch [50/300], Train Loss: 242373115904.0000, Val Loss: 231190282240.0000\n",
            "Epoch [60/300], Train Loss: 209703124992.0000, Val Loss: 197987729408.0000\n",
            "Epoch [70/300], Train Loss: 181894578176.0000, Val Loss: 169724821504.0000\n",
            "Epoch [80/300], Train Loss: 167249100800.0000, Val Loss: 154333233152.0000\n",
            "Epoch [90/300], Train Loss: 161161265152.0000, Val Loss: 147360219136.0000\n",
            "Epoch [100/300], Train Loss: 153032343552.0000, Val Loss: 139738595328.0000\n",
            "Epoch [110/300], Train Loss: 143963652096.0000, Val Loss: 131854647296.0000\n",
            "Epoch [120/300], Train Loss: 135601889280.0000, Val Loss: 124283355136.0000\n",
            "Epoch [130/300], Train Loss: 127661490176.0000, Val Loss: 116885970944.0000\n",
            "Epoch [140/300], Train Loss: 119409065984.0000, Val Loss: 109189111808.0000\n",
            "Epoch [150/300], Train Loss: 110861893632.0000, Val Loss: 101210693632.0000\n",
            "Epoch [160/300], Train Loss: 102042083328.0000, Val Loss: 93005266944.0000\n",
            "Epoch [170/300], Train Loss: 93146079232.0000, Val Loss: 84793368576.0000\n",
            "Epoch [180/300], Train Loss: 84279861248.0000, Val Loss: 76680192000.0000\n",
            "Epoch [190/300], Train Loss: 75670290432.0000, Val Loss: 68870840320.0000\n",
            "Epoch [200/300], Train Loss: 67600584704.0000, Val Loss: 61627396096.0000\n",
            "Epoch [210/300], Train Loss: 60494151680.0000, Val Loss: 55301689344.0000\n",
            "Epoch [220/300], Train Loss: 54573187072.0000, Val Loss: 50106335232.0000\n",
            "Epoch [230/300], Train Loss: 49974915072.0000, Val Loss: 46146326528.0000\n",
            "Epoch [240/300], Train Loss: 46662316032.0000, Val Loss: 43355025408.0000\n",
            "Epoch [250/300], Train Loss: 44496814080.0000, Val Loss: 41589997568.0000\n",
            "Epoch [260/300], Train Loss: 43221528576.0000, Val Loss: 40607997952.0000\n",
            "Epoch [270/300], Train Loss: 42583052288.0000, Val Loss: 40164966400.0000\n",
            "Epoch [280/300], Train Loss: 42334765056.0000, Val Loss: 40029470720.0000\n",
            "Epoch [290/300], Train Loss: 42268516352.0000, Val Loss: 40012185600.0000\n",
            "Epoch [300/300], Train Loss: 42255196160.0000, Val Loss: 40011759616.0000\n",
            "\n",
            "RMSE on the test set: 202727.7359\n"
          ]
        }
      ]
    },
    {
      "cell_type": "markdown",
      "source": [
        "### Нейронка 14"
      ],
      "metadata": {
        "id": "2qC-U9EoStYs"
      }
    },
    {
      "cell_type": "code",
      "source": [
        "import torch.nn as nn\n",
        "\n",
        "model_nn14 = nn.Sequential(\n",
        "    nn.Linear(X_train.shape[1], 512),\n",
        "    nn.ReLU(),\n",
        "    nn.Linear(512, 512),\n",
        "    nn.ReLU(),\n",
        "    nn.Linear(512, 1)\n",
        ")\n",
        "\n",
        "learn_model(model=model_nn14)\n",
        "\n",
        "rmse_nn14 = get_test_rmse(model_nn14)\n",
        "rmses['Нейронка 14((512 нейронов)*2 + ReLU)'] = rmse_nn14\n",
        "print(f\"\\nRMSE on the test set: {rmse_nn14:.4f}\")"
      ],
      "metadata": {
        "colab": {
          "base_uri": "https://localhost:8080/"
        },
        "id": "D5rGlOxhSvGP",
        "outputId": "a91b3876-bb73-4baf-e6a4-ee6bbfb891b6"
      },
      "execution_count": 49,
      "outputs": [
        {
          "output_type": "stream",
          "name": "stdout",
          "text": [
            "Epoch [10/300], Train Loss: 305283923968.0000, Val Loss: 294538706944.0000\n",
            "Epoch [20/300], Train Loss: 272996646912.0000, Val Loss: 260877336576.0000\n",
            "Epoch [30/300], Train Loss: 226870820864.0000, Val Loss: 213599977472.0000\n",
            "Epoch [40/300], Train Loss: 186413301760.0000, Val Loss: 172915589120.0000\n",
            "Epoch [50/300], Train Loss: 176793468928.0000, Val Loss: 161853472768.0000\n",
            "Epoch [60/300], Train Loss: 168273182720.0000, Val Loss: 153494372352.0000\n",
            "Epoch [70/300], Train Loss: 157210984448.0000, Val Loss: 144739418112.0000\n",
            "Epoch [80/300], Train Loss: 144990191616.0000, Val Loss: 132856348672.0000\n",
            "Epoch [90/300], Train Loss: 129261469696.0000, Val Loss: 117406228480.0000\n",
            "Epoch [100/300], Train Loss: 110921203712.0000, Val Loss: 100102692864.0000\n",
            "Epoch [110/300], Train Loss: 91272716288.0000, Val Loss: 82144337920.0000\n",
            "Epoch [120/300], Train Loss: 72962211840.0000, Val Loss: 65725779968.0000\n",
            "Epoch [130/300], Train Loss: 57882869760.0000, Val Loss: 52545429504.0000\n",
            "Epoch [140/300], Train Loss: 47982526464.0000, Val Loss: 44228853760.0000\n",
            "Epoch [150/300], Train Loss: 43368161280.0000, Val Loss: 40670248960.0000\n",
            "Epoch [160/300], Train Loss: 42371928064.0000, Val Loss: 40126308352.0000\n",
            "Epoch [170/300], Train Loss: 42435768320.0000, Val Loss: 40253534208.0000\n",
            "Epoch [180/300], Train Loss: 42383921152.0000, Val Loss: 40178106368.0000\n",
            "Epoch [190/300], Train Loss: 42306502656.0000, Val Loss: 40077058048.0000\n",
            "Epoch [200/300], Train Loss: 42283888640.0000, Val Loss: 40037396480.0000\n",
            "Epoch [210/300], Train Loss: 42265612288.0000, Val Loss: 40018468864.0000\n",
            "Epoch [220/300], Train Loss: 42242699264.0000, Val Loss: 40003567616.0000\n",
            "Epoch [230/300], Train Loss: 42221350912.0000, Val Loss: 39988224000.0000\n",
            "Epoch [240/300], Train Loss: 42200281088.0000, Val Loss: 39970091008.0000\n",
            "Epoch [250/300], Train Loss: 42180599808.0000, Val Loss: 39951867904.0000\n",
            "Epoch [260/300], Train Loss: 42162049024.0000, Val Loss: 39934967808.0000\n",
            "Epoch [270/300], Train Loss: 42144178176.0000, Val Loss: 39919230976.0000\n",
            "Epoch [280/300], Train Loss: 42127138816.0000, Val Loss: 39903875072.0000\n",
            "Epoch [290/300], Train Loss: 42111217664.0000, Val Loss: 39888928768.0000\n",
            "Epoch [300/300], Train Loss: 42096603136.0000, Val Loss: 39874342912.0000\n",
            "\n",
            "RMSE on the test set: 202302.5928\n"
          ]
        }
      ]
    },
    {
      "cell_type": "markdown",
      "source": [
        "### Нейронка 15"
      ],
      "metadata": {
        "id": "lgYs8MlzS2iW"
      }
    },
    {
      "cell_type": "code",
      "source": [
        "import torch.nn as nn\n",
        "\n",
        "model_nn15 = nn.Sequential(\n",
        "    nn.Linear(X_train.shape[1], 1024),\n",
        "    nn.ReLU(),\n",
        "    nn.Linear(1024, 1024),\n",
        "    nn.ReLU(),\n",
        "    nn.Linear(1024, 1)\n",
        ")\n",
        "\n",
        "learn_model(model=model_nn15)\n",
        "\n",
        "rmse_nn15 = get_test_rmse(model_nn15)\n",
        "rmses['Нейронка 15((1024 нейронов)*2 + ReLU)'] = rmse_nn15\n",
        "print(f\"\\nRMSE on the test set: {rmse_nn15:.4f}\")"
      ],
      "metadata": {
        "colab": {
          "base_uri": "https://localhost:8080/"
        },
        "id": "ZyYf8JJtS3-K",
        "outputId": "0ed1d458-9ce6-4f1c-dc60-4d70a2a71d21"
      },
      "execution_count": 50,
      "outputs": [
        {
          "output_type": "stream",
          "name": "stdout",
          "text": [
            "Epoch [10/300], Train Loss: 270922858496.0000, Val Loss: 255605587968.0000\n",
            "Epoch [20/300], Train Loss: 197525733376.0000, Val Loss: 182004416512.0000\n",
            "Epoch [30/300], Train Loss: 183433052160.0000, Val Loss: 166615564288.0000\n",
            "Epoch [40/300], Train Loss: 165489377280.0000, Val Loss: 151444029440.0000\n",
            "Epoch [50/300], Train Loss: 150648029184.0000, Val Loss: 138329128960.0000\n",
            "Epoch [60/300], Train Loss: 128648716288.0000, Val Loss: 116080762880.0000\n",
            "Epoch [70/300], Train Loss: 99933437952.0000, Val Loss: 89043902464.0000\n",
            "Epoch [80/300], Train Loss: 67561140224.0000, Val Loss: 59812474880.0000\n",
            "Epoch [90/300], Train Loss: 45288361984.0000, Val Loss: 41615704064.0000\n",
            "Epoch [100/300], Train Loss: 42992541696.0000, Val Loss: 41105121280.0000\n",
            "Epoch [110/300], Train Loss: 42914492416.0000, Val Loss: 40649596928.0000\n",
            "Epoch [120/300], Train Loss: 42069594112.0000, Val Loss: 39855390720.0000\n",
            "Epoch [130/300], Train Loss: 42109370368.0000, Val Loss: 39842291712.0000\n",
            "Epoch [140/300], Train Loss: 41989652480.0000, Val Loss: 39753793536.0000\n",
            "Epoch [150/300], Train Loss: 41942147072.0000, Val Loss: 39734063104.0000\n",
            "Epoch [160/300], Train Loss: 41908940800.0000, Val Loss: 39693586432.0000\n",
            "Epoch [170/300], Train Loss: 41873715200.0000, Val Loss: 39647019008.0000\n",
            "Epoch [180/300], Train Loss: 41844334592.0000, Val Loss: 39613358080.0000\n",
            "Epoch [190/300], Train Loss: 41815371776.0000, Val Loss: 39585386496.0000\n",
            "Epoch [200/300], Train Loss: 41788153856.0000, Val Loss: 39557844992.0000\n",
            "Epoch [210/300], Train Loss: 41761947648.0000, Val Loss: 39528845312.0000\n",
            "Epoch [220/300], Train Loss: 41736515584.0000, Val Loss: 39500328960.0000\n",
            "Epoch [230/300], Train Loss: 41712013312.0000, Val Loss: 39474139136.0000\n",
            "Epoch [240/300], Train Loss: 41688342528.0000, Val Loss: 39448657920.0000\n",
            "Epoch [250/300], Train Loss: 41665630208.0000, Val Loss: 39424217088.0000\n",
            "Epoch [260/300], Train Loss: 41643659264.0000, Val Loss: 39400591360.0000\n",
            "Epoch [270/300], Train Loss: 41622450176.0000, Val Loss: 39377932288.0000\n",
            "Epoch [280/300], Train Loss: 41602060288.0000, Val Loss: 39355998208.0000\n",
            "Epoch [290/300], Train Loss: 41582391296.0000, Val Loss: 39334903808.0000\n",
            "Epoch [300/300], Train Loss: 41563557888.0000, Val Loss: 39314563072.0000\n",
            "\n",
            "RMSE on the test set: 200778.1598\n"
          ]
        }
      ]
    },
    {
      "cell_type": "markdown",
      "source": [
        "### Нейронка 16"
      ],
      "metadata": {
        "id": "sx0uQpRdVNPm"
      }
    },
    {
      "cell_type": "code",
      "source": [
        "import torch.nn as nn\n",
        "\n",
        "model_nn16 = nn.Sequential(\n",
        "    nn.Linear(X_train.shape[1], 64),\n",
        "    nn.Sigmoid(),\n",
        "    nn.Linear(64, 64),\n",
        "    nn.Sigmoid(),\n",
        "    nn.Linear(64, 1)\n",
        ")\n",
        "\n",
        "learn_model(model=model_nn16)\n",
        "\n",
        "rmse_nn16 = get_test_rmse(model_nn16)\n",
        "rmses['Нейронка 16((64 нейронов)*2 + Sigmoid)'] = rmse_nn16\n",
        "print(f\"\\nRMSE on the test set: {rmse_nn16:.4f}\")"
      ],
      "metadata": {
        "colab": {
          "base_uri": "https://localhost:8080/"
        },
        "id": "VuoPNqn9VOZf",
        "outputId": "13adfc54-7e66-4b15-f2d6-0c9ccd8bdada"
      },
      "execution_count": 51,
      "outputs": [
        {
          "output_type": "stream",
          "name": "stdout",
          "text": [
            "Epoch [10/300], Train Loss: 321919483904.0000, Val Loss: 313370181632.0000\n",
            "Epoch [20/300], Train Loss: 321918828544.0000, Val Loss: 313369526272.0000\n",
            "Epoch [30/300], Train Loss: 321918107648.0000, Val Loss: 313368838144.0000\n",
            "Epoch [40/300], Train Loss: 321917452288.0000, Val Loss: 313368117248.0000\n",
            "Epoch [50/300], Train Loss: 321916731392.0000, Val Loss: 313367429120.0000\n",
            "Epoch [60/300], Train Loss: 321916076032.0000, Val Loss: 313366806528.0000\n",
            "Epoch [70/300], Train Loss: 321915453440.0000, Val Loss: 313366151168.0000\n",
            "Epoch [80/300], Train Loss: 321914863616.0000, Val Loss: 313365495808.0000\n",
            "Epoch [90/300], Train Loss: 321914208256.0000, Val Loss: 313364938752.0000\n",
            "Epoch [100/300], Train Loss: 321913552896.0000, Val Loss: 313364348928.0000\n",
            "Epoch [110/300], Train Loss: 321912930304.0000, Val Loss: 313363693568.0000\n",
            "Epoch [120/300], Train Loss: 321912307712.0000, Val Loss: 313363103744.0000\n",
            "Epoch [130/300], Train Loss: 321911717888.0000, Val Loss: 313362448384.0000\n",
            "Epoch [140/300], Train Loss: 321911062528.0000, Val Loss: 313361825792.0000\n",
            "Epoch [150/300], Train Loss: 321910374400.0000, Val Loss: 313361137664.0000\n",
            "Epoch [160/300], Train Loss: 321909686272.0000, Val Loss: 313360482304.0000\n",
            "Epoch [170/300], Train Loss: 321909063680.0000, Val Loss: 313359859712.0000\n",
            "Epoch [180/300], Train Loss: 321908408320.0000, Val Loss: 313359204352.0000\n",
            "Epoch [190/300], Train Loss: 321907752960.0000, Val Loss: 313358548992.0000\n",
            "Epoch [200/300], Train Loss: 321907064832.0000, Val Loss: 313357959168.0000\n",
            "Epoch [210/300], Train Loss: 321906442240.0000, Val Loss: 313357303808.0000\n",
            "Epoch [220/300], Train Loss: 321905819648.0000, Val Loss: 313356681216.0000\n",
            "Epoch [230/300], Train Loss: 321905229824.0000, Val Loss: 313356058624.0000\n",
            "Epoch [240/300], Train Loss: 321904607232.0000, Val Loss: 313355436032.0000\n",
            "Epoch [250/300], Train Loss: 321904017408.0000, Val Loss: 313354878976.0000\n",
            "Epoch [260/300], Train Loss: 321903427584.0000, Val Loss: 313354256384.0000\n",
            "Epoch [270/300], Train Loss: 321902837760.0000, Val Loss: 313353699328.0000\n",
            "Epoch [280/300], Train Loss: 321902182400.0000, Val Loss: 313353076736.0000\n",
            "Epoch [290/300], Train Loss: 321901592576.0000, Val Loss: 313352486912.0000\n",
            "Epoch [300/300], Train Loss: 321900969984.0000, Val Loss: 313351831552.0000\n",
            "\n",
            "RMSE on the test set: 557402.9214\n"
          ]
        }
      ]
    },
    {
      "cell_type": "markdown",
      "source": [
        "### Нерйонка 17"
      ],
      "metadata": {
        "id": "qDKYr8UOVYjQ"
      }
    },
    {
      "cell_type": "code",
      "source": [
        "import torch.nn as nn\n",
        "\n",
        "model_nn17 = nn.Sequential(\n",
        "    nn.Linear(X_train.shape[1], 128),\n",
        "    nn.Sigmoid(),\n",
        "    nn.Linear(128, 128),\n",
        "    nn.Sigmoid(),\n",
        "    nn.Linear(128, 1)\n",
        ")\n",
        "\n",
        "learn_model(model=model_nn17)\n",
        "\n",
        "rmse_nn17 = get_test_rmse(model_nn17)\n",
        "rmses['Нейронка 17((128 нейронов)*2 + Sigmoid)'] = rmse_nn17\n",
        "print(f\"\\nRMSE on the test set: {rmse_nn17:.4f}\")"
      ],
      "metadata": {
        "colab": {
          "base_uri": "https://localhost:8080/"
        },
        "id": "VU9yS83XVZki",
        "outputId": "77e8ec2f-58c5-4c72-e13f-ec2365697c9b"
      },
      "execution_count": 52,
      "outputs": [
        {
          "output_type": "stream",
          "name": "stdout",
          "text": [
            "Epoch [10/300], Train Loss: 321918468096.0000, Val Loss: 313369100288.0000\n",
            "Epoch [20/300], Train Loss: 321917026304.0000, Val Loss: 313367691264.0000\n",
            "Epoch [30/300], Train Loss: 321915715584.0000, Val Loss: 313366413312.0000\n",
            "Epoch [40/300], Train Loss: 321914503168.0000, Val Loss: 313365200896.0000\n",
            "Epoch [50/300], Train Loss: 321913389056.0000, Val Loss: 313364086784.0000\n",
            "Epoch [60/300], Train Loss: 321912274944.0000, Val Loss: 313362972672.0000\n",
            "Epoch [70/300], Train Loss: 321911095296.0000, Val Loss: 313361825792.0000\n",
            "Epoch [80/300], Train Loss: 321909915648.0000, Val Loss: 313360678912.0000\n",
            "Epoch [90/300], Train Loss: 321908736000.0000, Val Loss: 313359532032.0000\n",
            "Epoch [100/300], Train Loss: 321907621888.0000, Val Loss: 313358352384.0000\n",
            "Epoch [110/300], Train Loss: 321906409472.0000, Val Loss: 313357205504.0000\n",
            "Epoch [120/300], Train Loss: 321905229824.0000, Val Loss: 313355993088.0000\n",
            "Epoch [130/300], Train Loss: 321904082944.0000, Val Loss: 313354878976.0000\n",
            "Epoch [140/300], Train Loss: 321902870528.0000, Val Loss: 313353699328.0000\n",
            "Epoch [150/300], Train Loss: 321901690880.0000, Val Loss: 313352552448.0000\n",
            "Epoch [160/300], Train Loss: 321900511232.0000, Val Loss: 313351372800.0000\n",
            "Epoch [170/300], Train Loss: 321899397120.0000, Val Loss: 313350193152.0000\n",
            "Epoch [180/300], Train Loss: 321898250240.0000, Val Loss: 313349079040.0000\n",
            "Epoch [190/300], Train Loss: 321897103360.0000, Val Loss: 313347932160.0000\n",
            "Epoch [200/300], Train Loss: 321895923712.0000, Val Loss: 313346818048.0000\n",
            "Epoch [210/300], Train Loss: 321894842368.0000, Val Loss: 313345703936.0000\n",
            "Epoch [220/300], Train Loss: 321893728256.0000, Val Loss: 313344622592.0000\n",
            "Epoch [230/300], Train Loss: 321892646912.0000, Val Loss: 313343475712.0000\n",
            "Epoch [240/300], Train Loss: 321891500032.0000, Val Loss: 313342394368.0000\n",
            "Epoch [250/300], Train Loss: 321890353152.0000, Val Loss: 313341247488.0000\n",
            "Epoch [260/300], Train Loss: 321889239040.0000, Val Loss: 313340133376.0000\n",
            "Epoch [270/300], Train Loss: 321887961088.0000, Val Loss: 313338888192.0000\n",
            "Epoch [280/300], Train Loss: 321886683136.0000, Val Loss: 313337675776.0000\n",
            "Epoch [290/300], Train Loss: 321885437952.0000, Val Loss: 313336430592.0000\n",
            "Epoch [300/300], Train Loss: 321884225536.0000, Val Loss: 313335218176.0000\n",
            "\n",
            "RMSE on the test set: 557388.0481\n"
          ]
        }
      ]
    },
    {
      "cell_type": "markdown",
      "source": [
        "### Нейронка 18"
      ],
      "metadata": {
        "id": "GQl__EFcVghX"
      }
    },
    {
      "cell_type": "code",
      "source": [
        "import torch.nn as nn\n",
        "\n",
        "model_nn18 = nn.Sequential(\n",
        "    nn.Linear(X_train.shape[1], 256),\n",
        "    nn.Sigmoid(),\n",
        "    nn.Linear(256, 256),\n",
        "    nn.Sigmoid(),\n",
        "    nn.Linear(256, 1)\n",
        ")\n",
        "\n",
        "learn_model(model=model_nn18)\n",
        "\n",
        "rmse_nn18 = get_test_rmse(model_nn18)\n",
        "rmses['Нейронка 18((256 нейронов)*2 + Sigmoid)'] = rmse_nn18\n",
        "print(f\"\\nRMSE on the test set: {rmse_nn18:.4f}\")"
      ],
      "metadata": {
        "colab": {
          "base_uri": "https://localhost:8080/"
        },
        "id": "aOf6SdVaVln5",
        "outputId": "6d5cd664-61ba-46a8-f777-409bb8855181"
      },
      "execution_count": 53,
      "outputs": [
        {
          "output_type": "stream",
          "name": "stdout",
          "text": [
            "Epoch [10/300], Train Loss: 321916993536.0000, Val Loss: 313367429120.0000\n",
            "Epoch [20/300], Train Loss: 321914241024.0000, Val Loss: 313364774912.0000\n",
            "Epoch [30/300], Train Loss: 321912078336.0000, Val Loss: 313362743296.0000\n",
            "Epoch [40/300], Train Loss: 321910210560.0000, Val Loss: 313360875520.0000\n",
            "Epoch [50/300], Train Loss: 321908277248.0000, Val Loss: 313358974976.0000\n",
            "Epoch [60/300], Train Loss: 321906409472.0000, Val Loss: 313357107200.0000\n",
            "Epoch [70/300], Train Loss: 321904476160.0000, Val Loss: 313355206656.0000\n",
            "Epoch [80/300], Train Loss: 321902575616.0000, Val Loss: 313353273344.0000\n",
            "Epoch [90/300], Train Loss: 321900576768.0000, Val Loss: 313351307264.0000\n",
            "Epoch [100/300], Train Loss: 321898545152.0000, Val Loss: 313349373952.0000\n",
            "Epoch [110/300], Train Loss: 321896546304.0000, Val Loss: 313347309568.0000\n",
            "Epoch [120/300], Train Loss: 321894514688.0000, Val Loss: 313345310720.0000\n",
            "Epoch [130/300], Train Loss: 321892417536.0000, Val Loss: 313343311872.0000\n",
            "Epoch [140/300], Train Loss: 321890385920.0000, Val Loss: 313341214720.0000\n",
            "Epoch [150/300], Train Loss: 321888354304.0000, Val Loss: 313339215872.0000\n",
            "Epoch [160/300], Train Loss: 321886322688.0000, Val Loss: 313337249792.0000\n",
            "Epoch [170/300], Train Loss: 321884291072.0000, Val Loss: 313335218176.0000\n",
            "Epoch [180/300], Train Loss: 321882193920.0000, Val Loss: 313333121024.0000\n",
            "Epoch [190/300], Train Loss: 321880096768.0000, Val Loss: 313331023872.0000\n",
            "Epoch [200/300], Train Loss: 321878032384.0000, Val Loss: 313328959488.0000\n",
            "Epoch [210/300], Train Loss: 321875902464.0000, Val Loss: 313326862336.0000\n",
            "Epoch [220/300], Train Loss: 321873772544.0000, Val Loss: 313324797952.0000\n",
            "Epoch [230/300], Train Loss: 321871675392.0000, Val Loss: 313322668032.0000\n",
            "Epoch [240/300], Train Loss: 321869545472.0000, Val Loss: 313320570880.0000\n",
            "Epoch [250/300], Train Loss: 321867415552.0000, Val Loss: 313318506496.0000\n",
            "Epoch [260/300], Train Loss: 321865318400.0000, Val Loss: 313316376576.0000\n",
            "Epoch [270/300], Train Loss: 321863221248.0000, Val Loss: 313314344960.0000\n",
            "Epoch [280/300], Train Loss: 321861124096.0000, Val Loss: 313312247808.0000\n",
            "Epoch [290/300], Train Loss: 321859026944.0000, Val Loss: 313310183424.0000\n",
            "Epoch [300/300], Train Loss: 321856929792.0000, Val Loss: 313308151808.0000\n",
            "\n",
            "RMSE on the test set: 557363.8267\n"
          ]
        }
      ]
    },
    {
      "cell_type": "markdown",
      "source": [
        "### Нейронка 19"
      ],
      "metadata": {
        "id": "93RyJWSCVhv5"
      }
    },
    {
      "cell_type": "code",
      "source": [
        "import torch.nn as nn\n",
        "\n",
        "model_nn19 = nn.Sequential(\n",
        "    nn.Linear(X_train.shape[1], 512),\n",
        "    nn.Sigmoid(),\n",
        "    nn.Linear(512, 512),\n",
        "    nn.Sigmoid(),\n",
        "    nn.Linear(512, 1)\n",
        ")\n",
        "\n",
        "learn_model(model=model_nn19)\n",
        "\n",
        "rmse_nn19 = get_test_rmse(model_nn19)\n",
        "rmses['Нейронка 19((512 нейронов)*2 + Sigmoid)'] = rmse_nn19\n",
        "print(f\"\\nRMSE on the test set: {rmse_nn19:.4f}\")"
      ],
      "metadata": {
        "colab": {
          "base_uri": "https://localhost:8080/"
        },
        "id": "UEIjda6xVq3v",
        "outputId": "bd0985ae-3751-4c3e-c9df-d737e1cffdef"
      },
      "execution_count": 54,
      "outputs": [
        {
          "output_type": "stream",
          "name": "stdout",
          "text": [
            "Epoch [10/300], Train Loss: 321913192448.0000, Val Loss: 313363529728.0000\n",
            "Epoch [20/300], Train Loss: 321909424128.0000, Val Loss: 313359990784.0000\n",
            "Epoch [30/300], Train Loss: 321906212864.0000, Val Loss: 313356779520.0000\n",
            "Epoch [40/300], Train Loss: 321902837760.0000, Val Loss: 313353437184.0000\n",
            "Epoch [50/300], Train Loss: 321899397120.0000, Val Loss: 313349996544.0000\n",
            "Epoch [60/300], Train Loss: 321895792640.0000, Val Loss: 313346457600.0000\n",
            "Epoch [70/300], Train Loss: 321892188160.0000, Val Loss: 313342820352.0000\n",
            "Epoch [80/300], Train Loss: 321888452608.0000, Val Loss: 313339150336.0000\n",
            "Epoch [90/300], Train Loss: 321884717056.0000, Val Loss: 313335447552.0000\n",
            "Epoch [100/300], Train Loss: 321880817664.0000, Val Loss: 313331613696.0000\n",
            "Epoch [110/300], Train Loss: 321876951040.0000, Val Loss: 313327779840.0000\n",
            "Epoch [120/300], Train Loss: 321872953344.0000, Val Loss: 313323782144.0000\n",
            "Epoch [130/300], Train Loss: 321868922880.0000, Val Loss: 313319817216.0000\n",
            "Epoch [140/300], Train Loss: 321864990720.0000, Val Loss: 313315885056.0000\n",
            "Epoch [150/300], Train Loss: 321860993024.0000, Val Loss: 313311920128.0000\n",
            "Epoch [160/300], Train Loss: 321857060864.0000, Val Loss: 313308053504.0000\n",
            "Epoch [170/300], Train Loss: 321853063168.0000, Val Loss: 313304088576.0000\n",
            "Epoch [180/300], Train Loss: 321849098240.0000, Val Loss: 313300156416.0000\n",
            "Epoch [190/300], Train Loss: 321845133312.0000, Val Loss: 313296224256.0000\n",
            "Epoch [200/300], Train Loss: 321841168384.0000, Val Loss: 313292292096.0000\n",
            "Epoch [210/300], Train Loss: 321837170688.0000, Val Loss: 313288392704.0000\n",
            "Epoch [220/300], Train Loss: 321833238528.0000, Val Loss: 313284427776.0000\n",
            "Epoch [230/300], Train Loss: 321829273600.0000, Val Loss: 313280561152.0000\n",
            "Epoch [240/300], Train Loss: 321825374208.0000, Val Loss: 313276661760.0000\n",
            "Epoch [250/300], Train Loss: 321821442048.0000, Val Loss: 313272827904.0000\n",
            "Epoch [260/300], Train Loss: 321817608192.0000, Val Loss: 313268994048.0000\n",
            "Epoch [270/300], Train Loss: 321813708800.0000, Val Loss: 313265160192.0000\n",
            "Epoch [280/300], Train Loss: 321809842176.0000, Val Loss: 313261326336.0000\n",
            "Epoch [290/300], Train Loss: 321806008320.0000, Val Loss: 313257525248.0000\n",
            "Epoch [300/300], Train Loss: 321802108928.0000, Val Loss: 313253658624.0000\n",
            "\n",
            "RMSE on the test set: 557315.1456\n"
          ]
        }
      ]
    },
    {
      "cell_type": "markdown",
      "source": [
        "### Нейронка 20"
      ],
      "metadata": {
        "id": "sMxKX94VVj9e"
      }
    },
    {
      "cell_type": "code",
      "source": [
        "import torch.nn as nn\n",
        "\n",
        "model_nn20 = nn.Sequential(\n",
        "    nn.Linear(X_train.shape[1], 1024),\n",
        "    nn.Sigmoid(),\n",
        "    nn.Linear(1024, 1024),\n",
        "    nn.Sigmoid(),\n",
        "    nn.Linear(1024, 1)\n",
        ")\n",
        "\n",
        "learn_model(model=model_nn20)\n",
        "\n",
        "rmse_nn20 = get_test_rmse(model_nn20)\n",
        "rmses['Нейронка 20((1024 нейронов)*2 + Sigmoid)'] = rmse_nn20\n",
        "print(f\"\\nRMSE on the test set: {rmse_nn20:.4f}\")"
      ],
      "metadata": {
        "colab": {
          "base_uri": "https://localhost:8080/"
        },
        "id": "NSYBu6GaV0bX",
        "outputId": "8aaafc0d-edd2-441e-d4d9-4f865805b654"
      },
      "execution_count": 55,
      "outputs": [
        {
          "output_type": "stream",
          "name": "stdout",
          "text": [
            "Epoch [10/300], Train Loss: 321906900992.0000, Val Loss: 313357107200.0000\n",
            "Epoch [20/300], Train Loss: 321900347392.0000, Val Loss: 313350684672.0000\n",
            "Epoch [30/300], Train Loss: 321893793792.0000, Val Loss: 313344196608.0000\n",
            "Epoch [40/300], Train Loss: 321887109120.0000, Val Loss: 313337544704.0000\n",
            "Epoch [50/300], Train Loss: 321880358912.0000, Val Loss: 313330827264.0000\n",
            "Epoch [60/300], Train Loss: 321873543168.0000, Val Loss: 313324077056.0000\n",
            "Epoch [70/300], Train Loss: 321866661888.0000, Val Loss: 313317294080.0000\n",
            "Epoch [80/300], Train Loss: 321859616768.0000, Val Loss: 313310281728.0000\n",
            "Epoch [90/300], Train Loss: 321852375040.0000, Val Loss: 313303040000.0000\n",
            "Epoch [100/300], Train Loss: 321844838400.0000, Val Loss: 313295634432.0000\n",
            "Epoch [110/300], Train Loss: 321837170688.0000, Val Loss: 313287966720.0000\n",
            "Epoch [120/300], Train Loss: 321829240832.0000, Val Loss: 313280069632.0000\n",
            "Epoch [130/300], Train Loss: 321821016064.0000, Val Loss: 313271975936.0000\n",
            "Epoch [140/300], Train Loss: 321812692992.0000, Val Loss: 313263718400.0000\n",
            "Epoch [150/300], Train Loss: 321804271616.0000, Val Loss: 313255395328.0000\n",
            "Epoch [160/300], Train Loss: 321795915776.0000, Val Loss: 313247105024.0000\n",
            "Epoch [170/300], Train Loss: 321787592704.0000, Val Loss: 313238847488.0000\n",
            "Epoch [180/300], Train Loss: 321779269632.0000, Val Loss: 313230655488.0000\n",
            "Epoch [190/300], Train Loss: 321771044864.0000, Val Loss: 313222496256.0000\n",
            "Epoch [200/300], Train Loss: 321762852864.0000, Val Loss: 313214337024.0000\n",
            "Epoch [210/300], Train Loss: 321754628096.0000, Val Loss: 313206210560.0000\n",
            "Epoch [220/300], Train Loss: 321746436096.0000, Val Loss: 313198149632.0000\n",
            "Epoch [230/300], Train Loss: 321738276864.0000, Val Loss: 313190121472.0000\n",
            "Epoch [240/300], Train Loss: 321730215936.0000, Val Loss: 313182060544.0000\n",
            "Epoch [250/300], Train Loss: 321722122240.0000, Val Loss: 313174065152.0000\n",
            "Epoch [260/300], Train Loss: 321714061312.0000, Val Loss: 313166102528.0000\n",
            "Epoch [270/300], Train Loss: 321706065920.0000, Val Loss: 313158172672.0000\n",
            "Epoch [280/300], Train Loss: 321698037760.0000, Val Loss: 313150242816.0000\n",
            "Epoch [290/300], Train Loss: 321690075136.0000, Val Loss: 313142345728.0000\n",
            "Epoch [300/300], Train Loss: 321682046976.0000, Val Loss: 313134448640.0000\n",
            "\n",
            "RMSE on the test set: 557208.4791\n"
          ]
        }
      ]
    },
    {
      "cell_type": "markdown",
      "source": [
        "## Результаты разных настроек"
      ],
      "metadata": {
        "id": "sItqm2qIXwOE"
      }
    },
    {
      "cell_type": "code",
      "source": [
        "from prettytable import PrettyTable\n",
        "\n",
        "table = PrettyTable()\n",
        "table.title = \"Обучение нейронных сетей на 300 эпох без scale датасета\"\n",
        "table.field_names = [\"Конфигурация модели\", \"RMSE\"]\n",
        "\n",
        "for k,v in rmses.items():\n",
        "  name, rmse = k,v\n",
        "  if name == \"Нейронка 1(128 нейронов + ReLU)\":\n",
        "    name = \"Нейронка 2(128 нейронов + ReLU)\"\n",
        "  if name == \"Нейронка 1(256 нейронов + ReLU)\":\n",
        "    name = \"Нейронка 3(256 нейронов + ReLU)\"\n",
        "  if name == \"Нейронка 1(512 нейронов + ReLU)\":\n",
        "    name = \"Нейронка 4(512 нейронов + ReLU)\"\n",
        "  if name == \"Нейронка 1(1024 нейронов + ReLU)\":\n",
        "    name = \"Нейронка 5(1024 нейронов + ReLU)\"\n",
        "\n",
        "  table.add_row([name, f\"{v:.4f}\"])\n",
        "\n",
        "print(table)"
      ],
      "metadata": {
        "colab": {
          "base_uri": "https://localhost:8080/"
        },
        "id": "I7rK_yD5XvEL",
        "outputId": "6fc9f985-2e85-4a4a-deff-abd3f6a42634"
      },
      "execution_count": 58,
      "outputs": [
        {
          "output_type": "stream",
          "name": "stdout",
          "text": [
            "+---------------------------------------------------------+\n",
            "| Обучение нейронных сетей на 300 эпох без scale датасета |\n",
            "+------------------------------------------+--------------+\n",
            "|           Конфигурация модели            |     RMSE     |\n",
            "+------------------------------------------+--------------+\n",
            "|            Линейная регрессия            | 552142.6552  |\n",
            "|      Нейронка 1(64 нейронов + ReLU)      | 485809.8146  |\n",
            "|     Нейронка 2(128 нейронов + ReLU)      | 437121.2931  |\n",
            "|     Нейронка 3(256 нейронов + ReLU)      | 386825.7629  |\n",
            "|     Нейронка 4(512 нейронов + ReLU)      | 364463.4181  |\n",
            "|     Нейронка 5(1024 нейронов + ReLU)     | 322834.2326  |\n",
            "|    Нейронка 6(64 нейронов + Sigmoid)     | 557407.7125  |\n",
            "|    Нейронка 7(128 нейронов + Sigmoid)    | 557395.6612  |\n",
            "|    Нейронка 8(256 нейронов + Sigmoid)    | 557370.8522  |\n",
            "|    Нейронка 9(512 нейронов + Sigmoid)    | 557319.5259  |\n",
            "|   Нейронка 10(1024 нейронов + Sigmoid)   | 557219.9465  |\n",
            "|   Нейронка 11((64 нейронов)*2 + ReLU)    | 349146.0625  |\n",
            "|   Нейронка 12((128 нейронов)*2 + ReLU)   | 226708.8686  |\n",
            "|   Нейронка 13((256 нейронов)*2 + ReLU)   | 202727.7359  |\n",
            "|   Нейронка 14((512 нейронов)*2 + ReLU)   | 202302.5928  |\n",
            "|  Нейронка 15((1024 нейронов)*2 + ReLU)   | 200778.1598  |\n",
            "|  Нейронка 16((64 нейронов)*2 + Sigmoid)  | 557402.9214  |\n",
            "| Нейронка 17((128 нейронов)*2 + Sigmoid)  | 557388.0481  |\n",
            "| Нейронка 18((256 нейронов)*2 + Sigmoid)  | 557363.8267  |\n",
            "| Нейронка 19((512 нейронов)*2 + Sigmoid)  | 557315.1456  |\n",
            "| Нейронка 20((1024 нейронов)*2 + Sigmoid) | 557208.4791  |\n",
            "+------------------------------------------+--------------+\n"
          ]
        }
      ]
    },
    {
      "cell_type": "code",
      "source": [
        "import matplotlib.pyplot as plt\n",
        "\n",
        "nn_rmses = {k: v for k, v in rmses.items() if 'Нейронка' in k}\n",
        "\n",
        "neurons = [64, 128, 256, 512, 1024]\n",
        "\n",
        "rmse_groups = {\n",
        "    'Single Layer + ReLU': [],\n",
        "    'Single Layer + Sigmoid': [],\n",
        "    'Two Layers + ReLU': [],\n",
        "    'Two Layers + Sigmoid': []\n",
        "}\n",
        "\n",
        "for name, rmse in nn_rmses.items():\n",
        "    if 'ReLU' in name:\n",
        "        if '*2' in name:\n",
        "            rmse_groups['Two Layers + ReLU'].append(rmse)\n",
        "        else:\n",
        "            rmse_groups['Single Layer + ReLU'].append(rmse)\n",
        "    elif 'Sigmoid' in name:\n",
        "        if '*2' in name:\n",
        "            rmse_groups['Two Layers + Sigmoid'].append(rmse)\n",
        "        else:\n",
        "            rmse_groups['Single Layer + Sigmoid'].append(rmse)\n",
        "\n",
        "for key in rmse_groups:\n",
        "    sorted_pairs = sorted(zip(neurons, rmse_groups[key]))\n",
        "    rmse_groups[key] = [rmse for neuron, rmse in sorted_pairs]\n",
        "\n",
        "plt.figure(figsize=(10, 6))\n",
        "\n",
        "for label, data in rmse_groups.items():\n",
        "    if data: # Only plot if there is data for the group\n",
        "        plt.plot(neurons, data, marker='o', label=label)\n",
        "\n",
        "plt.xlabel('Количество нейронов в скрытых слоях')\n",
        "plt.ylabel('RMSE')\n",
        "plt.title('RMSE нейронных сетей в зависимости от количества нейронов и архитектуры')\n",
        "plt.xticks(neurons)\n",
        "plt.legend()\n",
        "plt.grid(True)\n",
        "plt.show()"
      ],
      "metadata": {
        "colab": {
          "base_uri": "https://localhost:8080/",
          "height": 564
        },
        "id": "wh4OsSVDb2_1",
        "outputId": "83b1e78e-7873-4a92-9e72-94be257636bd"
      },
      "execution_count": 59,
      "outputs": [
        {
          "output_type": "display_data",
          "data": {
            "text/plain": [
              "<Figure size 1000x600 with 1 Axes>"
            ],
            "image/png": "[encoded data removed]"
          },
          "metadata": {}
        }
      ]
    }
  ]
}