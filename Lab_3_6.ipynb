{
  "nbformat": 4,
  "nbformat_minor": 0,
  "metadata": {
    "colab": {
      "provenance": [],
      "authorship_tag": "ABX9TyORpwgPyPO3xi+jd5noa5Z6",
      "include_colab_link": true
    },
    "kernelspec": {
      "name": "python3",
      "display_name": "Python 3"
    },
    "language_info": {
      "name": "python"
    }
  },
  "cells": [
    {
      "cell_type": "markdown",
      "metadata": {
        "id": "view-in-github",
        "colab_type": "text"
      },
      "source": [
        "<a href=\"https://colab.research.google.com/github/FREDY129053/AI_Systems_LABS/blob/main/Lab_3_6.ipynb\" target=\"_parent\"><img src=\"https://colab.research.google.com/assets/colab-badge.svg\" alt=\"Open In Colab\"/></a>"
      ]
    },
    {
      "cell_type": "markdown",
      "source": [
        "# Лаба 3.6: Нейронные сети"
      ],
      "metadata": {
        "id": "cZ1dy-bgJfRC"
      }
    },
    {
      "cell_type": "code",
      "execution_count": 1,
      "metadata": {
        "colab": {
          "base_uri": "https://localhost:8080/",
          "height": 246
        },
        "id": "cij7LyXHIYol",
        "outputId": "9ae552f0-9614-42fc-bae8-fa424f1d801f"
      },
      "outputs": [
        {
          "output_type": "stream",
          "name": "stdout",
          "text": [
            "Размерность датасета: (19997, 19)\n"
          ]
        },
        {
          "output_type": "execute_result",
          "data": {
            "text/plain": [
              "      price  bedrooms  bathrooms  sqft_living  sqft_lot  floors  waterfront  \\\n",
              "0  221900.0         3          1         1180      5650     1.0           0   \n",
              "1  538000.0         3          2         2570      7242     2.0           0   \n",
              "2  180000.0         2          1          770     10000     1.0           0   \n",
              "3  604000.0         4          3         1960      5000     1.0           0   \n",
              "4  510000.0         3          2         1680      8080     1.0           0   \n",
              "\n",
              "   condition  grade      lat     long  was_renovated_post90  has_basement  \\\n",
              "0          3      7  47.5112 -122.257                     0             0   \n",
              "1          3      7  47.7210 -122.319                     1             1   \n",
              "2          3      6  47.7379 -122.233                     0             0   \n",
              "3          5      7  47.5208 -122.393                     0             1   \n",
              "4          3      8  47.6168 -122.045                     0             0   \n",
              "\n",
              "   viewed  sale_month  yr_built_1950_to_1975  yr_built_1975_to_1997  \\\n",
              "0       0          10                    1.0                    0.0   \n",
              "1       0          12                    1.0                    0.0   \n",
              "2       0           2                    0.0                    0.0   \n",
              "3       0          12                    1.0                    0.0   \n",
              "4       0           2                    0.0                    1.0   \n",
              "\n",
              "   yr_built_1997_to_2015  yr_built_pre1950  \n",
              "0                    0.0               0.0  \n",
              "1                    0.0               0.0  \n",
              "2                    0.0               1.0  \n",
              "3                    0.0               0.0  \n",
              "4                    0.0               0.0  "
            ],
            "text/html": [
              "\n",
              "  <div id=\"df-e0700bb2-8eef-4008-8c50-41cd7e4955e4\" class=\"colab-df-container\">\n",
              "    <div>\n",
              "<style scoped>\n",
              "    .dataframe tbody tr th:only-of-type {\n",
              "        vertical-align: middle;\n",
              "    }\n",
              "\n",
              "    .dataframe tbody tr th {\n",
              "        vertical-align: top;\n",
              "    }\n",
              "\n",
              "    .dataframe thead th {\n",
              "        text-align: right;\n",
              "    }\n",
              "</style>\n",
              "<table border=\"1\" class=\"dataframe\">\n",
              "  <thead>\n",
              "    <tr style=\"text-align: right;\">\n",
              "      <th></th>\n",
              "      <th>price</th>\n",
              "      <th>bedrooms</th>\n",
              "      <th>bathrooms</th>\n",
              "      <th>sqft_living</th>\n",
              "      <th>sqft_lot</th>\n",
              "      <th>floors</th>\n",
              "      <th>waterfront</th>\n",
              "      <th>condition</th>\n",
              "      <th>grade</th>\n",
              "      <th>lat</th>\n",
              "      <th>long</th>\n",
              "      <th>was_renovated_post90</th>\n",
              "      <th>has_basement</th>\n",
              "      <th>viewed</th>\n",
              "      <th>sale_month</th>\n",
              "      <th>yr_built_1950_to_1975</th>\n",
              "      <th>yr_built_1975_to_1997</th>\n",
              "      <th>yr_built_1997_to_2015</th>\n",
              "      <th>yr_built_pre1950</th>\n",
              "    </tr>\n",
              "  </thead>\n",
              "  <tbody>\n",
              "    <tr>\n",
              "      <th>0</th>\n",
              "      <td>221900.0</td>\n",
              "      <td>3</td>\n",
              "      <td>1</td>\n",
              "      <td>1180</td>\n",
              "      <td>5650</td>\n",
              "      <td>1.0</td>\n",
              "      <td>0</td>\n",
              "      <td>3</td>\n",
              "      <td>7</td>\n",
              "      <td>47.5112</td>\n",
              "      <td>-122.257</td>\n",
              "      <td>0</td>\n",
              "      <td>0</td>\n",
              "      <td>0</td>\n",
              "      <td>10</td>\n",
              "      <td>1.0</td>\n",
              "      <td>0.0</td>\n",
              "      <td>0.0</td>\n",
              "      <td>0.0</td>\n",
              "    </tr>\n",
              "    <tr>\n",
              "      <th>1</th>\n",
              "      <td>538000.0</td>\n",
              "      <td>3</td>\n",
              "      <td>2</td>\n",
              "      <td>2570</td>\n",
              "      <td>7242</td>\n",
              "      <td>2.0</td>\n",
              "      <td>0</td>\n",
              "      <td>3</td>\n",
              "      <td>7</td>\n",
              "      <td>47.7210</td>\n",
              "      <td>-122.319</td>\n",
              "      <td>1</td>\n",
              "      <td>1</td>\n",
              "      <td>0</td>\n",
              "      <td>12</td>\n",
              "      <td>1.0</td>\n",
              "      <td>0.0</td>\n",
              "      <td>0.0</td>\n",
              "      <td>0.0</td>\n",
              "    </tr>\n",
              "    <tr>\n",
              "      <th>2</th>\n",
              "      <td>180000.0</td>\n",
              "      <td>2</td>\n",
              "      <td>1</td>\n",
              "      <td>770</td>\n",
              "      <td>10000</td>\n",
              "      <td>1.0</td>\n",
              "      <td>0</td>\n",
              "      <td>3</td>\n",
              "      <td>6</td>\n",
              "      <td>47.7379</td>\n",
              "      <td>-122.233</td>\n",
              "      <td>0</td>\n",
              "      <td>0</td>\n",
              "      <td>0</td>\n",
              "      <td>2</td>\n",
              "      <td>0.0</td>\n",
              "      <td>0.0</td>\n",
              "      <td>0.0</td>\n",
              "      <td>1.0</td>\n",
              "    </tr>\n",
              "    <tr>\n",
              "      <th>3</th>\n",
              "      <td>604000.0</td>\n",
              "      <td>4</td>\n",
              "      <td>3</td>\n",
              "      <td>1960</td>\n",
              "      <td>5000</td>\n",
              "      <td>1.0</td>\n",
              "      <td>0</td>\n",
              "      <td>5</td>\n",
              "      <td>7</td>\n",
              "      <td>47.5208</td>\n",
              "      <td>-122.393</td>\n",
              "      <td>0</td>\n",
              "      <td>1</td>\n",
              "      <td>0</td>\n",
              "      <td>12</td>\n",
              "      <td>1.0</td>\n",
              "      <td>0.0</td>\n",
              "      <td>0.0</td>\n",
              "      <td>0.0</td>\n",
              "    </tr>\n",
              "    <tr>\n",
              "      <th>4</th>\n",
              "      <td>510000.0</td>\n",
              "      <td>3</td>\n",
              "      <td>2</td>\n",
              "      <td>1680</td>\n",
              "      <td>8080</td>\n",
              "      <td>1.0</td>\n",
              "      <td>0</td>\n",
              "      <td>3</td>\n",
              "      <td>8</td>\n",
              "      <td>47.6168</td>\n",
              "      <td>-122.045</td>\n",
              "      <td>0</td>\n",
              "      <td>0</td>\n",
              "      <td>0</td>\n",
              "      <td>2</td>\n",
              "      <td>0.0</td>\n",
              "      <td>1.0</td>\n",
              "      <td>0.0</td>\n",
              "      <td>0.0</td>\n",
              "    </tr>\n",
              "  </tbody>\n",
              "</table>\n",
              "</div>\n",
              "    <div class=\"colab-df-buttons\">\n",
              "\n",
              "  <div class=\"colab-df-container\">\n",
              "    <button class=\"colab-df-convert\" onclick=\"convertToInteractive('df-e0700bb2-8eef-4008-8c50-41cd7e4955e4')\"\n",
              "            title=\"Convert this dataframe to an interactive table.\"\n",
              "            style=\"display:none;\">\n",
              "\n",
              "  <svg xmlns=\"http://www.w3.org/2000/svg\" height=\"24px\" viewBox=\"0 -960 960 960\">\n",
              "    <path d=\"M120-120v-720h720v720H120Zm60-500h600v-160H180v160Zm220 220h160v-160H400v160Zm0 220h160v-160H400v160ZM180-400h160v-160H180v160Zm440 0h160v-160H620v160ZM180-180h160v-160H180v160Zm440 0h160v-160H620v160Z\"/>\n",
              "  </svg>\n",
              "    </button>\n",
              "\n",
              "  <style>\n",
              "    .colab-df-container {\n",
              "      display:flex;\n",
              "      gap: 12px;\n",
              "    }\n",
              "\n",
              "    .colab-df-convert {\n",
              "      background-color: #E8F0FE;\n",
              "      border: none;\n",
              "      border-radius: 50%;\n",
              "      cursor: pointer;\n",
              "      display: none;\n",
              "      fill: #1967D2;\n",
              "      height: 32px;\n",
              "      padding: 0 0 0 0;\n",
              "      width: 32px;\n",
              "    }\n",
              "\n",
              "    .colab-df-convert:hover {\n",
              "      background-color: #E2EBFA;\n",
              "      box-shadow: 0px 1px 2px rgba(60, 64, 67, 0.3), 0px 1px 3px 1px rgba(60, 64, 67, 0.15);\n",
              "      fill: #174EA6;\n",
              "    }\n",
              "\n",
              "    .colab-df-buttons div {\n",
              "      margin-bottom: 4px;\n",
              "    }\n",
              "\n",
              "    [theme=dark] .colab-df-convert {\n",
              "      background-color: #3B4455;\n",
              "      fill: #D2E3FC;\n",
              "    }\n",
              "\n",
              "    [theme=dark] .colab-df-convert:hover {\n",
              "      background-color: #434B5C;\n",
              "      box-shadow: 0px 1px 3px 1px rgba(0, 0, 0, 0.15);\n",
              "      filter: drop-shadow(0px 1px 2px rgba(0, 0, 0, 0.3));\n",
              "      fill: #FFFFFF;\n",
              "    }\n",
              "  </style>\n",
              "\n",
              "    <script>\n",
              "      const buttonEl =\n",
              "        document.querySelector('#df-e0700bb2-8eef-4008-8c50-41cd7e4955e4 button.colab-df-convert');\n",
              "      buttonEl.style.display =\n",
              "        google.colab.kernel.accessAllowed ? 'block' : 'none';\n",
              "\n",
              "      async function convertToInteractive(key) {\n",
              "        const element = document.querySelector('#df-e0700bb2-8eef-4008-8c50-41cd7e4955e4');\n",
              "        const dataTable =\n",
              "          await google.colab.kernel.invokeFunction('convertToInteractive',\n",
              "                                                    [key], {});\n",
              "        if (!dataTable) return;\n",
              "\n",
              "        const docLinkHtml = 'Like what you see? Visit the ' +\n",
              "          '<a target=\"_blank\" href=https://colab.research.google.com/notebooks/data_table.ipynb>data table notebook</a>'\n",
              "          + ' to learn more about interactive tables.';\n",
              "        element.innerHTML = '';\n",
              "        dataTable['output_type'] = 'display_data';\n",
              "        await google.colab.output.renderOutput(dataTable, element);\n",
              "        const docLink = document.createElement('div');\n",
              "        docLink.innerHTML = docLinkHtml;\n",
              "        element.appendChild(docLink);\n",
              "      }\n",
              "    </script>\n",
              "  </div>\n",
              "\n",
              "\n",
              "    <div id=\"df-8100d84e-b9a3-4e94-92bd-4df593e22362\">\n",
              "      <button class=\"colab-df-quickchart\" onclick=\"quickchart('df-8100d84e-b9a3-4e94-92bd-4df593e22362')\"\n",
              "                title=\"Suggest charts\"\n",
              "                style=\"display:none;\">\n",
              "\n",
              "<svg xmlns=\"http://www.w3.org/2000/svg\" height=\"24px\"viewBox=\"0 0 24 24\"\n",
              "     width=\"24px\">\n",
              "    <g>\n",
              "        <path d=\"M19 3H5c-1.1 0-2 .9-2 2v14c0 1.1.9 2 2 2h14c1.1 0 2-.9 2-2V5c0-1.1-.9-2-2-2zM9 17H7v-7h2v7zm4 0h-2V7h2v10zm4 0h-2v-4h2v4z\"/>\n",
              "    </g>\n",
              "</svg>\n",
              "      </button>\n",
              "\n",
              "<style>\n",
              "  .colab-df-quickchart {\n",
              "      --bg-color: #E8F0FE;\n",
              "      --fill-color: #1967D2;\n",
              "      --hover-bg-color: #E2EBFA;\n",
              "      --hover-fill-color: #174EA6;\n",
              "      --disabled-fill-color: #AAA;\n",
              "      --disabled-bg-color: #DDD;\n",
              "  }\n",
              "\n",
              "  [theme=dark] .colab-df-quickchart {\n",
              "      --bg-color: #3B4455;\n",
              "      --fill-color: #D2E3FC;\n",
              "      --hover-bg-color: #434B5C;\n",
              "      --hover-fill-color: #FFFFFF;\n",
              "      --disabled-bg-color: #3B4455;\n",
              "      --disabled-fill-color: #666;\n",
              "  }\n",
              "\n",
              "  .colab-df-quickchart {\n",
              "    background-color: var(--bg-color);\n",
              "    border: none;\n",
              "    border-radius: 50%;\n",
              "    cursor: pointer;\n",
              "    display: none;\n",
              "    fill: var(--fill-color);\n",
              "    height: 32px;\n",
              "    padding: 0;\n",
              "    width: 32px;\n",
              "  }\n",
              "\n",
              "  .colab-df-quickchart:hover {\n",
              "    background-color: var(--hover-bg-color);\n",
              "    box-shadow: 0 1px 2px rgba(60, 64, 67, 0.3), 0 1px 3px 1px rgba(60, 64, 67, 0.15);\n",
              "    fill: var(--button-hover-fill-color);\n",
              "  }\n",
              "\n",
              "  .colab-df-quickchart-complete:disabled,\n",
              "  .colab-df-quickchart-complete:disabled:hover {\n",
              "    background-color: var(--disabled-bg-color);\n",
              "    fill: var(--disabled-fill-color);\n",
              "    box-shadow: none;\n",
              "  }\n",
              "\n",
              "  .colab-df-spinner {\n",
              "    border: 2px solid var(--fill-color);\n",
              "    border-color: transparent;\n",
              "    border-bottom-color: var(--fill-color);\n",
              "    animation:\n",
              "      spin 1s steps(1) infinite;\n",
              "  }\n",
              "\n",
              "  @keyframes spin {\n",
              "    0% {\n",
              "      border-color: transparent;\n",
              "      border-bottom-color: var(--fill-color);\n",
              "      border-left-color: var(--fill-color);\n",
              "    }\n",
              "    20% {\n",
              "      border-color: transparent;\n",
              "      border-left-color: var(--fill-color);\n",
              "      border-top-color: var(--fill-color);\n",
              "    }\n",
              "    30% {\n",
              "      border-color: transparent;\n",
              "      border-left-color: var(--fill-color);\n",
              "      border-top-color: var(--fill-color);\n",
              "      border-right-color: var(--fill-color);\n",
              "    }\n",
              "    40% {\n",
              "      border-color: transparent;\n",
              "      border-right-color: var(--fill-color);\n",
              "      border-top-color: var(--fill-color);\n",
              "    }\n",
              "    60% {\n",
              "      border-color: transparent;\n",
              "      border-right-color: var(--fill-color);\n",
              "    }\n",
              "    80% {\n",
              "      border-color: transparent;\n",
              "      border-right-color: var(--fill-color);\n",
              "      border-bottom-color: var(--fill-color);\n",
              "    }\n",
              "    90% {\n",
              "      border-color: transparent;\n",
              "      border-bottom-color: var(--fill-color);\n",
              "    }\n",
              "  }\n",
              "</style>\n",
              "\n",
              "      <script>\n",
              "        async function quickchart(key) {\n",
              "          const quickchartButtonEl =\n",
              "            document.querySelector('#' + key + ' button');\n",
              "          quickchartButtonEl.disabled = true;  // To prevent multiple clicks.\n",
              "          quickchartButtonEl.classList.add('colab-df-spinner');\n",
              "          try {\n",
              "            const charts = await google.colab.kernel.invokeFunction(\n",
              "                'suggestCharts', [key], {});\n",
              "          } catch (error) {\n",
              "            console.error('Error during call to suggestCharts:', error);\n",
              "          }\n",
              "          quickchartButtonEl.classList.remove('colab-df-spinner');\n",
              "          quickchartButtonEl.classList.add('colab-df-quickchart-complete');\n",
              "        }\n",
              "        (() => {\n",
              "          let quickchartButtonEl =\n",
              "            document.querySelector('#df-8100d84e-b9a3-4e94-92bd-4df593e22362 button');\n",
              "          quickchartButtonEl.style.display =\n",
              "            google.colab.kernel.accessAllowed ? 'block' : 'none';\n",
              "        })();\n",
              "      </script>\n",
              "    </div>\n",
              "    </div>\n",
              "  </div>\n"
            ],
            "application/vnd.google.colaboratory.intrinsic+json": {
              "type": "dataframe",
              "variable_name": "df_copy",
              "summary": "{\n  \"name\": \"df_copy\",\n  \"rows\": 19997,\n  \"fields\": [\n    {\n      \"column\": \"price\",\n      \"properties\": {\n        \"dtype\": \"number\",\n        \"std\": 261955.84895003773,\n        \"min\": 75000.0,\n        \"max\": 1955000.0,\n        \"num_unique_values\": 3688,\n        \"samples\": [\n          928990.0,\n          436472.0,\n          642450.0\n        ],\n        \"semantic_type\": \"\",\n        \"description\": \"\"\n      }\n    },\n    {\n      \"column\": \"bedrooms\",\n      \"properties\": {\n        \"dtype\": \"number\",\n        \"std\": 0,\n        \"min\": 1,\n        \"max\": 6,\n        \"num_unique_values\": 6,\n        \"samples\": [\n          3,\n          2,\n          6\n        ],\n        \"semantic_type\": \"\",\n        \"description\": \"\"\n      }\n    },\n    {\n      \"column\": \"bathrooms\",\n      \"properties\": {\n        \"dtype\": \"number\",\n        \"std\": 0,\n        \"min\": 0,\n        \"max\": 4,\n        \"num_unique_values\": 5,\n        \"samples\": [\n          2,\n          0,\n          3\n        ],\n        \"semantic_type\": \"\",\n        \"description\": \"\"\n      }\n    },\n    {\n      \"column\": \"sqft_living\",\n      \"properties\": {\n        \"dtype\": \"number\",\n        \"std\": 752,\n        \"min\": 370,\n        \"max\": 4690,\n        \"num_unique_values\": 820,\n        \"samples\": [\n          1397,\n          3540,\n          2350\n        ],\n        \"semantic_type\": \"\",\n        \"description\": \"\"\n      }\n    },\n    {\n      \"column\": \"sqft_lot\",\n      \"properties\": {\n        \"dtype\": \"number\",\n        \"std\": 10164,\n        \"min\": 520,\n        \"max\": 130680,\n        \"num_unique_values\": 8835,\n        \"samples\": [\n          1829,\n          9958,\n          4132\n        ],\n        \"semantic_type\": \"\",\n        \"description\": \"\"\n      }\n    },\n    {\n      \"column\": \"floors\",\n      \"properties\": {\n        \"dtype\": \"number\",\n        \"std\": 0.540609789370065,\n        \"min\": 1.0,\n        \"max\": 3.5,\n        \"num_unique_values\": 6,\n        \"samples\": [\n          1.0,\n          2.0,\n          3.5\n        ],\n        \"semantic_type\": \"\",\n        \"description\": \"\"\n      }\n    },\n    {\n      \"column\": \"waterfront\",\n      \"properties\": {\n        \"dtype\": \"number\",\n        \"std\": 0,\n        \"min\": 0,\n        \"max\": 1,\n        \"num_unique_values\": 2,\n        \"samples\": [\n          1,\n          0\n        ],\n        \"semantic_type\": \"\",\n        \"description\": \"\"\n      }\n    },\n    {\n      \"column\": \"condition\",\n      \"properties\": {\n        \"dtype\": \"number\",\n        \"std\": 0,\n        \"min\": 1,\n        \"max\": 5,\n        \"num_unique_values\": 5,\n        \"samples\": [\n          5,\n          2\n        ],\n        \"semantic_type\": \"\",\n        \"description\": \"\"\n      }\n    },\n    {\n      \"column\": \"grade\",\n      \"properties\": {\n        \"dtype\": \"number\",\n        \"std\": 1,\n        \"min\": 3,\n        \"max\": 12,\n        \"num_unique_values\": 10,\n        \"samples\": [\n          3,\n          6\n        ],\n        \"semantic_type\": \"\",\n        \"description\": \"\"\n      }\n    },\n    {\n      \"column\": \"lat\",\n      \"properties\": {\n        \"dtype\": \"number\",\n        \"std\": 0.13902763528316064,\n        \"min\": 47.1764,\n        \"max\": 47.7776,\n        \"num_unique_values\": 4923,\n        \"samples\": [\n          47.7734,\n          47.2815\n        ],\n        \"semantic_type\": \"\",\n        \"description\": \"\"\n      }\n    },\n    {\n      \"column\": \"long\",\n      \"properties\": {\n        \"dtype\": \"number\",\n        \"std\": 0.12714884730435008,\n        \"min\": -122.512,\n        \"max\": -121.804,\n        \"num_unique_values\": 605,\n        \"samples\": [\n          -121.879,\n          -122.024\n        ],\n        \"semantic_type\": \"\",\n        \"description\": \"\"\n      }\n    },\n    {\n      \"column\": \"was_renovated_post90\",\n      \"properties\": {\n        \"dtype\": \"number\",\n        \"std\": 0,\n        \"min\": 0,\n        \"max\": 1,\n        \"num_unique_values\": 2,\n        \"samples\": [\n          1,\n          0\n        ],\n        \"semantic_type\": \"\",\n        \"description\": \"\"\n      }\n    },\n    {\n      \"column\": \"has_basement\",\n      \"properties\": {\n        \"dtype\": \"number\",\n        \"std\": 0,\n        \"min\": 0,\n        \"max\": 1,\n        \"num_unique_values\": 2,\n        \"samples\": [\n          1,\n          0\n        ],\n        \"semantic_type\": \"\",\n        \"description\": \"\"\n      }\n    },\n    {\n      \"column\": \"viewed\",\n      \"properties\": {\n        \"dtype\": \"number\",\n        \"std\": 0,\n        \"min\": 0,\n        \"max\": 1,\n        \"num_unique_values\": 2,\n        \"samples\": [\n          1,\n          0\n        ],\n        \"semantic_type\": \"\",\n        \"description\": \"\"\n      }\n    },\n    {\n      \"column\": \"sale_month\",\n      \"properties\": {\n        \"dtype\": \"number\",\n        \"std\": 3,\n        \"min\": 1,\n        \"max\": 12,\n        \"num_unique_values\": 12,\n        \"samples\": [\n          8,\n          11\n        ],\n        \"semantic_type\": \"\",\n        \"description\": \"\"\n      }\n    },\n    {\n      \"column\": \"yr_built_1950_to_1975\",\n      \"properties\": {\n        \"dtype\": \"number\",\n        \"std\": 0.4469484321736796,\n        \"min\": 0.0,\n        \"max\": 1.0,\n        \"num_unique_values\": 2,\n        \"samples\": [\n          0.0,\n          1.0\n        ],\n        \"semantic_type\": \"\",\n        \"description\": \"\"\n      }\n    },\n    {\n      \"column\": \"yr_built_1975_to_1997\",\n      \"properties\": {\n        \"dtype\": \"number\",\n        \"std\": 0.42708528442458293,\n        \"min\": 0.0,\n        \"max\": 1.0,\n        \"num_unique_values\": 2,\n        \"samples\": [\n          1.0,\n          0.0\n        ],\n        \"semantic_type\": \"\",\n        \"description\": \"\"\n      }\n    },\n    {\n      \"column\": \"yr_built_1997_to_2015\",\n      \"properties\": {\n        \"dtype\": \"number\",\n        \"std\": 0.42378119506149886,\n        \"min\": 0.0,\n        \"max\": 1.0,\n        \"num_unique_values\": 2,\n        \"samples\": [\n          1.0,\n          0.0\n        ],\n        \"semantic_type\": \"\",\n        \"description\": \"\"\n      }\n    },\n    {\n      \"column\": \"yr_built_pre1950\",\n      \"properties\": {\n        \"dtype\": \"number\",\n        \"std\": 0.43275612836212857,\n        \"min\": 0.0,\n        \"max\": 1.0,\n        \"num_unique_values\": 2,\n        \"samples\": [\n          1.0,\n          0.0\n        ],\n        \"semantic_type\": \"\",\n        \"description\": \"\"\n      }\n    }\n  ]\n}"
            }
          },
          "metadata": {},
          "execution_count": 1
        }
      ],
      "source": [
        "import pandas as pd\n",
        "\n",
        "df = pd.read_csv('/content/lab_2_ready_df.csv')\n",
        "df_copy = df.copy()\n",
        "\n",
        "print(f\"Размерность датасета: {df_copy.shape}\")\n",
        "df_copy.head()"
      ]
    },
    {
      "cell_type": "markdown",
      "source": [
        "## Разбиение данных"
      ],
      "metadata": {
        "id": "Lyw_pi0LJ0HS"
      }
    },
    {
      "cell_type": "code",
      "source": [
        "X = df_copy.drop('price', axis=1)\n",
        "y = df_copy['price']"
      ],
      "metadata": {
        "id": "N5zNl29fKURN"
      },
      "execution_count": 2,
      "outputs": []
    },
    {
      "cell_type": "code",
      "source": [
        "from sklearn.model_selection import train_test_split\n",
        "\n",
        "X_train, X_temp, y_train, y_temp = train_test_split(X, y, test_size=0.3, random_state=42)\n",
        "\n",
        "X_val, X_test, y_val, y_test = train_test_split(X_temp, y_temp, test_size=0.5, random_state=42)\n",
        "\n",
        "print(f\"Training set shape: X_train={X_train.shape}, y_train={y_train.shape}\")\n",
        "print(f\"Validation set shape: X_val={X_val.shape}, y_val={y_val.shape}\")\n",
        "print(f\"Test set shape: X_test={X_test.shape}, y_test={y_test.shape}\")"
      ],
      "metadata": {
        "colab": {
          "base_uri": "https://localhost:8080/"
        },
        "id": "NwDTpoI5J12I",
        "outputId": "a3bd9bbd-d34c-4845-ceba-e583ed9fff39"
      },
      "execution_count": 3,
      "outputs": [
        {
          "output_type": "stream",
          "name": "stdout",
          "text": [
            "Training set shape: X_train=(13997, 18), y_train=(13997,)\n",
            "Validation set shape: X_val=(3000, 18), y_val=(3000,)\n",
            "Test set shape: X_test=(3000, 18), y_test=(3000,)\n"
          ]
        }
      ]
    },
    {
      "cell_type": "markdown",
      "source": [
        "## Модели"
      ],
      "metadata": {
        "id": "Afml4sBwKaYW"
      }
    },
    {
      "cell_type": "code",
      "source": [
        "rmses = {}\n",
        "work_time = {}"
      ],
      "metadata": {
        "id": "YivUEjblMd3b"
      },
      "execution_count": 4,
      "outputs": []
    },
    {
      "cell_type": "code",
      "source": [
        "import torch\n",
        "\n",
        "X_train_tensor = torch.tensor(X_train.values, dtype=torch.float32)\n",
        "y_train_tensor = torch.tensor(y_train.values, dtype=torch.float32).unsqueeze(1)\n",
        "\n",
        "X_val_tensor = torch.tensor(X_val.values, dtype=torch.float32)\n",
        "y_val_tensor = torch.tensor(y_val.values, dtype=torch.float32).unsqueeze(1)\n",
        "\n",
        "X_test_tensor = torch.tensor(X_test.values, dtype=torch.float32)\n",
        "y_test_tensor = torch.tensor(y_test.values, dtype=torch.float32).unsqueeze(1)"
      ],
      "metadata": {
        "id": "pOWdfrRqMuJF"
      },
      "execution_count": 5,
      "outputs": []
    },
    {
      "cell_type": "code",
      "source": [
        "import time\n",
        "\n",
        "def learn_model(model, model_name=\"\", epochs=300):\n",
        "  criterion = nn.MSELoss()\n",
        "  optimizer = optim.Adam(model.parameters(), lr=0.001)\n",
        "\n",
        "  start_time = time.perf_counter()\n",
        "\n",
        "  for epoch in range(epochs):\n",
        "      model.train()\n",
        "      optimizer.zero_grad()\n",
        "      outputs = model(X_train_tensor)\n",
        "      loss = criterion(outputs, y_train_tensor)\n",
        "      loss.backward()\n",
        "      optimizer.step()\n",
        "\n",
        "      model.eval()\n",
        "      with torch.no_grad():\n",
        "          val_outputs = model(X_val_tensor)\n",
        "          val_loss = criterion(val_outputs, y_val_tensor)\n",
        "\n",
        "      if (epoch + 1) % 10 == 0:\n",
        "          print(f'Epoch [{epoch+1}/{epochs}], Train Loss: {loss.item():.4f}, Val Loss: {val_loss.item():.4f}')\n",
        "\n",
        "  elapsed_seconds = time.perf_counter() - start_time\n",
        "  if model_name != \"\":\n",
        "    work_time[model_name] = elapsed_seconds"
      ],
      "metadata": {
        "id": "uoH9zfGCNRgu"
      },
      "execution_count": 9,
      "outputs": []
    },
    {
      "cell_type": "code",
      "source": [
        "import numpy as np\n",
        "\n",
        "def get_test_rmse(model):\n",
        "\n",
        "  model.eval()\n",
        "  with torch.no_grad():\n",
        "      y_predict_tensor = model(X_test_tensor)\n",
        "      y_predict_np = y_predict_tensor.numpy()\n",
        "      y_test_np = y_test_tensor.numpy()\n",
        "\n",
        "  return np.sqrt(mean_squared_error(y_test_np, y_predict_np))"
      ],
      "metadata": {
        "id": "5YU2JlqNN7Ax"
      },
      "execution_count": 10,
      "outputs": []
    },
    {
      "cell_type": "markdown",
      "source": [
        "### Линейная регрессия"
      ],
      "metadata": {
        "id": "iIBSsTrUKdd8"
      }
    },
    {
      "cell_type": "code",
      "source": [
        "import torch.nn as nn\n",
        "import torch.optim as optim\n",
        "from sklearn.metrics import mean_squared_error\n",
        "\n",
        "model_lin_reg = nn.Sequential(\n",
        "    nn.Linear(X_train.shape[1], 1)\n",
        ")\n",
        "\n",
        "learn_model(model_lin_reg, model_name=\"Линейная регрессия\")"
      ],
      "metadata": {
        "colab": {
          "base_uri": "https://localhost:8080/"
        },
        "id": "uKM2wnerKbyE",
        "outputId": "e2a2f41e-6bd5-43cf-8c68-768206202b91"
      },
      "execution_count": 11,
      "outputs": [
        {
          "output_type": "stream",
          "name": "stdout",
          "text": [
            "Epoch [10/300], Train Loss: 321678180352.0000, Val Loss: 313119965184.0000\n",
            "Epoch [20/300], Train Loss: 321553563648.0000, Val Loss: 312997314560.0000\n",
            "Epoch [30/300], Train Loss: 321428979712.0000, Val Loss: 312874827776.0000\n",
            "Epoch [40/300], Train Loss: 321304428544.0000, Val Loss: 312752340992.0000\n",
            "Epoch [50/300], Train Loss: 321179975680.0000, Val Loss: 312629985280.0000\n",
            "Epoch [60/300], Train Loss: 321055621120.0000, Val Loss: 312507629568.0000\n",
            "Epoch [70/300], Train Loss: 320931266560.0000, Val Loss: 312385372160.0000\n",
            "Epoch [80/300], Train Loss: 320807043072.0000, Val Loss: 312263180288.0000\n",
            "Epoch [90/300], Train Loss: 320682917888.0000, Val Loss: 312141086720.0000\n",
            "Epoch [100/300], Train Loss: 320558825472.0000, Val Loss: 312019025920.0000\n",
            "Epoch [110/300], Train Loss: 320434765824.0000, Val Loss: 311897030656.0000\n",
            "Epoch [120/300], Train Loss: 320310870016.0000, Val Loss: 311775133696.0000\n",
            "Epoch [130/300], Train Loss: 320187006976.0000, Val Loss: 311653302272.0000\n",
            "Epoch [140/300], Train Loss: 320063209472.0000, Val Loss: 311531536384.0000\n",
            "Epoch [150/300], Train Loss: 319939477504.0000, Val Loss: 311409836032.0000\n",
            "Epoch [160/300], Train Loss: 319815811072.0000, Val Loss: 311288168448.0000\n",
            "Epoch [170/300], Train Loss: 319692242944.0000, Val Loss: 311166664704.0000\n",
            "Epoch [180/300], Train Loss: 319568773120.0000, Val Loss: 311045128192.0000\n",
            "Epoch [190/300], Train Loss: 319445336064.0000, Val Loss: 310923722752.0000\n",
            "Epoch [200/300], Train Loss: 319321964544.0000, Val Loss: 310802382848.0000\n",
            "Epoch [210/300], Train Loss: 319198658560.0000, Val Loss: 310681108480.0000\n",
            "Epoch [220/300], Train Loss: 319075450880.0000, Val Loss: 310559899648.0000\n",
            "Epoch [230/300], Train Loss: 318952308736.0000, Val Loss: 310438723584.0000\n",
            "Epoch [240/300], Train Loss: 318829232128.0000, Val Loss: 310317678592.0000\n",
            "Epoch [250/300], Train Loss: 318706253824.0000, Val Loss: 310196666368.0000\n",
            "Epoch [260/300], Train Loss: 318583308288.0000, Val Loss: 310075719680.0000\n",
            "Epoch [270/300], Train Loss: 318460461056.0000, Val Loss: 309954871296.0000\n",
            "Epoch [280/300], Train Loss: 318337679360.0000, Val Loss: 309834022912.0000\n",
            "Epoch [290/300], Train Loss: 318214930432.0000, Val Loss: 309713305600.0000\n",
            "Epoch [300/300], Train Loss: 318092312576.0000, Val Loss: 309592621056.0000\n"
          ]
        }
      ]
    },
    {
      "cell_type": "code",
      "source": [
        "rmse_lin = get_test_rmse(model_lin_reg)\n",
        "rmses['Линейная регрессия'] = rmse_lin\n",
        "print(f\"\\nRMSE on the test set: {rmse_lin:.4f}\")"
      ],
      "metadata": {
        "colab": {
          "base_uri": "https://localhost:8080/"
        },
        "id": "99LLb1yuLhDZ",
        "outputId": "e8161f8d-983c-459a-ed11-e6f92f207941"
      },
      "execution_count": 12,
      "outputs": [
        {
          "output_type": "stream",
          "name": "stdout",
          "text": [
            "\n",
            "RMSE on the test set: 553982.3142\n"
          ]
        }
      ]
    },
    {
      "cell_type": "markdown",
      "source": [
        "### Нейронка 1"
      ],
      "metadata": {
        "id": "vujYDL0eM7C2"
      }
    },
    {
      "cell_type": "code",
      "source": [
        "import torch.nn as nn\n",
        "\n",
        "model_nn1 = nn.Sequential(\n",
        "    nn.Linear(X_train.shape[1], 64),\n",
        "    nn.ReLU(),\n",
        "    nn.Linear(64, 1)\n",
        ")\n",
        "\n",
        "learn_model(model=model_nn1, model_name=\"Нейронка 1(64 нейронов + ReLU)\")"
      ],
      "metadata": {
        "colab": {
          "base_uri": "https://localhost:8080/"
        },
        "id": "QBMlBCOkM8fa",
        "outputId": "613d1e02-c801-4a90-e9f4-de6cd68ba8f6"
      },
      "execution_count": 13,
      "outputs": [
        {
          "output_type": "stream",
          "name": "stdout",
          "text": [
            "Epoch [10/300], Train Loss: 321064468480.0000, Val Loss: 312491409408.0000\n",
            "Epoch [20/300], Train Loss: 320641925120.0000, Val Loss: 312070373376.0000\n",
            "Epoch [30/300], Train Loss: 320146702336.0000, Val Loss: 311574462464.0000\n",
            "Epoch [40/300], Train Loss: 319547211776.0000, Val Loss: 310972645376.0000\n",
            "Epoch [50/300], Train Loss: 318820843520.0000, Val Loss: 310244868096.0000\n",
            "Epoch [60/300], Train Loss: 317959536640.0000, Val Loss: 309383430144.0000\n",
            "Epoch [70/300], Train Loss: 316954378240.0000, Val Loss: 308379844608.0000\n",
            "Epoch [80/300], Train Loss: 315801927680.0000, Val Loss: 307231916032.0000\n",
            "Epoch [90/300], Train Loss: 314498088960.0000, Val Loss: 305934336000.0000\n",
            "Epoch [100/300], Train Loss: 313031229440.0000, Val Loss: 304474456064.0000\n",
            "Epoch [110/300], Train Loss: 311387291648.0000, Val Loss: 302836973568.0000\n",
            "Epoch [120/300], Train Loss: 309559099392.0000, Val Loss: 301016219648.0000\n",
            "Epoch [130/300], Train Loss: 307543572480.0000, Val Loss: 299011702784.0000\n",
            "Epoch [140/300], Train Loss: 305362567168.0000, Val Loss: 296847212544.0000\n",
            "Epoch [150/300], Train Loss: 303034990592.0000, Val Loss: 294538084352.0000\n",
            "Epoch [160/300], Train Loss: 300564545536.0000, Val Loss: 292087332864.0000\n",
            "Epoch [170/300], Train Loss: 297948807168.0000, Val Loss: 289491845120.0000\n",
            "Epoch [180/300], Train Loss: 295178338304.0000, Val Loss: 286740611072.0000\n",
            "Epoch [190/300], Train Loss: 292253073408.0000, Val Loss: 283836317696.0000\n",
            "Epoch [200/300], Train Loss: 289196605440.0000, Val Loss: 280803540992.0000\n",
            "Epoch [210/300], Train Loss: 286027055104.0000, Val Loss: 277658238976.0000\n",
            "Epoch [220/300], Train Loss: 282755497984.0000, Val Loss: 274411012096.0000\n",
            "Epoch [230/300], Train Loss: 279392321536.0000, Val Loss: 271071690752.0000\n",
            "Epoch [240/300], Train Loss: 275947421696.0000, Val Loss: 267649810432.0000\n",
            "Epoch [250/300], Train Loss: 272430497792.0000, Val Loss: 264154693632.0000\n",
            "Epoch [260/300], Train Loss: 268850380800.0000, Val Loss: 260594630656.0000\n",
            "Epoch [270/300], Train Loss: 265213018112.0000, Val Loss: 256975208448.0000\n",
            "Epoch [280/300], Train Loss: 261519654912.0000, Val Loss: 253296951296.0000\n",
            "Epoch [290/300], Train Loss: 257764950016.0000, Val Loss: 249552699392.0000\n",
            "Epoch [300/300], Train Loss: 253949181952.0000, Val Loss: 245744254976.0000\n"
          ]
        }
      ]
    },
    {
      "cell_type": "code",
      "source": [
        "rmse_nn1 = get_test_rmse(model_nn1)\n",
        "rmses['Нейронка 1(64 нейронов + ReLU)'] = rmse_nn1\n",
        "print(f\"\\nRMSE on the test set: {rmse_nn1:.4f}\")"
      ],
      "metadata": {
        "colab": {
          "base_uri": "https://localhost:8080/"
        },
        "id": "Jo-NApj2OQla",
        "outputId": "dc71be0f-1300-477f-ac7e-a7bae2db61e5"
      },
      "execution_count": 14,
      "outputs": [
        {
          "output_type": "stream",
          "name": "stdout",
          "text": [
            "\n",
            "RMSE on the test set: 492477.4342\n"
          ]
        }
      ]
    },
    {
      "cell_type": "markdown",
      "source": [
        "### Нейронка 2"
      ],
      "metadata": {
        "id": "3JcTYyQHOpo7"
      }
    },
    {
      "cell_type": "code",
      "source": [
        "import torch.nn as nn\n",
        "\n",
        "model_nn2 = nn.Sequential(\n",
        "    nn.Linear(X_train.shape[1], 128),\n",
        "    nn.ReLU(),\n",
        "    nn.Linear(128, 1)\n",
        ")\n",
        "\n",
        "model_name = 'Нейронка 2(128 нейронов + ReLU)'\n",
        "\n",
        "learn_model(model=model_nn2, model_name=model_name)\n",
        "\n",
        "rmse_nn2 = get_test_rmse(model_nn2)\n",
        "rmses[model_name] = rmse_nn2\n",
        "print(f\"\\nRMSE on the test set: {rmse_nn2:.4f}\")"
      ],
      "metadata": {
        "colab": {
          "base_uri": "https://localhost:8080/"
        },
        "id": "4bBXmNkBOjWL",
        "outputId": "4bcaacb5-edbe-4fc4-8255-bbc895de2c06"
      },
      "execution_count": 15,
      "outputs": [
        {
          "output_type": "stream",
          "name": "stdout",
          "text": [
            "Epoch [10/300], Train Loss: 319834324992.0000, Val Loss: 311200382976.0000\n",
            "Epoch [20/300], Train Loss: 318578196480.0000, Val Loss: 309955624960.0000\n",
            "Epoch [30/300], Train Loss: 317199777792.0000, Val Loss: 308584284160.0000\n",
            "Epoch [40/300], Train Loss: 315636645888.0000, Val Loss: 307024691200.0000\n",
            "Epoch [50/300], Train Loss: 313829556224.0000, Val Loss: 305217929216.0000\n",
            "Epoch [60/300], Train Loss: 311722442752.0000, Val Loss: 303109046272.0000\n",
            "Epoch [70/300], Train Loss: 309269954560.0000, Val Loss: 300656427008.0000\n",
            "Epoch [80/300], Train Loss: 306442797056.0000, Val Loss: 297833005056.0000\n",
            "Epoch [90/300], Train Loss: 303225831424.0000, Val Loss: 294622199808.0000\n",
            "Epoch [100/300], Train Loss: 299598774272.0000, Val Loss: 291002155008.0000\n",
            "Epoch [110/300], Train Loss: 295541833728.0000, Val Loss: 286952718336.0000\n",
            "Epoch [120/300], Train Loss: 291062710272.0000, Val Loss: 282482737152.0000\n",
            "Epoch [130/300], Train Loss: 286186307584.0000, Val Loss: 277621243904.0000\n",
            "Epoch [140/300], Train Loss: 280980783104.0000, Val Loss: 272437723136.0000\n",
            "Epoch [150/300], Train Loss: 275512623104.0000, Val Loss: 266992320512.0000\n",
            "Epoch [160/300], Train Loss: 269828571136.0000, Val Loss: 261329698816.0000\n",
            "Epoch [170/300], Train Loss: 263974535168.0000, Val Loss: 255494094848.0000\n",
            "Epoch [180/300], Train Loss: 257997881344.0000, Val Loss: 249531154432.0000\n",
            "Epoch [190/300], Train Loss: 251946762240.0000, Val Loss: 243487653888.0000\n",
            "Epoch [200/300], Train Loss: 245869756416.0000, Val Loss: 237410402304.0000\n",
            "Epoch [210/300], Train Loss: 239814721536.0000, Val Loss: 231345946624.0000\n",
            "Epoch [220/300], Train Loss: 233828171776.0000, Val Loss: 225339424768.0000\n",
            "Epoch [230/300], Train Loss: 227954458624.0000, Val Loss: 219433943040.0000\n",
            "Epoch [240/300], Train Loss: 222234673152.0000, Val Loss: 213669740544.0000\n",
            "Epoch [250/300], Train Loss: 216705908736.0000, Val Loss: 208083042304.0000\n",
            "Epoch [260/300], Train Loss: 211398705152.0000, Val Loss: 202703667200.0000\n",
            "Epoch [270/300], Train Loss: 206334083072.0000, Val Loss: 197552455680.0000\n",
            "Epoch [280/300], Train Loss: 201526558720.0000, Val Loss: 192643874816.0000\n",
            "Epoch [290/300], Train Loss: 196983406592.0000, Val Loss: 187985018880.0000\n",
            "Epoch [300/300], Train Loss: 192727564288.0000, Val Loss: 183603101696.0000\n",
            "\n",
            "RMSE on the test set: 424945.0407\n"
          ]
        }
      ]
    },
    {
      "cell_type": "markdown",
      "source": [
        "### Нейронка 3"
      ],
      "metadata": {
        "id": "u0MJ0_uzPAMm"
      }
    },
    {
      "cell_type": "code",
      "source": [
        "import torch.nn as nn\n",
        "\n",
        "model_nn3 = nn.Sequential(\n",
        "    nn.Linear(X_train.shape[1], 256),\n",
        "    nn.ReLU(),\n",
        "    nn.Linear(256, 1)\n",
        ")\n",
        "name = 'Нейронка 3(256 нейронов + ReLU)'\n",
        "learn_model(model=model_nn3, model_name=name)\n",
        "\n",
        "rmse_nn3 = get_test_rmse(model_nn3)\n",
        "rmses[name] = rmse_nn3\n",
        "print(f\"\\nRMSE on the test set: {rmse_nn3:.4f}\")"
      ],
      "metadata": {
        "colab": {
          "base_uri": "https://localhost:8080/"
        },
        "id": "iMaYm8M7PBjj",
        "outputId": "07627456-1ea9-49bc-c4dc-c108c8745c7d"
      },
      "execution_count": 16,
      "outputs": [
        {
          "output_type": "stream",
          "name": "stdout",
          "text": [
            "Epoch [10/300], Train Loss: 321366523904.0000, Val Loss: 312636309504.0000\n",
            "Epoch [20/300], Train Loss: 319393955840.0000, Val Loss: 310687137792.0000\n",
            "Epoch [30/300], Train Loss: 317269049344.0000, Val Loss: 308574846976.0000\n",
            "Epoch [40/300], Train Loss: 314867810304.0000, Val Loss: 306177540096.0000\n",
            "Epoch [50/300], Train Loss: 312071323648.0000, Val Loss: 303379546112.0000\n",
            "Epoch [60/300], Train Loss: 308765622272.0000, Val Loss: 300068175872.0000\n",
            "Epoch [70/300], Train Loss: 304846307328.0000, Val Loss: 296141193216.0000\n",
            "Epoch [80/300], Train Loss: 300216287232.0000, Val Loss: 291502587904.0000\n",
            "Epoch [90/300], Train Loss: 294798295040.0000, Val Loss: 286072176640.0000\n",
            "Epoch [100/300], Train Loss: 288542720000.0000, Val Loss: 279806640128.0000\n",
            "Epoch [110/300], Train Loss: 281476399104.0000, Val Loss: 272736321536.0000\n",
            "Epoch [120/300], Train Loss: 273701945344.0000, Val Loss: 264965832704.0000\n",
            "Epoch [130/300], Train Loss: 265365143552.0000, Val Loss: 256639156224.0000\n",
            "Epoch [140/300], Train Loss: 256636403712.0000, Val Loss: 247920345088.0000\n",
            "Epoch [150/300], Train Loss: 247683596288.0000, Val Loss: 238971682816.0000\n",
            "Epoch [160/300], Train Loss: 238670462976.0000, Val Loss: 229950439424.0000\n",
            "Epoch [170/300], Train Loss: 229733253120.0000, Val Loss: 220985688064.0000\n",
            "Epoch [180/300], Train Loss: 220984721408.0000, Val Loss: 212186021888.0000\n",
            "Epoch [190/300], Train Loss: 212532772864.0000, Val Loss: 203654397952.0000\n",
            "Epoch [200/300], Train Loss: 204527435776.0000, Val Loss: 195549036544.0000\n",
            "Epoch [210/300], Train Loss: 197147770880.0000, Val Loss: 188040511488.0000\n",
            "Epoch [220/300], Train Loss: 190478254080.0000, Val Loss: 181211463680.0000\n",
            "Epoch [230/300], Train Loss: 184545198080.0000, Val Loss: 175091449856.0000\n",
            "Epoch [240/300], Train Loss: 179363643392.0000, Val Loss: 169700229120.0000\n",
            "Epoch [250/300], Train Loss: 174908899328.0000, Val Loss: 165019402240.0000\n",
            "Epoch [260/300], Train Loss: 171126341632.0000, Val Loss: 161001897984.0000\n",
            "Epoch [270/300], Train Loss: 167960641536.0000, Val Loss: 157604921344.0000\n",
            "Epoch [280/300], Train Loss: 165335859200.0000, Val Loss: 154754433024.0000\n",
            "Epoch [290/300], Train Loss: 163152822272.0000, Val Loss: 152365318144.0000\n",
            "Epoch [300/300], Train Loss: 161313832960.0000, Val Loss: 150344859648.0000\n",
            "\n",
            "RMSE on the test set: 385117.9247\n"
          ]
        }
      ]
    },
    {
      "cell_type": "markdown",
      "source": [
        "### Нейронка 4"
      ],
      "metadata": {
        "id": "fJ_AQG-cPXZV"
      }
    },
    {
      "cell_type": "code",
      "source": [
        "import torch.nn as nn\n",
        "\n",
        "model_nn4 = nn.Sequential(\n",
        "    nn.Linear(X_train.shape[1], 512),\n",
        "    nn.ReLU(),\n",
        "    nn.Linear(512, 1)\n",
        ")\n",
        "\n",
        "name = 'Нейронка 4(512 нейронов + ReLU)'\n",
        "learn_model(model=model_nn4, model_name=name)\n",
        "\n",
        "rmse_nn4 = get_test_rmse(model_nn4)\n",
        "rmses[name] = rmse_nn4\n",
        "print(f\"\\nRMSE on the test set: {rmse_nn4:.4f}\")"
      ],
      "metadata": {
        "colab": {
          "base_uri": "https://localhost:8080/"
        },
        "id": "b8D9uNvUPZb2",
        "outputId": "00d9b16d-6abb-44ea-8f68-ef7b46508350"
      },
      "execution_count": 17,
      "outputs": [
        {
          "output_type": "stream",
          "name": "stdout",
          "text": [
            "Epoch [10/300], Train Loss: 318751506432.0000, Val Loss: 309887074304.0000\n",
            "Epoch [20/300], Train Loss: 314932559872.0000, Val Loss: 306106531840.0000\n",
            "Epoch [30/300], Train Loss: 310769123328.0000, Val Loss: 301956857856.0000\n",
            "Epoch [40/300], Train Loss: 305977196544.0000, Val Loss: 297156968448.0000\n",
            "Epoch [50/300], Train Loss: 300302336000.0000, Val Loss: 291461496832.0000\n",
            "Epoch [60/300], Train Loss: 293557534720.0000, Val Loss: 284688809984.0000\n",
            "Epoch [70/300], Train Loss: 285614145536.0000, Val Loss: 276712652800.0000\n",
            "Epoch [80/300], Train Loss: 276408729600.0000, Val Loss: 267471667200.0000\n",
            "Epoch [90/300], Train Loss: 265983148032.0000, Val Loss: 257008435200.0000\n",
            "Epoch [100/300], Train Loss: 254514413568.0000, Val Loss: 245502345216.0000\n",
            "Epoch [110/300], Train Loss: 242330730496.0000, Val Loss: 233279733760.0000\n",
            "Epoch [120/300], Train Loss: 229855313920.0000, Val Loss: 220759212032.0000\n",
            "Epoch [130/300], Train Loss: 217569837056.0000, Val Loss: 208404938752.0000\n",
            "Epoch [140/300], Train Loss: 205910753280.0000, Val Loss: 196639604736.0000\n",
            "Epoch [150/300], Train Loss: 195284582400.0000, Val Loss: 185862701056.0000\n",
            "Epoch [160/300], Train Loss: 185974013952.0000, Val Loss: 176348266496.0000\n",
            "Epoch [170/300], Train Loss: 178158665728.0000, Val Loss: 168283504640.0000\n",
            "Epoch [180/300], Train Loss: 171867865088.0000, Val Loss: 161705115648.0000\n",
            "Epoch [190/300], Train Loss: 166972702720.0000, Val Loss: 156504113152.0000\n",
            "Epoch [200/300], Train Loss: 163247374336.0000, Val Loss: 152479989760.0000\n",
            "Epoch [210/300], Train Loss: 160399654912.0000, Val Loss: 149367291904.0000\n",
            "Epoch [220/300], Train Loss: 158146215936.0000, Val Loss: 146903990272.0000\n",
            "Epoch [230/300], Train Loss: 156239855616.0000, Val Loss: 144854745088.0000\n",
            "Epoch [240/300], Train Loss: 154491715584.0000, Val Loss: 143034974208.0000\n",
            "Epoch [250/300], Train Loss: 152799707136.0000, Val Loss: 141335756800.0000\n",
            "Epoch [260/300], Train Loss: 151102259200.0000, Val Loss: 139684151296.0000\n",
            "Epoch [270/300], Train Loss: 149371355136.0000, Val Loss: 138038034432.0000\n",
            "Epoch [280/300], Train Loss: 147590463488.0000, Val Loss: 136363892736.0000\n",
            "Epoch [290/300], Train Loss: 145768808448.0000, Val Loss: 134667321344.0000\n",
            "Epoch [300/300], Train Loss: 143908552704.0000, Val Loss: 132941561856.0000\n",
            "\n",
            "RMSE on the test set: 362359.4206\n"
          ]
        }
      ]
    },
    {
      "cell_type": "markdown",
      "source": [
        "### Нейронка 5"
      ],
      "metadata": {
        "id": "zQBFC1RCPkqH"
      }
    },
    {
      "cell_type": "code",
      "source": [
        "import torch.nn as nn\n",
        "\n",
        "model_nn5 = nn.Sequential(\n",
        "    nn.Linear(X_train.shape[1], 1024),\n",
        "    nn.ReLU(),\n",
        "    nn.Linear(1024, 1)\n",
        ")\n",
        "name = 'Нейронка 5(1024 нейронов + ReLU)'\n",
        "learn_model(model=model_nn5, model_name=name)\n",
        "\n",
        "rmse_nn5 = get_test_rmse(model_nn5)\n",
        "rmses[name] = rmse_nn5\n",
        "print(f\"\\nRMSE on the test set: {rmse_nn5:.4f}\")"
      ],
      "metadata": {
        "colab": {
          "base_uri": "https://localhost:8080/"
        },
        "id": "OmbKVcu2PmhO",
        "outputId": "61c278b5-8a66-473c-a107-d5fae2c60ae1"
      },
      "execution_count": 18,
      "outputs": [
        {
          "output_type": "stream",
          "name": "stdout",
          "text": [
            "Epoch [10/300], Train Loss: 315395538944.0000, Val Loss: 306268471296.0000\n",
            "Epoch [20/300], Train Loss: 308254113792.0000, Val Loss: 299181604864.0000\n",
            "Epoch [30/300], Train Loss: 300348145664.0000, Val Loss: 291276718080.0000\n",
            "Epoch [40/300], Train Loss: 291206496256.0000, Val Loss: 282098106368.0000\n",
            "Epoch [50/300], Train Loss: 280540413952.0000, Val Loss: 271372337152.0000\n",
            "Epoch [60/300], Train Loss: 268252708864.0000, Val Loss: 259006824448.0000\n",
            "Epoch [70/300], Train Loss: 254440603648.0000, Val Loss: 245102821376.0000\n",
            "Epoch [80/300], Train Loss: 239450685440.0000, Val Loss: 230005882880.0000\n",
            "Epoch [90/300], Train Loss: 223859834880.0000, Val Loss: 214284599296.0000\n",
            "Epoch [100/300], Train Loss: 208458498048.0000, Val Loss: 198715146240.0000\n",
            "Epoch [110/300], Train Loss: 194177253376.0000, Val Loss: 184217927680.0000\n",
            "Epoch [120/300], Train Loss: 181920268288.0000, Val Loss: 171691147264.0000\n",
            "Epoch [130/300], Train Loss: 172373491712.0000, Val Loss: 161820852224.0000\n",
            "Epoch [140/300], Train Loss: 165540757504.0000, Val Loss: 154602078208.0000\n",
            "Epoch [150/300], Train Loss: 160817102848.0000, Val Loss: 149518499840.0000\n",
            "Epoch [160/300], Train Loss: 157433888768.0000, Val Loss: 145866604544.0000\n",
            "Epoch [170/300], Train Loss: 154647904256.0000, Val Loss: 142964326400.0000\n",
            "Epoch [180/300], Train Loss: 151997153280.0000, Val Loss: 140356976640.0000\n",
            "Epoch [190/300], Train Loss: 149296676864.0000, Val Loss: 137819586560.0000\n",
            "Epoch [200/300], Train Loss: 146521980928.0000, Val Loss: 135274512384.0000\n",
            "Epoch [210/300], Train Loss: 143697412096.0000, Val Loss: 132690657280.0000\n",
            "Epoch [220/300], Train Loss: 140818841600.0000, Val Loss: 130043928576.0000\n",
            "Epoch [230/300], Train Loss: 137891954688.0000, Val Loss: 127340969984.0000\n",
            "Epoch [240/300], Train Loss: 134925910016.0000, Val Loss: 124589801472.0000\n",
            "Epoch [250/300], Train Loss: 131923017728.0000, Val Loss: 121794658304.0000\n",
            "Epoch [260/300], Train Loss: 128883933184.0000, Val Loss: 118967443456.0000\n",
            "Epoch [270/300], Train Loss: 125811171328.0000, Val Loss: 116115718144.0000\n",
            "Epoch [280/300], Train Loss: 122707345408.0000, Val Loss: 113242587136.0000\n",
            "Epoch [290/300], Train Loss: 119588945920.0000, Val Loss: 110354030592.0000\n",
            "Epoch [300/300], Train Loss: 116464680960.0000, Val Loss: 107456634880.0000\n",
            "\n",
            "RMSE on the test set: 325155.4626\n"
          ]
        }
      ]
    },
    {
      "cell_type": "markdown",
      "source": [
        "### Нейронка 6"
      ],
      "metadata": {
        "id": "qMGHVWAWP47v"
      }
    },
    {
      "cell_type": "code",
      "source": [
        "import torch.nn as nn\n",
        "\n",
        "model_nn6 = nn.Sequential(\n",
        "    nn.Linear(X_train.shape[1], 64),\n",
        "    nn.Sigmoid(),\n",
        "    nn.Linear(64, 1)\n",
        ")\n",
        "name = 'Нейронка 6(64 нейронов + Sigmoid)'\n",
        "learn_model(model=model_nn6, model_name=name)\n",
        "\n",
        "rmse_nn6 = get_test_rmse(model_nn6)\n",
        "rmses[name] = rmse_nn6\n",
        "print(f\"\\nRMSE on the test set: {rmse_nn6:.4f}\")"
      ],
      "metadata": {
        "colab": {
          "base_uri": "https://localhost:8080/"
        },
        "id": "X9LUQPQTP604",
        "outputId": "0f8e9875-514a-4e90-e9a3-155168cf9e5e"
      },
      "execution_count": 19,
      "outputs": [
        {
          "output_type": "stream",
          "name": "stdout",
          "text": [
            "Epoch [10/300], Train Loss: 321919516672.0000, Val Loss: 313370247168.0000\n",
            "Epoch [20/300], Train Loss: 321919090688.0000, Val Loss: 313369821184.0000\n",
            "Epoch [30/300], Train Loss: 321918533632.0000, Val Loss: 313369231360.0000\n",
            "Epoch [40/300], Train Loss: 321918042112.0000, Val Loss: 313368739840.0000\n",
            "Epoch [50/300], Train Loss: 321917485056.0000, Val Loss: 313368248320.0000\n",
            "Epoch [60/300], Train Loss: 321916993536.0000, Val Loss: 313367691264.0000\n",
            "Epoch [70/300], Train Loss: 321916534784.0000, Val Loss: 313367265280.0000\n",
            "Epoch [80/300], Train Loss: 321916108800.0000, Val Loss: 313366839296.0000\n",
            "Epoch [90/300], Train Loss: 321915650048.0000, Val Loss: 313366446080.0000\n",
            "Epoch [100/300], Train Loss: 321915256832.0000, Val Loss: 313366020096.0000\n",
            "Epoch [110/300], Train Loss: 321914863616.0000, Val Loss: 313365626880.0000\n",
            "Epoch [120/300], Train Loss: 321914470400.0000, Val Loss: 313365233664.0000\n",
            "Epoch [130/300], Train Loss: 321914077184.0000, Val Loss: 313364873216.0000\n",
            "Epoch [140/300], Train Loss: 321913683968.0000, Val Loss: 313364512768.0000\n",
            "Epoch [150/300], Train Loss: 321913356288.0000, Val Loss: 313364086784.0000\n",
            "Epoch [160/300], Train Loss: 321912995840.0000, Val Loss: 313363726336.0000\n",
            "Epoch [170/300], Train Loss: 321912635392.0000, Val Loss: 313363398656.0000\n",
            "Epoch [180/300], Train Loss: 321912274944.0000, Val Loss: 313363005440.0000\n",
            "Epoch [190/300], Train Loss: 321911848960.0000, Val Loss: 313362644992.0000\n",
            "Epoch [200/300], Train Loss: 321911521280.0000, Val Loss: 313362350080.0000\n",
            "Epoch [210/300], Train Loss: 321911160832.0000, Val Loss: 313361956864.0000\n",
            "Epoch [220/300], Train Loss: 321910767616.0000, Val Loss: 313361629184.0000\n",
            "Epoch [230/300], Train Loss: 321910439936.0000, Val Loss: 313361268736.0000\n",
            "Epoch [240/300], Train Loss: 321910079488.0000, Val Loss: 313360941056.0000\n",
            "Epoch [250/300], Train Loss: 321909719040.0000, Val Loss: 313360580608.0000\n",
            "Epoch [260/300], Train Loss: 321909358592.0000, Val Loss: 313360220160.0000\n",
            "Epoch [270/300], Train Loss: 321909063680.0000, Val Loss: 313359859712.0000\n",
            "Epoch [280/300], Train Loss: 321908670464.0000, Val Loss: 313359532032.0000\n",
            "Epoch [290/300], Train Loss: 321908277248.0000, Val Loss: 313359171584.0000\n",
            "Epoch [300/300], Train Loss: 321907949568.0000, Val Loss: 313358778368.0000\n",
            "\n",
            "RMSE on the test set: 557409.0940\n"
          ]
        }
      ]
    },
    {
      "cell_type": "markdown",
      "source": [
        "### Нейронка 7"
      ],
      "metadata": {
        "id": "Zm-LaYnRQMa1"
      }
    },
    {
      "cell_type": "code",
      "source": [
        "import torch.nn as nn\n",
        "\n",
        "model_nn7 = nn.Sequential(\n",
        "    nn.Linear(X_train.shape[1], 128),\n",
        "    nn.Sigmoid(),\n",
        "    nn.Linear(128, 1)\n",
        ")\n",
        "\n",
        "name = 'Нейронка 7(128 нейронов + Sigmoid)'\n",
        "learn_model(model=model_nn7, model_name=name)\n",
        "\n",
        "rmse_nn7 = get_test_rmse(model_nn7)\n",
        "rmses[name] = rmse_nn7\n",
        "print(f\"\\nRMSE on the test set: {rmse_nn7:.4f}\")"
      ],
      "metadata": {
        "colab": {
          "base_uri": "https://localhost:8080/"
        },
        "id": "RNbTjK3AQSxy",
        "outputId": "40e3abf5-9be0-411c-e1b3-668d2427692f"
      },
      "execution_count": 20,
      "outputs": [
        {
          "output_type": "stream",
          "name": "stdout",
          "text": [
            "Epoch [10/300], Train Loss: 321918697472.0000, Val Loss: 313369329664.0000\n",
            "Epoch [20/300], Train Loss: 321917943808.0000, Val Loss: 313368608768.0000\n",
            "Epoch [30/300], Train Loss: 321917157376.0000, Val Loss: 313367855104.0000\n",
            "Epoch [40/300], Train Loss: 321916305408.0000, Val Loss: 313367003136.0000\n",
            "Epoch [50/300], Train Loss: 321915420672.0000, Val Loss: 313366151168.0000\n",
            "Epoch [60/300], Train Loss: 321914372096.0000, Val Loss: 313365135360.0000\n",
            "Epoch [70/300], Train Loss: 321913323520.0000, Val Loss: 313364021248.0000\n",
            "Epoch [80/300], Train Loss: 321912176640.0000, Val Loss: 313362907136.0000\n",
            "Epoch [90/300], Train Loss: 321911062528.0000, Val Loss: 313361760256.0000\n",
            "Epoch [100/300], Train Loss: 321909915648.0000, Val Loss: 313360646144.0000\n",
            "Epoch [110/300], Train Loss: 321908834304.0000, Val Loss: 313359532032.0000\n",
            "Epoch [120/300], Train Loss: 321907752960.0000, Val Loss: 313358516224.0000\n",
            "Epoch [130/300], Train Loss: 321906769920.0000, Val Loss: 313357533184.0000\n",
            "Epoch [140/300], Train Loss: 321905786880.0000, Val Loss: 313356615680.0000\n",
            "Epoch [150/300], Train Loss: 321904869376.0000, Val Loss: 313355698176.0000\n",
            "Epoch [160/300], Train Loss: 321903919104.0000, Val Loss: 313354715136.0000\n",
            "Epoch [170/300], Train Loss: 321902837760.0000, Val Loss: 313353666560.0000\n",
            "Epoch [180/300], Train Loss: 321901756416.0000, Val Loss: 313352617984.0000\n",
            "Epoch [190/300], Train Loss: 321900740608.0000, Val Loss: 313351569408.0000\n",
            "Epoch [200/300], Train Loss: 321899692032.0000, Val Loss: 313350553600.0000\n",
            "Epoch [210/300], Train Loss: 321898708992.0000, Val Loss: 313349537792.0000\n",
            "Epoch [220/300], Train Loss: 321897660416.0000, Val Loss: 313348554752.0000\n",
            "Epoch [230/300], Train Loss: 321896710144.0000, Val Loss: 313347604480.0000\n",
            "Epoch [240/300], Train Loss: 321895759872.0000, Val Loss: 313346621440.0000\n",
            "Epoch [250/300], Train Loss: 321894776832.0000, Val Loss: 313345703936.0000\n",
            "Epoch [260/300], Train Loss: 321893793792.0000, Val Loss: 313344753664.0000\n",
            "Epoch [270/300], Train Loss: 321892876288.0000, Val Loss: 313343836160.0000\n",
            "Epoch [280/300], Train Loss: 321891926016.0000, Val Loss: 313342885888.0000\n",
            "Epoch [290/300], Train Loss: 321891041280.0000, Val Loss: 313341935616.0000\n",
            "Epoch [300/300], Train Loss: 321890058240.0000, Val Loss: 313341050880.0000\n",
            "\n",
            "RMSE on the test set: 557393.2215\n"
          ]
        }
      ]
    },
    {
      "cell_type": "markdown",
      "source": [
        "### Нейронка 8"
      ],
      "metadata": {
        "id": "AdqEFyd0Qe94"
      }
    },
    {
      "cell_type": "code",
      "source": [
        "import torch.nn as nn\n",
        "\n",
        "model_nn8 = nn.Sequential(\n",
        "    nn.Linear(X_train.shape[1], 256),\n",
        "    nn.Sigmoid(),\n",
        "    nn.Linear(256, 1)\n",
        ")\n",
        "name = 'Нейронка 8(256 нейронов + Sigmoid)'\n",
        "learn_model(model=model_nn8, model_name=name)\n",
        "\n",
        "rmse_nn8 = get_test_rmse(model_nn8)\n",
        "rmses[name] = rmse_nn8\n",
        "print(f\"\\nRMSE on the test set: {rmse_nn8:.4f}\")"
      ],
      "metadata": {
        "colab": {
          "base_uri": "https://localhost:8080/"
        },
        "id": "wxPpv2RcQhEj",
        "outputId": "6eaa79a5-537a-4ae3-bc2e-92606e0980ac"
      },
      "execution_count": 21,
      "outputs": [
        {
          "output_type": "stream",
          "name": "stdout",
          "text": [
            "Epoch [10/300], Train Loss: 321918271488.0000, Val Loss: 313368903680.0000\n",
            "Epoch [20/300], Train Loss: 321916731392.0000, Val Loss: 313367363584.0000\n",
            "Epoch [30/300], Train Loss: 321915191296.0000, Val Loss: 313365856256.0000\n",
            "Epoch [40/300], Train Loss: 321913651200.0000, Val Loss: 313364316160.0000\n",
            "Epoch [50/300], Train Loss: 321912045568.0000, Val Loss: 313362743296.0000\n",
            "Epoch [60/300], Train Loss: 321910407168.0000, Val Loss: 313361072128.0000\n",
            "Epoch [70/300], Train Loss: 321908670464.0000, Val Loss: 313359368192.0000\n",
            "Epoch [80/300], Train Loss: 321906900992.0000, Val Loss: 313357631488.0000\n",
            "Epoch [90/300], Train Loss: 321905131520.0000, Val Loss: 313355829248.0000\n",
            "Epoch [100/300], Train Loss: 321903263744.0000, Val Loss: 313353994240.0000\n",
            "Epoch [110/300], Train Loss: 321901363200.0000, Val Loss: 313352126464.0000\n",
            "Epoch [120/300], Train Loss: 321899462656.0000, Val Loss: 313350193152.0000\n",
            "Epoch [130/300], Train Loss: 321897562112.0000, Val Loss: 313348358144.0000\n",
            "Epoch [140/300], Train Loss: 321895563264.0000, Val Loss: 313346359296.0000\n",
            "Epoch [150/300], Train Loss: 321893564416.0000, Val Loss: 313344360448.0000\n",
            "Epoch [160/300], Train Loss: 321891565568.0000, Val Loss: 313342394368.0000\n",
            "Epoch [170/300], Train Loss: 321889468416.0000, Val Loss: 313340329984.0000\n",
            "Epoch [180/300], Train Loss: 321887272960.0000, Val Loss: 313338101760.0000\n",
            "Epoch [190/300], Train Loss: 321885044736.0000, Val Loss: 313335971840.0000\n",
            "Epoch [200/300], Train Loss: 321882882048.0000, Val Loss: 313333841920.0000\n",
            "Epoch [210/300], Train Loss: 321880817664.0000, Val Loss: 313331810304.0000\n",
            "Epoch [220/300], Train Loss: 321878818816.0000, Val Loss: 313329778688.0000\n",
            "Epoch [230/300], Train Loss: 321876885504.0000, Val Loss: 313327845376.0000\n",
            "Epoch [240/300], Train Loss: 321874919424.0000, Val Loss: 313325879296.0000\n",
            "Epoch [250/300], Train Loss: 321872920576.0000, Val Loss: 313323978752.0000\n",
            "Epoch [260/300], Train Loss: 321870954496.0000, Val Loss: 313322012672.0000\n",
            "Epoch [270/300], Train Loss: 321869053952.0000, Val Loss: 313320112128.0000\n",
            "Epoch [280/300], Train Loss: 321867186176.0000, Val Loss: 313318244352.0000\n",
            "Epoch [290/300], Train Loss: 321865252864.0000, Val Loss: 313316376576.0000\n",
            "Epoch [300/300], Train Loss: 321863385088.0000, Val Loss: 313314541568.0000\n",
            "\n",
            "RMSE on the test set: 557369.5588\n"
          ]
        }
      ]
    },
    {
      "cell_type": "markdown",
      "source": [
        "### Нейронка 9"
      ],
      "metadata": {
        "id": "PqDXuXbwQpsB"
      }
    },
    {
      "cell_type": "code",
      "source": [
        "import torch.nn as nn\n",
        "\n",
        "model_nn9 = nn.Sequential(\n",
        "    nn.Linear(X_train.shape[1], 512),\n",
        "    nn.Sigmoid(),\n",
        "    nn.Linear(512, 1)\n",
        ")\n",
        "name='Нейронка 9(512 нейронов + Sigmoid)'\n",
        "learn_model(model=model_nn9, model_name=name)\n",
        "\n",
        "rmse_nn9 = get_test_rmse(model_nn9)\n",
        "rmses[name] = rmse_nn9\n",
        "print(f\"\\nRMSE on the test set: {rmse_nn9:.4f}\")"
      ],
      "metadata": {
        "colab": {
          "base_uri": "https://localhost:8080/"
        },
        "id": "a5LLb_p0QrDd",
        "outputId": "bd76a1bd-6594-4e66-d106-fcc911f21a3d"
      },
      "execution_count": 22,
      "outputs": [
        {
          "output_type": "stream",
          "name": "stdout",
          "text": [
            "Epoch [10/300], Train Loss: 321918107648.0000, Val Loss: 313368576000.0000\n",
            "Epoch [20/300], Train Loss: 321915158528.0000, Val Loss: 313365626880.0000\n",
            "Epoch [30/300], Train Loss: 321912045568.0000, Val Loss: 313362546688.0000\n",
            "Epoch [40/300], Train Loss: 321908736000.0000, Val Loss: 313359269888.0000\n",
            "Epoch [50/300], Train Loss: 321905262592.0000, Val Loss: 313355862016.0000\n",
            "Epoch [60/300], Train Loss: 321901592576.0000, Val Loss: 313352126464.0000\n",
            "Epoch [70/300], Train Loss: 321897594880.0000, Val Loss: 313348194304.0000\n",
            "Epoch [80/300], Train Loss: 321893433344.0000, Val Loss: 313344065536.0000\n",
            "Epoch [90/300], Train Loss: 321889239040.0000, Val Loss: 313339936768.0000\n",
            "Epoch [100/300], Train Loss: 321885044736.0000, Val Loss: 313335775232.0000\n",
            "Epoch [110/300], Train Loss: 321880948736.0000, Val Loss: 313331679232.0000\n",
            "Epoch [120/300], Train Loss: 321876918272.0000, Val Loss: 313327714304.0000\n",
            "Epoch [130/300], Train Loss: 321872920576.0000, Val Loss: 313323716608.0000\n",
            "Epoch [140/300], Train Loss: 321868922880.0000, Val Loss: 313319751680.0000\n",
            "Epoch [150/300], Train Loss: 321864990720.0000, Val Loss: 313315885056.0000\n",
            "Epoch [160/300], Train Loss: 321861156864.0000, Val Loss: 313312083968.0000\n",
            "Epoch [170/300], Train Loss: 321857355776.0000, Val Loss: 313308381184.0000\n",
            "Epoch [180/300], Train Loss: 321853685760.0000, Val Loss: 313304711168.0000\n",
            "Epoch [190/300], Train Loss: 321849950208.0000, Val Loss: 313301008384.0000\n",
            "Epoch [200/300], Train Loss: 321846280192.0000, Val Loss: 313297338368.0000\n",
            "Epoch [210/300], Train Loss: 321842577408.0000, Val Loss: 313293733888.0000\n",
            "Epoch [220/300], Train Loss: 321838972928.0000, Val Loss: 313290096640.0000\n",
            "Epoch [230/300], Train Loss: 321835335680.0000, Val Loss: 313286590464.0000\n",
            "Epoch [240/300], Train Loss: 321831731200.0000, Val Loss: 313283051520.0000\n",
            "Epoch [250/300], Train Loss: 321828159488.0000, Val Loss: 313279512576.0000\n",
            "Epoch [260/300], Train Loss: 321824620544.0000, Val Loss: 313275973632.0000\n",
            "Epoch [270/300], Train Loss: 321821081600.0000, Val Loss: 313272467456.0000\n",
            "Epoch [280/300], Train Loss: 321817477120.0000, Val Loss: 313268895744.0000\n",
            "Epoch [290/300], Train Loss: 321813872640.0000, Val Loss: 313265291264.0000\n",
            "Epoch [300/300], Train Loss: 321810300928.0000, Val Loss: 313261752320.0000\n",
            "\n",
            "RMSE on the test set: 557322.3775\n"
          ]
        }
      ]
    },
    {
      "cell_type": "markdown",
      "source": [
        "### Нейронка 10"
      ],
      "metadata": {
        "id": "RiQ7hp88Qv_w"
      }
    },
    {
      "cell_type": "code",
      "source": [
        "import torch.nn as nn\n",
        "\n",
        "model_nn10 = nn.Sequential(\n",
        "    nn.Linear(X_train.shape[1], 1024),\n",
        "    nn.Sigmoid(),\n",
        "    nn.Linear(1024, 1)\n",
        ")\n",
        "name = 'Нейронка 10(1024 нейронов + Sigmoid)'\n",
        "learn_model(model=model_nn10, model_name=name)\n",
        "\n",
        "rmse_nn10 = get_test_rmse(model_nn10)\n",
        "rmses[name] = rmse_nn10\n",
        "print(f\"\\nRMSE on the test set: {rmse_nn10:.4f}\")"
      ],
      "metadata": {
        "colab": {
          "base_uri": "https://localhost:8080/"
        },
        "id": "_O8KU-hsQxfy",
        "outputId": "c84924c9-dbae-4eed-8970-a60695da1048"
      },
      "execution_count": 23,
      "outputs": [
        {
          "output_type": "stream",
          "name": "stdout",
          "text": [
            "Epoch [10/300], Train Loss: 321914896384.0000, Val Loss: 313365135360.0000\n",
            "Epoch [20/300], Train Loss: 321909260288.0000, Val Loss: 313359532032.0000\n",
            "Epoch [30/300], Train Loss: 321903296512.0000, Val Loss: 313353666560.0000\n",
            "Epoch [40/300], Train Loss: 321897103360.0000, Val Loss: 313347473408.0000\n",
            "Epoch [50/300], Train Loss: 321890353152.0000, Val Loss: 313340723200.0000\n",
            "Epoch [60/300], Train Loss: 321882947584.0000, Val Loss: 313333350400.0000\n",
            "Epoch [70/300], Train Loss: 321874984960.0000, Val Loss: 313325453312.0000\n",
            "Epoch [80/300], Train Loss: 321866563584.0000, Val Loss: 313317064704.0000\n",
            "Epoch [90/300], Train Loss: 321857781760.0000, Val Loss: 313308348416.0000\n",
            "Epoch [100/300], Train Loss: 321848672256.0000, Val Loss: 313299304448.0000\n",
            "Epoch [110/300], Train Loss: 321839661056.0000, Val Loss: 313290358784.0000\n",
            "Epoch [120/300], Train Loss: 321830748160.0000, Val Loss: 313281478656.0000\n",
            "Epoch [130/300], Train Loss: 321821966336.0000, Val Loss: 313272827904.0000\n",
            "Epoch [140/300], Train Loss: 321813381120.0000, Val Loss: 313264340992.0000\n",
            "Epoch [150/300], Train Loss: 321804992512.0000, Val Loss: 313256050688.0000\n",
            "Epoch [160/300], Train Loss: 321796833280.0000, Val Loss: 313248022528.0000\n",
            "Epoch [170/300], Train Loss: 321788968960.0000, Val Loss: 313240256512.0000\n",
            "Epoch [180/300], Train Loss: 321781170176.0000, Val Loss: 313232556032.0000\n",
            "Epoch [190/300], Train Loss: 321773469696.0000, Val Loss: 313224888320.0000\n",
            "Epoch [200/300], Train Loss: 321765703680.0000, Val Loss: 313217253376.0000\n",
            "Epoch [210/300], Train Loss: 321758035968.0000, Val Loss: 313209683968.0000\n",
            "Epoch [220/300], Train Loss: 321750335488.0000, Val Loss: 313202016256.0000\n",
            "Epoch [230/300], Train Loss: 321742602240.0000, Val Loss: 313194381312.0000\n",
            "Epoch [240/300], Train Loss: 321735000064.0000, Val Loss: 313186877440.0000\n",
            "Epoch [250/300], Train Loss: 321727430656.0000, Val Loss: 313179340800.0000\n",
            "Epoch [260/300], Train Loss: 321719894016.0000, Val Loss: 313171935232.0000\n",
            "Epoch [270/300], Train Loss: 321712455680.0000, Val Loss: 313164529664.0000\n",
            "Epoch [280/300], Train Loss: 321705017344.0000, Val Loss: 313157189632.0000\n",
            "Epoch [290/300], Train Loss: 321697611776.0000, Val Loss: 313149816832.0000\n",
            "Epoch [300/300], Train Loss: 321690206208.0000, Val Loss: 313142509568.0000\n",
            "\n",
            "RMSE on the test set: 557215.7124\n"
          ]
        }
      ]
    },
    {
      "cell_type": "markdown",
      "source": [
        "### Нейронка 11"
      ],
      "metadata": {
        "id": "InnFvaH-SEyf"
      }
    },
    {
      "cell_type": "code",
      "source": [
        "import torch.nn as nn\n",
        "\n",
        "model_nn11 = nn.Sequential(\n",
        "    nn.Linear(X_train.shape[1], 64),\n",
        "    nn.ReLU(),\n",
        "    nn.Linear(64, 64),\n",
        "    nn.ReLU(),\n",
        "    nn.Linear(64, 1)\n",
        ")\n",
        "name='Нейронка 11((64 нейронов)*2 + ReLU)'\n",
        "learn_model(model=model_nn11, model_name=name)\n",
        "\n",
        "rmse_nn11 = get_test_rmse(model_nn11)\n",
        "rmses[name] = rmse_nn11\n",
        "print(f\"\\nRMSE on the test set: {rmse_nn11:.4f}\")"
      ],
      "metadata": {
        "colab": {
          "base_uri": "https://localhost:8080/"
        },
        "id": "SeqiZubVSGI2",
        "outputId": "5fe8e63b-6b83-464b-ae22-4c2e8757ccd4"
      },
      "execution_count": 24,
      "outputs": [
        {
          "output_type": "stream",
          "name": "stdout",
          "text": [
            "Epoch [10/300], Train Loss: 320938344448.0000, Val Loss: 312297586688.0000\n",
            "Epoch [20/300], Train Loss: 319660392448.0000, Val Loss: 310996238336.0000\n",
            "Epoch [30/300], Train Loss: 317776363520.0000, Val Loss: 309067284480.0000\n",
            "Epoch [40/300], Train Loss: 314950057984.0000, Val Loss: 306172329984.0000\n",
            "Epoch [50/300], Train Loss: 310769352704.0000, Val Loss: 301898235904.0000\n",
            "Epoch [60/300], Train Loss: 304795549696.0000, Val Loss: 295808532480.0000\n",
            "Epoch [70/300], Train Loss: 296591523840.0000, Val Loss: 287475400704.0000\n",
            "Epoch [80/300], Train Loss: 285816455168.0000, Val Loss: 276557398016.0000\n",
            "Epoch [90/300], Train Loss: 272196141056.0000, Val Loss: 262777503744.0000\n",
            "Epoch [100/300], Train Loss: 255817089024.0000, Val Loss: 246242869248.0000\n",
            "Epoch [110/300], Train Loss: 237340327936.0000, Val Loss: 227619225600.0000\n",
            "Epoch [120/300], Train Loss: 217962741760.0000, Val Loss: 208087367680.0000\n",
            "Epoch [130/300], Train Loss: 199365984256.0000, Val Loss: 189296525312.0000\n",
            "Epoch [140/300], Train Loss: 183378837504.0000, Val Loss: 173030178816.0000\n",
            "Epoch [150/300], Train Loss: 171440062464.0000, Val Loss: 160690405376.0000\n",
            "Epoch [160/300], Train Loss: 163921739776.0000, Val Loss: 152660344832.0000\n",
            "Epoch [170/300], Train Loss: 159832686592.0000, Val Loss: 148050804736.0000\n",
            "Epoch [180/300], Train Loss: 157456039936.0000, Val Loss: 145309368320.0000\n",
            "Epoch [190/300], Train Loss: 155479949312.0000, Val Loss: 143223226368.0000\n",
            "Epoch [200/300], Train Loss: 153424494592.0000, Val Loss: 141269319680.0000\n",
            "Epoch [210/300], Train Loss: 151255138304.0000, Val Loss: 139300618240.0000\n",
            "Epoch [220/300], Train Loss: 148996145152.0000, Val Loss: 137256419328.0000\n",
            "Epoch [230/300], Train Loss: 146637438976.0000, Val Loss: 135094591488.0000\n",
            "Epoch [240/300], Train Loss: 144157294592.0000, Val Loss: 132794884096.0000\n",
            "Epoch [250/300], Train Loss: 141537312768.0000, Val Loss: 130351947776.0000\n",
            "Epoch [260/300], Train Loss: 138761879552.0000, Val Loss: 127762685952.0000\n",
            "Epoch [270/300], Train Loss: 135827054592.0000, Val Loss: 125026721792.0000\n",
            "Epoch [280/300], Train Loss: 132743970816.0000, Val Loss: 122147725312.0000\n",
            "Epoch [290/300], Train Loss: 129464344576.0000, Val Loss: 119095435264.0000\n",
            "Epoch [300/300], Train Loss: 125984964608.0000, Val Loss: 115873210368.0000\n",
            "\n",
            "RMSE on the test set: 338123.4781\n"
          ]
        }
      ]
    },
    {
      "cell_type": "markdown",
      "source": [
        "### Нейронка 12"
      ],
      "metadata": {
        "id": "9SeRB6nbSbbI"
      }
    },
    {
      "cell_type": "code",
      "source": [
        "import torch.nn as nn\n",
        "\n",
        "model_nn12 = nn.Sequential(\n",
        "    nn.Linear(X_train.shape[1], 128),\n",
        "    nn.ReLU(),\n",
        "    nn.Linear(128, 128),\n",
        "    nn.ReLU(),\n",
        "    nn.Linear(128, 1)\n",
        ")\n",
        "name='Нейронка 12((128 нейронов)*2 + ReLU)'\n",
        "learn_model(model=model_nn12, model_name=name)\n",
        "\n",
        "rmse_nn12 = get_test_rmse(model_nn12)\n",
        "rmses[name] = rmse_nn12\n",
        "print(f\"\\nRMSE on the test set: {rmse_nn12:.4f}\")"
      ],
      "metadata": {
        "colab": {
          "base_uri": "https://localhost:8080/"
        },
        "id": "gqoN_5YMSctp",
        "outputId": "8f7b14e7-50f6-4187-a2ba-d36567126acc"
      },
      "execution_count": 25,
      "outputs": [
        {
          "output_type": "stream",
          "name": "stdout",
          "text": [
            "Epoch [10/300], Train Loss: 319861129216.0000, Val Loss: 311113056256.0000\n",
            "Epoch [20/300], Train Loss: 316801351680.0000, Val Loss: 307945799680.0000\n",
            "Epoch [30/300], Train Loss: 311843913728.0000, Val Loss: 302836252672.0000\n",
            "Epoch [40/300], Train Loss: 304124690432.0000, Val Loss: 294904561664.0000\n",
            "Epoch [50/300], Train Loss: 292700979200.0000, Val Loss: 283212054528.0000\n",
            "Epoch [60/300], Train Loss: 276810727424.0000, Val Loss: 267008540672.0000\n",
            "Epoch [70/300], Train Loss: 256266780672.0000, Val Loss: 246133800960.0000\n",
            "Epoch [80/300], Train Loss: 231960264704.0000, Val Loss: 221489725440.0000\n",
            "Epoch [90/300], Train Loss: 206163001344.0000, Val Loss: 195348004864.0000\n",
            "Epoch [100/300], Train Loss: 183076093952.0000, Val Loss: 171927830528.0000\n",
            "Epoch [110/300], Train Loss: 167260782592.0000, Val Loss: 155649933312.0000\n",
            "Epoch [120/300], Train Loss: 159574736896.0000, Val Loss: 147308707840.0000\n",
            "Epoch [130/300], Train Loss: 155703787520.0000, Val Loss: 142984593408.0000\n",
            "Epoch [140/300], Train Loss: 151604428800.0000, Val Loss: 139121442816.0000\n",
            "Epoch [150/300], Train Loss: 147216547840.0000, Val Loss: 135333634048.0000\n",
            "Epoch [160/300], Train Loss: 142863745024.0000, Val Loss: 131478265856.0000\n",
            "Epoch [170/300], Train Loss: 138358538240.0000, Val Loss: 127294578688.0000\n",
            "Epoch [180/300], Train Loss: 133676081152.0000, Val Loss: 122858823680.0000\n",
            "Epoch [190/300], Train Loss: 128843505664.0000, Val Loss: 118271631360.0000\n",
            "Epoch [200/300], Train Loss: 123780448256.0000, Val Loss: 113520959488.0000\n",
            "Epoch [210/300], Train Loss: 118472974336.0000, Val Loss: 108592652288.0000\n",
            "Epoch [220/300], Train Loss: 112927653888.0000, Val Loss: 103462739968.0000\n",
            "Epoch [230/300], Train Loss: 107181752320.0000, Val Loss: 98151038976.0000\n",
            "Epoch [240/300], Train Loss: 101322186752.0000, Val Loss: 92729901056.0000\n",
            "Epoch [250/300], Train Loss: 95371640832.0000, Val Loss: 87234732032.0000\n",
            "Epoch [260/300], Train Loss: 89338249216.0000, Val Loss: 81696858112.0000\n",
            "Epoch [270/300], Train Loss: 83394510848.0000, Val Loss: 76261056512.0000\n",
            "Epoch [280/300], Train Loss: 77553377280.0000, Val Loss: 70942449664.0000\n",
            "Epoch [290/300], Train Loss: 71975911424.0000, Val Loss: 65887068160.0000\n",
            "Epoch [300/300], Train Loss: 66800214016.0000, Val Loss: 61208453120.0000\n",
            "\n",
            "RMSE on the test set: 245538.8505\n"
          ]
        }
      ]
    },
    {
      "cell_type": "markdown",
      "source": [
        "### Нейронка 13"
      ],
      "metadata": {
        "id": "VNN8EtIbSkQq"
      }
    },
    {
      "cell_type": "code",
      "source": [
        "import torch.nn as nn\n",
        "\n",
        "model_nn13 = nn.Sequential(\n",
        "    nn.Linear(X_train.shape[1], 256),\n",
        "    nn.ReLU(),\n",
        "    nn.Linear(256, 256),\n",
        "    nn.ReLU(),\n",
        "    nn.Linear(256, 1)\n",
        ")\n",
        "name='Нейронка 13((256 нейронов)*2 + ReLU)'\n",
        "learn_model(model=model_nn13, model_name=name)\n",
        "\n",
        "rmse_nn13 = get_test_rmse(model_nn13)\n",
        "rmses[name] = rmse_nn13\n",
        "print(f\"\\nRMSE on the test set: {rmse_nn13:.4f}\")"
      ],
      "metadata": {
        "colab": {
          "base_uri": "https://localhost:8080/"
        },
        "id": "difzrhDMSlnz",
        "outputId": "3718ab1c-56d8-417d-fe9f-6ca7c46472bc"
      },
      "execution_count": 26,
      "outputs": [
        {
          "output_type": "stream",
          "name": "stdout",
          "text": [
            "Epoch [10/300], Train Loss: 314801291264.0000, Val Loss: 305460248576.0000\n",
            "Epoch [20/300], Train Loss: 302791983104.0000, Val Loss: 292956012544.0000\n",
            "Epoch [30/300], Train Loss: 283185381376.0000, Val Loss: 272688955392.0000\n",
            "Epoch [40/300], Train Loss: 254971068416.0000, Val Loss: 243721093120.0000\n",
            "Epoch [50/300], Train Loss: 220911910912.0000, Val Loss: 208961454080.0000\n",
            "Epoch [60/300], Train Loss: 190332010496.0000, Val Loss: 177854971904.0000\n",
            "Epoch [70/300], Train Loss: 175085043712.0000, Val Loss: 161782136832.0000\n",
            "Epoch [80/300], Train Loss: 170485940224.0000, Val Loss: 156090023936.0000\n",
            "Epoch [90/300], Train Loss: 163350544384.0000, Val Loss: 149711929344.0000\n",
            "Epoch [100/300], Train Loss: 155778301952.0000, Val Loss: 143361654784.0000\n",
            "Epoch [110/300], Train Loss: 148240285696.0000, Val Loss: 136326553600.0000\n",
            "Epoch [120/300], Train Loss: 140337430528.0000, Val Loss: 128736051200.0000\n",
            "Epoch [130/300], Train Loss: 132436336640.0000, Val Loss: 121292791808.0000\n",
            "Epoch [140/300], Train Loss: 124220563456.0000, Val Loss: 113663672320.0000\n",
            "Epoch [150/300], Train Loss: 115452362752.0000, Val Loss: 105515147264.0000\n",
            "Epoch [160/300], Train Loss: 106206945280.0000, Val Loss: 96903413760.0000\n",
            "Epoch [170/300], Train Loss: 96561160192.0000, Val Loss: 88002732032.0000\n",
            "Epoch [180/300], Train Loss: 86815686656.0000, Val Loss: 79060074496.0000\n",
            "Epoch [190/300], Train Loss: 77212360704.0000, Val Loss: 70319349760.0000\n",
            "Epoch [200/300], Train Loss: 68210241536.0000, Val Loss: 62207774720.0000\n",
            "Epoch [210/300], Train Loss: 60291416064.0000, Val Loss: 55147089920.0000\n",
            "Epoch [220/300], Train Loss: 53774700544.0000, Val Loss: 49424756736.0000\n",
            "Epoch [230/300], Train Loss: 48861609984.0000, Val Loss: 45207527424.0000\n",
            "Epoch [240/300], Train Loss: 45555363840.0000, Val Loss: 42454114304.0000\n",
            "Epoch [250/300], Train Loss: 43625517056.0000, Val Loss: 40918839296.0000\n",
            "Epoch [260/300], Train Loss: 42694848512.0000, Val Loss: 40233680896.0000\n",
            "Epoch [270/300], Train Loss: 42342694912.0000, Val Loss: 40012525568.0000\n",
            "Epoch [280/300], Train Loss: 42244317184.0000, Val Loss: 39974141952.0000\n",
            "Epoch [290/300], Train Loss: 42222837760.0000, Val Loss: 39975768064.0000\n",
            "Epoch [300/300], Train Loss: 42214711296.0000, Val Loss: 39974764544.0000\n",
            "\n",
            "RMSE on the test set: 202610.6073\n"
          ]
        }
      ]
    },
    {
      "cell_type": "markdown",
      "source": [
        "### Нейронка 14"
      ],
      "metadata": {
        "id": "2qC-U9EoStYs"
      }
    },
    {
      "cell_type": "code",
      "source": [
        "import torch.nn as nn\n",
        "\n",
        "model_nn14 = nn.Sequential(\n",
        "    nn.Linear(X_train.shape[1], 512),\n",
        "    nn.ReLU(),\n",
        "    nn.Linear(512, 512),\n",
        "    nn.ReLU(),\n",
        "    nn.Linear(512, 1)\n",
        ")\n",
        "name='Нейронка 14((512 нейронов)*2 + ReLU)'\n",
        "learn_model(model=model_nn14, model_name=name)\n",
        "\n",
        "rmse_nn14 = get_test_rmse(model_nn14)\n",
        "rmses[name] = rmse_nn14\n",
        "print(f\"\\nRMSE on the test set: {rmse_nn14:.4f}\")"
      ],
      "metadata": {
        "colab": {
          "base_uri": "https://localhost:8080/"
        },
        "id": "D5rGlOxhSvGP",
        "outputId": "5096c025-072e-4cc4-de1f-8abcde0ae609"
      },
      "execution_count": 27,
      "outputs": [
        {
          "output_type": "stream",
          "name": "stdout",
          "text": [
            "Epoch [10/300], Train Loss: 304304062464.0000, Val Loss: 293480759296.0000\n",
            "Epoch [20/300], Train Loss: 270972223488.0000, Val Loss: 258773352448.0000\n",
            "Epoch [30/300], Train Loss: 223890685952.0000, Val Loss: 210558763008.0000\n",
            "Epoch [40/300], Train Loss: 183168335872.0000, Val Loss: 169647833088.0000\n",
            "Epoch [50/300], Train Loss: 173103579136.0000, Val Loss: 158137155584.0000\n",
            "Epoch [60/300], Train Loss: 162843410432.0000, Val Loss: 148292714496.0000\n",
            "Epoch [70/300], Train Loss: 150145482752.0000, Val Loss: 137880600576.0000\n",
            "Epoch [80/300], Train Loss: 135831478272.0000, Val Loss: 124041273344.0000\n",
            "Epoch [90/300], Train Loss: 118595731456.0000, Val Loss: 107344035840.0000\n",
            "Epoch [100/300], Train Loss: 98815950848.0000, Val Loss: 88870100992.0000\n",
            "Epoch [110/300], Train Loss: 78701953024.0000, Val Loss: 70653108224.0000\n",
            "Epoch [120/300], Train Loss: 61934317568.0000, Val Loss: 55935127552.0000\n",
            "Epoch [130/300], Train Loss: 50053492736.0000, Val Loss: 45877571584.0000\n",
            "Epoch [140/300], Train Loss: 44009787392.0000, Val Loss: 41105448960.0000\n",
            "Epoch [150/300], Train Loss: 42412556288.0000, Val Loss: 40113061888.0000\n",
            "Epoch [160/300], Train Loss: 42425376768.0000, Val Loss: 40243904512.0000\n",
            "Epoch [170/300], Train Loss: 42404204544.0000, Val Loss: 40199548928.0000\n",
            "Epoch [180/300], Train Loss: 42305351680.0000, Val Loss: 40075710464.0000\n",
            "Epoch [190/300], Train Loss: 42263441408.0000, Val Loss: 40015470592.0000\n",
            "Epoch [200/300], Train Loss: 42243719168.0000, Val Loss: 39991222272.0000\n",
            "Epoch [210/300], Train Loss: 42219716608.0000, Val Loss: 39974588416.0000\n",
            "Epoch [220/300], Train Loss: 42197237760.0000, Val Loss: 39960895488.0000\n",
            "Epoch [230/300], Train Loss: 42177806336.0000, Val Loss: 39946674176.0000\n",
            "Epoch [240/300], Train Loss: 42159185920.0000, Val Loss: 39930359808.0000\n",
            "Epoch [250/300], Train Loss: 42141442048.0000, Val Loss: 39914004480.0000\n",
            "Epoch [260/300], Train Loss: 42124488704.0000, Val Loss: 39898648576.0000\n",
            "Epoch [270/300], Train Loss: 42108616704.0000, Val Loss: 39884566528.0000\n",
            "Epoch [280/300], Train Loss: 42093084672.0000, Val Loss: 39870775296.0000\n",
            "Epoch [290/300], Train Loss: 42077810688.0000, Val Loss: 39856963584.0000\n",
            "Epoch [300/300], Train Loss: 42062184448.0000, Val Loss: 39842836480.0000\n",
            "\n",
            "RMSE on the test set: 202219.4724\n"
          ]
        }
      ]
    },
    {
      "cell_type": "markdown",
      "source": [
        "### Нейронка 15"
      ],
      "metadata": {
        "id": "lgYs8MlzS2iW"
      }
    },
    {
      "cell_type": "code",
      "source": [
        "import torch.nn as nn\n",
        "\n",
        "model_nn15 = nn.Sequential(\n",
        "    nn.Linear(X_train.shape[1], 1024),\n",
        "    nn.ReLU(),\n",
        "    nn.Linear(1024, 1024),\n",
        "    nn.ReLU(),\n",
        "    nn.Linear(1024, 1)\n",
        ")\n",
        "name='Нейронка 15((1024 нейронов)*2 + ReLU)'\n",
        "learn_model(model=model_nn15, model_name=name)\n",
        "\n",
        "rmse_nn15 = get_test_rmse(model_nn15)\n",
        "rmses[name] = rmse_nn15\n",
        "print(f\"\\nRMSE on the test set: {rmse_nn15:.4f}\")"
      ],
      "metadata": {
        "colab": {
          "base_uri": "https://localhost:8080/"
        },
        "id": "ZyYf8JJtS3-K",
        "outputId": "f8a4f731-cfbb-4e22-a6e6-d8437d1fdb3f"
      },
      "execution_count": 28,
      "outputs": [
        {
          "output_type": "stream",
          "name": "stdout",
          "text": [
            "Epoch [10/300], Train Loss: 277437120512.0000, Val Loss: 262750126080.0000\n",
            "Epoch [20/300], Train Loss: 205798834176.0000, Val Loss: 190164910080.0000\n",
            "Epoch [30/300], Train Loss: 182905978880.0000, Val Loss: 167362854912.0000\n",
            "Epoch [40/300], Train Loss: 169641345024.0000, Val Loss: 154450067456.0000\n",
            "Epoch [50/300], Train Loss: 155643904000.0000, Val Loss: 143471837184.0000\n",
            "Epoch [60/300], Train Loss: 136315658240.0000, Val Loss: 123714797568.0000\n",
            "Epoch [70/300], Train Loss: 111464931328.0000, Val Loss: 99848093696.0000\n",
            "Epoch [80/300], Train Loss: 81128800256.0000, Val Loss: 72067350528.0000\n",
            "Epoch [90/300], Train Loss: 53703569408.0000, Val Loss: 48092282880.0000\n",
            "Epoch [100/300], Train Loss: 42357833728.0000, Val Loss: 40007823360.0000\n",
            "Epoch [110/300], Train Loss: 43182497792.0000, Val Loss: 41097527296.0000\n",
            "Epoch [120/300], Train Loss: 42307706880.0000, Val Loss: 40083648512.0000\n",
            "Epoch [130/300], Train Loss: 42032136192.0000, Val Loss: 39796944896.0000\n",
            "Epoch [140/300], Train Loss: 42017353728.0000, Val Loss: 39756718080.0000\n",
            "Epoch [150/300], Train Loss: 41932156928.0000, Val Loss: 39707496448.0000\n",
            "Epoch [160/300], Train Loss: 41907171328.0000, Val Loss: 39690616832.0000\n",
            "Epoch [170/300], Train Loss: 41878118400.0000, Val Loss: 39649906688.0000\n",
            "Epoch [180/300], Train Loss: 41854836736.0000, Val Loss: 39617310720.0000\n",
            "Epoch [190/300], Train Loss: 41834029056.0000, Val Loss: 39594737664.0000\n",
            "Epoch [200/300], Train Loss: 41814147072.0000, Val Loss: 39575289856.0000\n",
            "Epoch [210/300], Train Loss: 41795067904.0000, Val Loss: 39554859008.0000\n",
            "Epoch [220/300], Train Loss: 41776431104.0000, Val Loss: 39533805568.0000\n",
            "Epoch [230/300], Train Loss: 41758515200.0000, Val Loss: 39514267648.0000\n",
            "Epoch [240/300], Train Loss: 41741254656.0000, Val Loss: 39495659520.0000\n",
            "Epoch [250/300], Train Loss: 41724628992.0000, Val Loss: 39477538816.0000\n",
            "Epoch [260/300], Train Loss: 41708449792.0000, Val Loss: 39459803136.0000\n",
            "Epoch [270/300], Train Loss: 41692663808.0000, Val Loss: 39442677760.0000\n",
            "Epoch [280/300], Train Loss: 41677123584.0000, Val Loss: 39426031616.0000\n",
            "Epoch [290/300], Train Loss: 41661718528.0000, Val Loss: 39409389568.0000\n",
            "Epoch [300/300], Train Loss: 41646092288.0000, Val Loss: 39392382976.0000\n",
            "\n",
            "RMSE on the test set: 201005.8445\n"
          ]
        }
      ]
    },
    {
      "cell_type": "markdown",
      "source": [
        "### Нейронка 16"
      ],
      "metadata": {
        "id": "sx0uQpRdVNPm"
      }
    },
    {
      "cell_type": "code",
      "source": [
        "import torch.nn as nn\n",
        "\n",
        "model_nn16 = nn.Sequential(\n",
        "    nn.Linear(X_train.shape[1], 64),\n",
        "    nn.Sigmoid(),\n",
        "    nn.Linear(64, 64),\n",
        "    nn.Sigmoid(),\n",
        "    nn.Linear(64, 1)\n",
        ")\n",
        "name='Нейронка 16((64 нейронов)*2 + Sigmoid)'\n",
        "learn_model(model=model_nn16, model_name=name)\n",
        "\n",
        "rmse_nn16 = get_test_rmse(model_nn16)\n",
        "rmses[name] = rmse_nn16\n",
        "print(f\"\\nRMSE on the test set: {rmse_nn16:.4f}\")"
      ],
      "metadata": {
        "colab": {
          "base_uri": "https://localhost:8080/"
        },
        "id": "VuoPNqn9VOZf",
        "outputId": "7ae7951f-5b13-4700-a7d3-90741078fdcb"
      },
      "execution_count": 29,
      "outputs": [
        {
          "output_type": "stream",
          "name": "stdout",
          "text": [
            "Epoch [10/300], Train Loss: 321919418368.0000, Val Loss: 313370148864.0000\n",
            "Epoch [20/300], Train Loss: 321918795776.0000, Val Loss: 313369493504.0000\n",
            "Epoch [30/300], Train Loss: 321918238720.0000, Val Loss: 313368903680.0000\n",
            "Epoch [40/300], Train Loss: 321917583360.0000, Val Loss: 313368281088.0000\n",
            "Epoch [50/300], Train Loss: 321916928000.0000, Val Loss: 313367625728.0000\n",
            "Epoch [60/300], Train Loss: 321916338176.0000, Val Loss: 313367068672.0000\n",
            "Epoch [70/300], Train Loss: 321915781120.0000, Val Loss: 313366511616.0000\n",
            "Epoch [80/300], Train Loss: 321915191296.0000, Val Loss: 313365954560.0000\n",
            "Epoch [90/300], Train Loss: 321914667008.0000, Val Loss: 313365364736.0000\n",
            "Epoch [100/300], Train Loss: 321914077184.0000, Val Loss: 313364807680.0000\n",
            "Epoch [110/300], Train Loss: 321913454592.0000, Val Loss: 313364217856.0000\n",
            "Epoch [120/300], Train Loss: 321912864768.0000, Val Loss: 313363595264.0000\n",
            "Epoch [130/300], Train Loss: 321912209408.0000, Val Loss: 313362972672.0000\n",
            "Epoch [140/300], Train Loss: 321911586816.0000, Val Loss: 313362382848.0000\n",
            "Epoch [150/300], Train Loss: 321910931456.0000, Val Loss: 313361694720.0000\n",
            "Epoch [160/300], Train Loss: 321910308864.0000, Val Loss: 313361104896.0000\n",
            "Epoch [170/300], Train Loss: 321909686272.0000, Val Loss: 313360449536.0000\n",
            "Epoch [180/300], Train Loss: 321909063680.0000, Val Loss: 313359859712.0000\n",
            "Epoch [190/300], Train Loss: 321908408320.0000, Val Loss: 313359171584.0000\n",
            "Epoch [200/300], Train Loss: 321907687424.0000, Val Loss: 313358516224.0000\n",
            "Epoch [210/300], Train Loss: 321907032064.0000, Val Loss: 313357795328.0000\n",
            "Epoch [220/300], Train Loss: 321906311168.0000, Val Loss: 313357107200.0000\n",
            "Epoch [230/300], Train Loss: 321905590272.0000, Val Loss: 313356419072.0000\n",
            "Epoch [240/300], Train Loss: 321904869376.0000, Val Loss: 313355698176.0000\n",
            "Epoch [250/300], Train Loss: 321904181248.0000, Val Loss: 313355010048.0000\n",
            "Epoch [260/300], Train Loss: 321903460352.0000, Val Loss: 313354321920.0000\n",
            "Epoch [270/300], Train Loss: 321902804992.0000, Val Loss: 313353633792.0000\n",
            "Epoch [280/300], Train Loss: 321902149632.0000, Val Loss: 313353043968.0000\n",
            "Epoch [290/300], Train Loss: 321901461504.0000, Val Loss: 313352355840.0000\n",
            "Epoch [300/300], Train Loss: 321900806144.0000, Val Loss: 313351667712.0000\n",
            "\n",
            "RMSE on the test set: 557402.7744\n"
          ]
        }
      ]
    },
    {
      "cell_type": "markdown",
      "source": [
        "### Нерйонка 17"
      ],
      "metadata": {
        "id": "qDKYr8UOVYjQ"
      }
    },
    {
      "cell_type": "code",
      "source": [
        "import torch.nn as nn\n",
        "\n",
        "model_nn17 = nn.Sequential(\n",
        "    nn.Linear(X_train.shape[1], 128),\n",
        "    nn.Sigmoid(),\n",
        "    nn.Linear(128, 128),\n",
        "    nn.Sigmoid(),\n",
        "    nn.Linear(128, 1)\n",
        ")\n",
        "name='Нейронка 17((128 нейронов)*2 + Sigmoid)'\n",
        "learn_model(model=model_nn17, model_name=name)\n",
        "\n",
        "rmse_nn17 = get_test_rmse(model_nn17)\n",
        "rmses[name] = rmse_nn17\n",
        "print(f\"\\nRMSE on the test set: {rmse_nn17:.4f}\")"
      ],
      "metadata": {
        "colab": {
          "base_uri": "https://localhost:8080/"
        },
        "id": "VU9yS83XVZki",
        "outputId": "9290fc1a-cbae-497a-c07d-a811af6dc1ea"
      },
      "execution_count": 30,
      "outputs": [
        {
          "output_type": "stream",
          "name": "stdout",
          "text": [
            "Epoch [10/300], Train Loss: 321918599168.0000, Val Loss: 313369231360.0000\n",
            "Epoch [20/300], Train Loss: 321917190144.0000, Val Loss: 313367822336.0000\n",
            "Epoch [30/300], Train Loss: 321915879424.0000, Val Loss: 313366544384.0000\n",
            "Epoch [40/300], Train Loss: 321914699776.0000, Val Loss: 313365430272.0000\n",
            "Epoch [50/300], Train Loss: 321913618432.0000, Val Loss: 313364348928.0000\n",
            "Epoch [60/300], Train Loss: 321912569856.0000, Val Loss: 313363267584.0000\n",
            "Epoch [70/300], Train Loss: 321911521280.0000, Val Loss: 313362186240.0000\n",
            "Epoch [80/300], Train Loss: 321910439936.0000, Val Loss: 313361137664.0000\n",
            "Epoch [90/300], Train Loss: 321909358592.0000, Val Loss: 313360089088.0000\n",
            "Epoch [100/300], Train Loss: 321908244480.0000, Val Loss: 313359040512.0000\n",
            "Epoch [110/300], Train Loss: 321907130368.0000, Val Loss: 313357860864.0000\n",
            "Epoch [120/300], Train Loss: 321905950720.0000, Val Loss: 313356713984.0000\n",
            "Epoch [130/300], Train Loss: 321904771072.0000, Val Loss: 313355534336.0000\n",
            "Epoch [140/300], Train Loss: 321903558656.0000, Val Loss: 313354354688.0000\n",
            "Epoch [150/300], Train Loss: 321902379008.0000, Val Loss: 313353207808.0000\n",
            "Epoch [160/300], Train Loss: 321901264896.0000, Val Loss: 313352060928.0000\n",
            "Epoch [170/300], Train Loss: 321900118016.0000, Val Loss: 313350946816.0000\n",
            "Epoch [180/300], Train Loss: 321898971136.0000, Val Loss: 313349832704.0000\n",
            "Epoch [190/300], Train Loss: 321897824256.0000, Val Loss: 313348653056.0000\n",
            "Epoch [200/300], Train Loss: 321896579072.0000, Val Loss: 313347473408.0000\n",
            "Epoch [210/300], Train Loss: 321895333888.0000, Val Loss: 313346228224.0000\n",
            "Epoch [220/300], Train Loss: 321894187008.0000, Val Loss: 313345048576.0000\n",
            "Epoch [230/300], Train Loss: 321892909056.0000, Val Loss: 313343836160.0000\n",
            "Epoch [240/300], Train Loss: 321891598336.0000, Val Loss: 313342525440.0000\n",
            "Epoch [250/300], Train Loss: 321890353152.0000, Val Loss: 313341247488.0000\n",
            "Epoch [260/300], Train Loss: 321889075200.0000, Val Loss: 313340035072.0000\n",
            "Epoch [270/300], Train Loss: 321887895552.0000, Val Loss: 313338855424.0000\n",
            "Epoch [280/300], Train Loss: 321886683136.0000, Val Loss: 313337643008.0000\n",
            "Epoch [290/300], Train Loss: 321885470720.0000, Val Loss: 313336496128.0000\n",
            "Epoch [300/300], Train Loss: 321884291072.0000, Val Loss: 313335283712.0000\n",
            "\n",
            "RMSE on the test set: 557388.1069\n"
          ]
        }
      ]
    },
    {
      "cell_type": "markdown",
      "source": [
        "### Нейронка 18"
      ],
      "metadata": {
        "id": "GQl__EFcVghX"
      }
    },
    {
      "cell_type": "code",
      "source": [
        "import torch.nn as nn\n",
        "\n",
        "model_nn18 = nn.Sequential(\n",
        "    nn.Linear(X_train.shape[1], 256),\n",
        "    nn.Sigmoid(),\n",
        "    nn.Linear(256, 256),\n",
        "    nn.Sigmoid(),\n",
        "    nn.Linear(256, 1)\n",
        ")\n",
        "name='Нейронка 18((256 нейронов)*2 + Sigmoid)'\n",
        "learn_model(model=model_nn18, model_name=name)\n",
        "\n",
        "rmse_nn18 = get_test_rmse(model_nn18)\n",
        "rmses[name] = rmse_nn18\n",
        "print(f\"\\nRMSE on the test set: {rmse_nn18:.4f}\")"
      ],
      "metadata": {
        "colab": {
          "base_uri": "https://localhost:8080/"
        },
        "id": "aOf6SdVaVln5",
        "outputId": "1a2daf29-4f10-4851-afad-7c1dd06cdc31"
      },
      "execution_count": 31,
      "outputs": [
        {
          "output_type": "stream",
          "name": "stdout",
          "text": [
            "Epoch [10/300], Train Loss: 321916534784.0000, Val Loss: 313366970368.0000\n",
            "Epoch [20/300], Train Loss: 321913913344.0000, Val Loss: 313364512768.0000\n",
            "Epoch [30/300], Train Loss: 321911947264.0000, Val Loss: 313362579456.0000\n",
            "Epoch [40/300], Train Loss: 321910079488.0000, Val Loss: 313360777216.0000\n",
            "Epoch [50/300], Train Loss: 321908244480.0000, Val Loss: 313358909440.0000\n",
            "Epoch [60/300], Train Loss: 321906376704.0000, Val Loss: 313357008896.0000\n",
            "Epoch [70/300], Train Loss: 321904345088.0000, Val Loss: 313355042816.0000\n",
            "Epoch [80/300], Train Loss: 321902379008.0000, Val Loss: 313353109504.0000\n",
            "Epoch [90/300], Train Loss: 321900347392.0000, Val Loss: 313351143424.0000\n",
            "Epoch [100/300], Train Loss: 321898283008.0000, Val Loss: 313349013504.0000\n",
            "Epoch [110/300], Train Loss: 321896153088.0000, Val Loss: 313346916352.0000\n",
            "Epoch [120/300], Train Loss: 321894023168.0000, Val Loss: 313344786432.0000\n",
            "Epoch [130/300], Train Loss: 321891794944.0000, Val Loss: 313342590976.0000\n",
            "Epoch [140/300], Train Loss: 321889533952.0000, Val Loss: 313340395520.0000\n",
            "Epoch [150/300], Train Loss: 321887305728.0000, Val Loss: 313338167296.0000\n",
            "Epoch [160/300], Train Loss: 321885110272.0000, Val Loss: 313336004608.0000\n",
            "Epoch [170/300], Train Loss: 321882849280.0000, Val Loss: 313333776384.0000\n",
            "Epoch [180/300], Train Loss: 321880621056.0000, Val Loss: 313331613696.0000\n",
            "Epoch [190/300], Train Loss: 321878360064.0000, Val Loss: 313329352704.0000\n",
            "Epoch [200/300], Train Loss: 321876131840.0000, Val Loss: 313327091712.0000\n",
            "Epoch [210/300], Train Loss: 321873870848.0000, Val Loss: 313324830720.0000\n",
            "Epoch [220/300], Train Loss: 321871609856.0000, Val Loss: 313322635264.0000\n",
            "Epoch [230/300], Train Loss: 321869348864.0000, Val Loss: 313320472576.0000\n",
            "Epoch [240/300], Train Loss: 321867186176.0000, Val Loss: 313318277120.0000\n",
            "Epoch [250/300], Train Loss: 321865023488.0000, Val Loss: 313316081664.0000\n",
            "Epoch [260/300], Train Loss: 321862828032.0000, Val Loss: 313313951744.0000\n",
            "Epoch [270/300], Train Loss: 321860698112.0000, Val Loss: 313311821824.0000\n",
            "Epoch [280/300], Train Loss: 321858535424.0000, Val Loss: 313309724672.0000\n",
            "Epoch [290/300], Train Loss: 321856438272.0000, Val Loss: 313307561984.0000\n",
            "Epoch [300/300], Train Loss: 321854275584.0000, Val Loss: 313305530368.0000\n",
            "\n",
            "RMSE on the test set: 557361.4751\n"
          ]
        }
      ]
    },
    {
      "cell_type": "markdown",
      "source": [
        "### Нейронка 19"
      ],
      "metadata": {
        "id": "93RyJWSCVhv5"
      }
    },
    {
      "cell_type": "code",
      "source": [
        "import torch.nn as nn\n",
        "\n",
        "model_nn19 = nn.Sequential(\n",
        "    nn.Linear(X_train.shape[1], 512),\n",
        "    nn.Sigmoid(),\n",
        "    nn.Linear(512, 512),\n",
        "    nn.Sigmoid(),\n",
        "    nn.Linear(512, 1)\n",
        ")\n",
        "name='Нейронка 19((512 нейронов)*2 + Sigmoid)'\n",
        "learn_model(model=model_nn19, model_name=name)\n",
        "\n",
        "rmse_nn19 = get_test_rmse(model_nn19)\n",
        "rmses[name] = rmse_nn19\n",
        "print(f\"\\nRMSE on the test set: {rmse_nn19:.4f}\")"
      ],
      "metadata": {
        "colab": {
          "base_uri": "https://localhost:8080/"
        },
        "id": "UEIjda6xVq3v",
        "outputId": "2f762513-2007-4083-c110-ca9daaa28c2c"
      },
      "execution_count": 32,
      "outputs": [
        {
          "output_type": "stream",
          "name": "stdout",
          "text": [
            "Epoch [10/300], Train Loss: 321913159680.0000, Val Loss: 313363496960.0000\n",
            "Epoch [20/300], Train Loss: 321909096448.0000, Val Loss: 313359630336.0000\n",
            "Epoch [30/300], Train Loss: 321905655808.0000, Val Loss: 313356189696.0000\n",
            "Epoch [40/300], Train Loss: 321902149632.0000, Val Loss: 313352683520.0000\n",
            "Epoch [50/300], Train Loss: 321898545152.0000, Val Loss: 313349144576.0000\n",
            "Epoch [60/300], Train Loss: 321894940672.0000, Val Loss: 313345572864.0000\n",
            "Epoch [70/300], Train Loss: 321891172352.0000, Val Loss: 313341870080.0000\n",
            "Epoch [80/300], Train Loss: 321887371264.0000, Val Loss: 313338036224.0000\n",
            "Epoch [90/300], Train Loss: 321883406336.0000, Val Loss: 313334136832.0000\n",
            "Epoch [100/300], Train Loss: 321879375872.0000, Val Loss: 313330139136.0000\n",
            "Epoch [110/300], Train Loss: 321875312640.0000, Val Loss: 313326075904.0000\n",
            "Epoch [120/300], Train Loss: 321871151104.0000, Val Loss: 313321979904.0000\n",
            "Epoch [130/300], Train Loss: 321867022336.0000, Val Loss: 313317851136.0000\n",
            "Epoch [140/300], Train Loss: 321862828032.0000, Val Loss: 313313755136.0000\n",
            "Epoch [150/300], Train Loss: 321858666496.0000, Val Loss: 313309593600.0000\n",
            "Epoch [160/300], Train Loss: 321854504960.0000, Val Loss: 313305464832.0000\n",
            "Epoch [170/300], Train Loss: 321850245120.0000, Val Loss: 313301303296.0000\n",
            "Epoch [180/300], Train Loss: 321846083584.0000, Val Loss: 313297174528.0000\n",
            "Epoch [190/300], Train Loss: 321841922048.0000, Val Loss: 313293045760.0000\n",
            "Epoch [200/300], Train Loss: 321837662208.0000, Val Loss: 313288916992.0000\n",
            "Epoch [210/300], Train Loss: 321833500672.0000, Val Loss: 313284722688.0000\n",
            "Epoch [220/300], Train Loss: 321829339136.0000, Val Loss: 313280626688.0000\n",
            "Epoch [230/300], Train Loss: 321825210368.0000, Val Loss: 313276530688.0000\n",
            "Epoch [240/300], Train Loss: 321821081600.0000, Val Loss: 313272401920.0000\n",
            "Epoch [250/300], Train Loss: 321816920064.0000, Val Loss: 313268273152.0000\n",
            "Epoch [260/300], Train Loss: 321812758528.0000, Val Loss: 313264209920.0000\n",
            "Epoch [270/300], Train Loss: 321808629760.0000, Val Loss: 313260048384.0000\n",
            "Epoch [280/300], Train Loss: 321804533760.0000, Val Loss: 313256050688.0000\n",
            "Epoch [290/300], Train Loss: 321800404992.0000, Val Loss: 313251954688.0000\n",
            "Epoch [300/300], Train Loss: 321796341760.0000, Val Loss: 313247924224.0000\n",
            "\n",
            "RMSE on the test set: 557309.9715\n"
          ]
        }
      ]
    },
    {
      "cell_type": "markdown",
      "source": [
        "### Нейронка 20"
      ],
      "metadata": {
        "id": "sMxKX94VVj9e"
      }
    },
    {
      "cell_type": "code",
      "source": [
        "import torch.nn as nn\n",
        "\n",
        "model_nn20 = nn.Sequential(\n",
        "    nn.Linear(X_train.shape[1], 1024),\n",
        "    nn.Sigmoid(),\n",
        "    nn.Linear(1024, 1024),\n",
        "    nn.Sigmoid(),\n",
        "    nn.Linear(1024, 1)\n",
        ")\n",
        "name='Нейронка 20((1024 нейронов)*2 + Sigmoid)'\n",
        "learn_model(model=model_nn20, model_name=name)\n",
        "\n",
        "rmse_nn20 = get_test_rmse(model_nn20)\n",
        "rmses[name] = rmse_nn20\n",
        "print(f\"\\nRMSE on the test set: {rmse_nn20:.4f}\")"
      ],
      "metadata": {
        "colab": {
          "base_uri": "https://localhost:8080/"
        },
        "id": "NSYBu6GaV0bX",
        "outputId": "e01728e8-ceed-4eb1-d60b-38c7817da1e3"
      },
      "execution_count": 33,
      "outputs": [
        {
          "output_type": "stream",
          "name": "stdout",
          "text": [
            "Epoch [10/300], Train Loss: 321906868224.0000, Val Loss: 313357074432.0000\n",
            "Epoch [20/300], Train Loss: 321900314624.0000, Val Loss: 313350651904.0000\n",
            "Epoch [30/300], Train Loss: 321893859328.0000, Val Loss: 313344196608.0000\n",
            "Epoch [40/300], Train Loss: 321887240192.0000, Val Loss: 313337675776.0000\n",
            "Epoch [50/300], Train Loss: 321880555520.0000, Val Loss: 313331056640.0000\n",
            "Epoch [60/300], Train Loss: 321873739776.0000, Val Loss: 313324273664.0000\n",
            "Epoch [70/300], Train Loss: 321866727424.0000, Val Loss: 313317294080.0000\n",
            "Epoch [80/300], Train Loss: 321859616768.0000, Val Loss: 313310281728.0000\n",
            "Epoch [90/300], Train Loss: 321852375040.0000, Val Loss: 313303040000.0000\n",
            "Epoch [100/300], Train Loss: 321845067776.0000, Val Loss: 313295863808.0000\n",
            "Epoch [110/300], Train Loss: 321837531136.0000, Val Loss: 313288327168.0000\n",
            "Epoch [120/300], Train Loss: 321829699584.0000, Val Loss: 313280528384.0000\n",
            "Epoch [130/300], Train Loss: 321821573120.0000, Val Loss: 313272500224.0000\n",
            "Epoch [140/300], Train Loss: 321813348352.0000, Val Loss: 313264340992.0000\n",
            "Epoch [150/300], Train Loss: 321804894208.0000, Val Loss: 313255952384.0000\n",
            "Epoch [160/300], Train Loss: 321796276224.0000, Val Loss: 313247432704.0000\n",
            "Epoch [170/300], Train Loss: 321787625472.0000, Val Loss: 313238847488.0000\n",
            "Epoch [180/300], Train Loss: 321778876416.0000, Val Loss: 313230196736.0000\n",
            "Epoch [190/300], Train Loss: 321770160128.0000, Val Loss: 313221578752.0000\n",
            "Epoch [200/300], Train Loss: 321761476608.0000, Val Loss: 313212993536.0000\n",
            "Epoch [210/300], Train Loss: 321752858624.0000, Val Loss: 313204473856.0000\n",
            "Epoch [220/300], Train Loss: 321744306176.0000, Val Loss: 313196052480.0000\n",
            "Epoch [230/300], Train Loss: 321735852032.0000, Val Loss: 313187663872.0000\n",
            "Epoch [240/300], Train Loss: 321727430656.0000, Val Loss: 313179308032.0000\n",
            "Epoch [250/300], Train Loss: 321719009280.0000, Val Loss: 313170952192.0000\n",
            "Epoch [260/300], Train Loss: 321710555136.0000, Val Loss: 313162629120.0000\n",
            "Epoch [270/300], Train Loss: 321702133760.0000, Val Loss: 313154240512.0000\n",
            "Epoch [280/300], Train Loss: 321693712384.0000, Val Loss: 313145917440.0000\n",
            "Epoch [290/300], Train Loss: 321685291008.0000, Val Loss: 313137594368.0000\n",
            "Epoch [300/300], Train Loss: 321676967936.0000, Val Loss: 313129369600.0000\n",
            "\n",
            "RMSE on the test set: 557203.9509\n"
          ]
        }
      ]
    },
    {
      "cell_type": "markdown",
      "source": [
        "## Результаты разных настроек"
      ],
      "metadata": {
        "id": "sItqm2qIXwOE"
      }
    },
    {
      "cell_type": "code",
      "source": [
        "from prettytable import PrettyTable\n",
        "\n",
        "table = PrettyTable()\n",
        "table.title = \"Обучение нейронных сетей на 300 эпох без scale датасета\"\n",
        "table.field_names = [\"Конфигурация модели\", \"RMSE\", \"Время работы, сек.\"]\n",
        "\n",
        "for k,v in rmses.items():\n",
        "  name, rmse = k,v\n",
        "\n",
        "  table.add_row([name, f\"{v:.4f}\", f\"{work_time[name]:.4f}\"])\n",
        "\n",
        "print(table)"
      ],
      "metadata": {
        "colab": {
          "base_uri": "https://localhost:8080/"
        },
        "id": "I7rK_yD5XvEL",
        "outputId": "3adf6e42-a2f8-4ddd-8afb-b9c75c84777c"
      },
      "execution_count": 34,
      "outputs": [
        {
          "output_type": "stream",
          "name": "stdout",
          "text": [
            "+-----------------------------------------------------------------------------+\n",
            "|           Обучение нейронных сетей на 300 эпох без scale датасета           |\n",
            "+------------------------------------------+-------------+--------------------+\n",
            "|           Конфигурация модели            |     RMSE    | Время работы, сек. |\n",
            "+------------------------------------------+-------------+--------------------+\n",
            "|            Линейная регрессия            | 553982.3142 |       0.2809       |\n",
            "|      Нейронка 1(64 нейронов + ReLU)      | 492477.4342 |       2.4409       |\n",
            "|     Нейронка 2(128 нейронов + ReLU)      | 424945.0407 |       4.1212       |\n",
            "|     Нейронка 3(256 нейронов + ReLU)      | 385117.9247 |       9.8603       |\n",
            "|     Нейронка 4(512 нейронов + ReLU)      | 362359.4206 |      20.7322       |\n",
            "|     Нейронка 5(1024 нейронов + ReLU)     | 325155.4626 |      70.1576       |\n",
            "|    Нейронка 6(64 нейронов + Sigmoid)     | 557409.0940 |       4.0184       |\n",
            "|    Нейронка 7(128 нейронов + Sigmoid)    | 557393.2215 |       8.4720       |\n",
            "|    Нейронка 8(256 нейронов + Sigmoid)    | 557369.5588 |      18.4469       |\n",
            "|    Нейронка 9(512 нейронов + Sigmoid)    | 557322.3775 |      34.6626       |\n",
            "|   Нейронка 10(1024 нейронов + Sigmoid)   | 557215.7124 |      105.9274      |\n",
            "|   Нейронка 11((64 нейронов)*2 + ReLU)    | 338123.4781 |       5.4172       |\n",
            "|   Нейронка 12((128 нейронов)*2 + ReLU)   | 245538.8505 |      16.2782       |\n",
            "|   Нейронка 13((256 нейронов)*2 + ReLU)   | 202610.6073 |      58.0070       |\n",
            "|   Нейронка 14((512 нейронов)*2 + ReLU)   | 202219.4724 |      163.6803      |\n",
            "|  Нейронка 15((1024 нейронов)*2 + ReLU)   | 201005.8445 |      593.5651      |\n",
            "|  Нейронка 16((64 нейронов)*2 + Sigmoid)  | 557402.7744 |       9.7172       |\n",
            "| Нейронка 17((128 нейронов)*2 + Sigmoid)  | 557388.1069 |      20.3547       |\n",
            "| Нейронка 18((256 нейронов)*2 + Sigmoid)  | 557361.4751 |      56.6605       |\n",
            "| Нейронка 19((512 нейронов)*2 + Sigmoid)  | 557309.9715 |      207.9837      |\n",
            "| Нейронка 20((1024 нейронов)*2 + Sigmoid) | 557203.9509 |      820.2326      |\n",
            "+------------------------------------------+-------------+--------------------+\n"
          ]
        }
      ]
    },
    {
      "cell_type": "code",
      "source": [
        "import matplotlib.pyplot as plt\n",
        "\n",
        "nn_rmses = {k: v for k, v in rmses.items() if 'Нейронка' in k}\n",
        "\n",
        "neurons = [64, 128, 256, 512, 1024]\n",
        "\n",
        "rmse_groups = {\n",
        "    'Single Layer + ReLU': [],\n",
        "    'Single Layer + Sigmoid': [],\n",
        "    'Two Layers + ReLU': [],\n",
        "    'Two Layers + Sigmoid': []\n",
        "}\n",
        "\n",
        "for name, rmse in nn_rmses.items():\n",
        "    if 'ReLU' in name:\n",
        "        if '*2' in name:\n",
        "            rmse_groups['Two Layers + ReLU'].append(rmse)\n",
        "        else:\n",
        "            rmse_groups['Single Layer + ReLU'].append(rmse)\n",
        "    elif 'Sigmoid' in name:\n",
        "        if '*2' in name:\n",
        "            rmse_groups['Two Layers + Sigmoid'].append(rmse)\n",
        "        else:\n",
        "            rmse_groups['Single Layer + Sigmoid'].append(rmse)\n",
        "\n",
        "for key in rmse_groups:\n",
        "    sorted_pairs = sorted(zip(neurons, rmse_groups[key]))\n",
        "    rmse_groups[key] = [rmse for neuron, rmse in sorted_pairs]\n",
        "\n",
        "plt.figure(figsize=(10, 6))\n",
        "\n",
        "for label, data in rmse_groups.items():\n",
        "    if data:\n",
        "        plt.plot(neurons, data, marker='o', label=label)\n",
        "\n",
        "plt.xlabel('Количество нейронов в скрытых слоях')\n",
        "plt.ylabel('RMSE')\n",
        "plt.title('RMSE нейронных сетей в зависимости от количества нейронов и архитектуры')\n",
        "plt.xticks(neurons)\n",
        "plt.legend()\n",
        "plt.grid(True)\n",
        "plt.show()"
      ],
      "metadata": {
        "colab": {
          "base_uri": "https://localhost:8080/",
          "height": 564
        },
        "id": "wh4OsSVDb2_1",
        "outputId": "217b6046-b7b2-47bc-d3f9-851705e96742"
      },
      "execution_count": 35,
      "outputs": [
        {
          "output_type": "display_data",
          "data": {
            "text/plain": [
              "<Figure size 1000x600 with 1 Axes>"
            ],
            "image/png": "[encoded data removed]"
          },
          "metadata": {}
        }
      ]
    },
    {
      "cell_type": "code",
      "source": [
        "import matplotlib.pyplot as plt\n",
        "\n",
        "nn_work_time = {k: v for k, v in work_time.items() if 'Нейронка' in k}\n",
        "\n",
        "neurons = [64, 128, 256, 512, 1024]\n",
        "\n",
        "rmse_groups = {\n",
        "    'Single Layer + ReLU': [],\n",
        "    'Single Layer + Sigmoid': [],\n",
        "    'Two Layers + ReLU': [],\n",
        "    'Two Layers + Sigmoid': []\n",
        "}\n",
        "\n",
        "for name, rmse in nn_work_time.items():\n",
        "    if 'ReLU' in name:\n",
        "        if '*2' in name:\n",
        "            rmse_groups['Two Layers + ReLU'].append(rmse)\n",
        "        else:\n",
        "            rmse_groups['Single Layer + ReLU'].append(rmse)\n",
        "    elif 'Sigmoid' in name:\n",
        "        if '*2' in name:\n",
        "            rmse_groups['Two Layers + Sigmoid'].append(rmse)\n",
        "        else:\n",
        "            rmse_groups['Single Layer + Sigmoid'].append(rmse)\n",
        "\n",
        "for key in rmse_groups:\n",
        "    sorted_pairs = sorted(zip(neurons, rmse_groups[key]))\n",
        "    rmse_groups[key] = [rmse for neuron, rmse in sorted_pairs]\n",
        "\n",
        "plt.figure(figsize=(10, 6))\n",
        "\n",
        "for label, data in rmse_groups.items():\n",
        "    if data:\n",
        "        plt.plot(neurons, data, marker='o', label=label)\n",
        "\n",
        "plt.xlabel('Количество нейронов в скрытых слоях')\n",
        "plt.ylabel('Время работы')\n",
        "plt.title('Время работы нейронных сетей в зависимости от количества нейронов и архитектуры, сек.')\n",
        "plt.xticks(neurons)\n",
        "plt.legend()\n",
        "plt.grid(True)\n",
        "plt.show()"
      ],
      "metadata": {
        "id": "52ne-e2rHuHp",
        "outputId": "7c79f6df-6ddd-436e-dc37-584a299e5143",
        "colab": {
          "base_uri": "https://localhost:8080/",
          "height": 564
        }
      },
      "execution_count": 36,
      "outputs": [
        {
          "output_type": "display_data",
          "data": {
            "text/plain": [
              "<Figure size 1000x600 with 1 Axes>"
            ],
            "image/png": "[encoded data removed]"
          },
          "metadata": {}
        }
      ]
    }
  ]
}